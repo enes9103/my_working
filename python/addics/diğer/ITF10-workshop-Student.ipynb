{
 "cells": [
  {
   "cell_type": "code",
   "execution_count": null,
   "metadata": {},
   "outputs": [],
   "source": []
  },
  {
   "cell_type": "markdown",
   "metadata": {},
   "source": [
    "1-QUESTION:Write a calculator function which takes orderly first number, operator and second number than gives the result."
   ]
  },
  {
   "cell_type": "code",
   "execution_count": 2,
   "metadata": {},
   "outputs": [
    {
     "data": {
      "text/plain": [
       "-2"
      ]
     },
     "execution_count": 2,
     "metadata": {},
     "output_type": "execute_result"
    }
   ],
   "source": [
    "def calculator():\n",
    "    operation=input()\n",
    "    a,o,b=int(operation[0]),operation[1],int(operation[2])\n",
    "    if o==\"+\":\n",
    "        return a+b\n",
    "    elif o==\"-\":\n",
    "        return a-b\n",
    "    elif o==\"*\":\n",
    "        return a*b\n",
    "    elif o==a/b:\n",
    "        return a/b\n",
    "    else:\n",
    "        return(\"please enter avalid operator sign\")\n",
    "calculator()"
   ]
  },
  {
   "cell_type": "code",
   "execution_count": null,
   "metadata": {},
   "outputs": [],
   "source": [
    "calculator = {\"+\": (lambda x, y : x + y),\n",
    "              \"-\": (lambda x, y : x - y),\n",
    "              \"*\": (lambda x, y : x * y),\n",
    "              \"/\": (lambda x, y : x / y)}"
   ]
  },
  {
   "cell_type": "markdown",
   "metadata": {},
   "source": [
    "2-QUESTION:Write a function that calculates factorial of a given number."
   ]
  },
  {
   "cell_type": "code",
   "execution_count": 4,
   "metadata": {},
   "outputs": [],
   "source": [
    "def my_fact(n):\n",
    "    if n<=1:\n",
    "        return 1\n",
    "    result=n*my_fact(n-1)\n",
    "    return result"
   ]
  },
  {
   "cell_type": "code",
   "execution_count": 7,
   "metadata": {},
   "outputs": [
    {
     "name": "stdout",
     "output_type": "stream",
     "text": [
      "My factorial equals 120\n"
     ]
    }
   ],
   "source": [
    "print(\"My factorial equals {}\".format(my_fact(int(input()))))"
   ]
  },
  {
   "cell_type": "markdown",
   "metadata": {},
   "source": [
    "3-QUESTION:This is an interview question asked by Amazon.\n",
    "\n",
    "Given an array of numbers, find the maximum sum of any contiguous subarray of the array.\n",
    "For example, given the array [34, -50, 42, 14, -5, 86], the maximum sum would be 137, since we would take elements 42, 14, -5, and 86.\n",
    "Given the array [-5, -1, -8, -9], the maximum sum would be 0, since we would not take any elements."
   ]
  },
  {
   "cell_type": "code",
   "execution_count": 8,
   "metadata": {},
   "outputs": [],
   "source": [
    "def subarray_finder(lst):\n",
    "  sum = 0\n",
    "  a = 0\n",
    "  for i in lst:\n",
    "    if a == 0:\n",
    "      a = i\n",
    "      sum += i\n",
    "    elif (sum+i) < a :\n",
    "      a = 0\n",
    "      sum = 0\n",
    "    else:\n",
    "      sum += i  \n",
    "  return sum"
   ]
  },
  {
   "cell_type": "code",
   "execution_count": 10,
   "metadata": {},
   "outputs": [],
   "source": [
    "def subarray_finder(liste):\n",
    "    if sum(liste)>0:\n",
    "        newlist = []\n",
    "        for i in range(len(liste)):\n",
    "            sayı = sum(liste[i:len(liste)])\n",
    "            newlist.append(sayı)\n",
    "        return max(newlist)\n",
    "    else:\n",
    "        return 0"
   ]
  },
  {
   "cell_type": "code",
   "execution_count": 9,
   "metadata": {},
   "outputs": [
    {
     "data": {
      "text/plain": [
       "137"
      ]
     },
     "execution_count": 9,
     "metadata": {},
     "output_type": "execute_result"
    }
   ],
   "source": [
    "subarray_finder( [34, -50, 42, 14, -5, 86])"
   ]
  },
  {
   "cell_type": "code",
   "execution_count": null,
   "metadata": {},
   "outputs": [],
   "source": []
  },
  {
   "cell_type": "markdown",
   "metadata": {},
   "source": [
    "4-QUESTION: Interview Level = Medium\n",
    "    \n",
    "Given a string s, find the length of the longest substring without repeating characters.\n"
   ]
  },
  {
   "cell_type": "code",
   "execution_count": 30,
   "metadata": {},
   "outputs": [],
   "source": [
    "def lengthOfLongestSubstring(x):\n",
    "    smax, temp = \"\",\"\"\n",
    "    for i in s:\n",
    "        if i in temp:\n",
    "            if len(temp)>len(smax)\n",
    "                smax=temp\n",
    "            while i in temp:\n",
    "                temp=temp[1:]\n",
    "        temp+=i\n",
    "    return (smax*(len(smax)>len(temp))+temp*(1-(len(smax)>len(temp))), max(len(smax), len(temp)))"
   ]
  },
  {
   "cell_type": "code",
   "execution_count": null,
   "metadata": {},
   "outputs": [],
   "source": [
    "def substring(text:str):\n",
    "    long = \"\"\n",
    "    for i in range(len(text)):\n",
    "        temp = \"\"\n",
    "        for j in range(i, len(text)):\n",
    "            if text[j] in temp:\n",
    "                break\n",
    "            temp += text[j]\n",
    "        if len(temp) > len(long):\n",
    "            long = temp\n",
    "    return long, len(long)"
   ]
  },
  {
   "cell_type": "code",
   "execution_count": 31,
   "metadata": {},
   "outputs": [
    {
     "data": {
      "text/plain": [
       "('hgfd', 4)"
      ]
     },
     "execution_count": 31,
     "metadata": {},
     "output_type": "execute_result"
    }
   ],
   "source": [
    "lengthOfLongestSubstring('abcbdhhgfd')"
   ]
  },
  {
   "cell_type": "code",
   "execution_count": null,
   "metadata": {},
   "outputs": [],
   "source": []
  },
  {
   "cell_type": "markdown",
   "metadata": {},
   "source": [
    "5.QUESTION:Create your own module named as my_module.py which contains a function printing Hello 'Your Name' when called. \n",
    "Also create a dictionary object which keeps name and profession of you inside your module. Finally put the calculator function \n",
    "in your module and call it with both import from your interpreter and from your command prompt. "
   ]
  },
  {
   "cell_type": "code",
   "execution_count": 9,
   "metadata": {},
   "outputs": [],
   "source": []
  },
  {
   "cell_type": "code",
   "execution_count": 10,
   "metadata": {},
   "outputs": [
    {
     "name": "stdout",
     "output_type": "stream",
     "text": [
      "Hello Michael\n"
     ]
    }
   ],
   "source": []
  },
  {
   "cell_type": "code",
   "execution_count": 8,
   "metadata": {},
   "outputs": [
    {
     "data": {
      "text/plain": [
       "{'name': 'michael', 'profession': 'DS'}"
      ]
     },
     "execution_count": 8,
     "metadata": {},
     "output_type": "execute_result"
    }
   ],
   "source": []
  },
  {
   "cell_type": "code",
   "execution_count": 7,
   "metadata": {},
   "outputs": [
    {
     "name": "stdout",
     "output_type": "stream",
     "text": [
      "5 + 4\n"
     ]
    },
    {
     "data": {
      "text/plain": [
       "9"
      ]
     },
     "execution_count": 7,
     "metadata": {},
     "output_type": "execute_result"
    }
   ],
   "source": []
  },
  {
   "cell_type": "code",
   "execution_count": null,
   "metadata": {},
   "outputs": [],
   "source": []
  },
  {
   "cell_type": "markdown",
   "metadata": {},
   "source": [
    "6. QUESTION:Use the calculator you created before and name it as calculator2. Implement Full 'Exception Handling' while callling calculator2. Try to run your function, if exception occurs write 'Please enter a valid operator and valid number values' and finally write 'Calculator works just fine' for every run."
   ]
  },
  {
   "cell_type": "code",
   "execution_count": 3,
   "metadata": {},
   "outputs": [],
   "source": []
  },
  {
   "cell_type": "code",
   "execution_count": 7,
   "metadata": {},
   "outputs": [
    {
     "name": "stdout",
     "output_type": "stream",
     "text": [
      "5 \n",
      "+\n",
      "şi\n",
      "Please enter a valid operator and valid number values\n",
      "Calculator works just fine\n"
     ]
    }
   ],
   "source": []
  },
  {
   "cell_type": "code",
   "execution_count": null,
   "metadata": {},
   "outputs": [],
   "source": []
  }
 ],
 "metadata": {
  "kernelspec": {
   "display_name": "Python 3",
   "language": "python",
   "name": "python3"
  },
  "language_info": {
   "codemirror_mode": {
    "name": "ipython",
    "version": 3
   },
   "file_extension": ".py",
   "mimetype": "text/x-python",
   "name": "python",
   "nbconvert_exporter": "python",
   "pygments_lexer": "ipython3",
   "version": "3.9.7"
  }
 },
 "nbformat": 4,
 "nbformat_minor": 4
}
