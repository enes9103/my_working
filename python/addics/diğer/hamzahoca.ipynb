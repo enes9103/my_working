{
 "cells": [
  {
   "cell_type": "markdown",
   "id": "b2d1683d",
   "metadata": {},
   "source": [
    "Task : Create a list consisting of Fibonacci numbers from 1 to 55 using control flow statements.\n",
    "\n",
    "The desired output is like :\n",
    "\n",
    "fibonacci →  [1, 1, 2, 3, 5, 8, 13, 21, 34, 55]"
   ]
  },
  {
   "cell_type": "code",
   "execution_count": 1,
   "id": "1e3c592f",
   "metadata": {},
   "outputs": [
    {
     "name": "stdout",
     "output_type": "stream",
     "text": [
      "[1, 1, 2, 3, 5, 8, 13, 21, 34, 55]\n"
     ]
    }
   ],
   "source": [
    "a = 1\n",
    "b = 1\n",
    "fibonacci = [a,b]\n",
    "while b < 55:\n",
    "    a,b = b,a+b\n",
    "    fibonacci.append(b)\n",
    "print(fibonacci)"
   ]
  },
  {
   "cell_type": "code",
   "execution_count": 2,
   "id": "8954c148",
   "metadata": {},
   "outputs": [
    {
     "data": {
      "text/plain": [
       "[1, 1, 2, 3, 5, 8, 13, 21, 34, 55]"
      ]
     },
     "execution_count": 2,
     "metadata": {},
     "output_type": "execute_result"
    }
   ],
   "source": [
    "fibonacci = [1,1]\n",
    "h = 0\n",
    "while True:\n",
    "    sayı = fibonacci[h]+fibonacci[h+1]\n",
    "    fibonacci.append(sayı)\n",
    "    h +=1\n",
    "    if fibonacci[-1]==55:\n",
    "        break\n",
    "fibonacci"
   ]
  },
  {
   "cell_type": "markdown",
   "id": "45c840dc",
   "metadata": {},
   "source": [
    "We have a loud talking parrot. We are in trouble if the parrot is talking and the hour is before 6 or after 21.\n",
    "Define a function taking two parameters (talking and hour) to return True if we are in trouble. The argument to  talking parameter can only be True or False whether it is talking or not. The argument to hour parameter should be the current hour time in the range of 0 to 23.\n",
    "\n",
    "For example:\n",
    "\n",
    "print(parrot_trouble(True, 5))\n",
    "\n",
    "True\n",
    "\n",
    "print(parrot_trouble(True, 8))\n",
    "\n",
    "False\n",
    "\n",
    "print(parrot_trouble(False, 22))\n",
    "\n",
    "False\n"
   ]
  },
  {
   "cell_type": "code",
   "execution_count": 2,
   "id": "550a89e9",
   "metadata": {},
   "outputs": [
    {
     "name": "stdout",
     "output_type": "stream",
     "text": [
      "True\n",
      "False\n"
     ]
    }
   ],
   "source": [
    "def parrot_trouble(talking,hour):\n",
    "    if talking == True and (hour<6):\n",
    "        return True\n",
    "    elif talking == True and (24>hour>21):\n",
    "        return True\n",
    "    else:\n",
    "        return False\n",
    "print(parrot_trouble(True, 5))\n",
    "print(parrot_trouble(False, 22))"
   ]
  },
  {
   "cell_type": "markdown",
   "id": "5f6b9b2e",
   "metadata": {},
   "source": [
    "Task : Print the prime numbers which are between 1 to entered limit number (n).\n",
    "\n",
    "You can use a nested for loop.\n",
    "Collect all these numbers into a list\n",
    "The desired output for n=100 :\n",
    "\n",
    "[2, 3, 5, 7, 11, 13, 17, 19, 23, 29, 31, 37, 41, 43, 47, 53, 59,\n",
    "61, 67, 71, 73, 79, 83, 89, 97]"
   ]
  },
  {
   "cell_type": "code",
   "execution_count": 9,
   "id": "2143e8d3",
   "metadata": {},
   "outputs": [
    {
     "name": "stdout",
     "output_type": "stream",
     "text": [
      "[2, 3, 5, 7, 11, 13, 17, 19, 23, 29, 31, 37, 41, 43, 47, 53, 59, 61, 67, 71, 73, 79, 83, 89, 97]\n"
     ]
    }
   ],
   "source": [
    "prime_num = []\n",
    "n = 100\n",
    "for i in range(2,n+1):\n",
    "    for j in range(2,i):\n",
    "        if (i % j) == 0:\n",
    "            break\n",
    "    else:\n",
    "        prime_num.append(i)\n",
    "            \n",
    "print(prime_num)"
   ]
  },
  {
   "cell_type": "code",
   "execution_count": null,
   "id": "aa195827",
   "metadata": {},
   "outputs": [],
   "source": [
    "def isPrime(number):\n",
    "     prime = True\n",
    "     for i in range(2,number):\n",
    "         if number % i == 0:\n",
    "             prime = False\n",
    "             break\n",
    "     return prime"
   ]
  },
  {
   "cell_type": "markdown",
   "id": "3fcf1457",
   "metadata": {},
   "source": [
    "Cümledeki sayı ve harflerin sayısını bulan bir fonksiyon yazalım\n",
    "print(harf_sayi_sayisi(\"10'a kadar saysam ve sonrasında hayat bayram olsa.\")) --> Harfler: 39, Sayılar: 2"
   ]
  },
  {
   "cell_type": "code",
   "execution_count": 11,
   "id": "64dc783c",
   "metadata": {},
   "outputs": [
    {
     "name": "stdout",
     "output_type": "stream",
     "text": [
      "cümlenizi giriniz:1050'a kadar saysam ve sonrasında hayat bayram olsa.\n",
      "Harf sayısı : 39, sayıların sayısı : 4\n"
     ]
    }
   ],
   "source": [
    "text = input(\"cümlenizi giriniz:\")\n",
    "alpha= 0\n",
    "numeric = 0\n",
    "for i in text:\n",
    "    if i.isalpha():\n",
    "        alpha +=1\n",
    "    elif i.isnumeric():\n",
    "        numeric +=1\n",
    "    \n",
    "print(f\"Harf sayısı : {alpha}, sayıların sayısı : {numeric}\")"
   ]
  },
  {
   "cell_type": "markdown",
   "id": "2cb8a607",
   "metadata": {},
   "source": [
    "1- Given two arrays of strings a1 and a2 return a sorted array r in lexicographical order of the strings of a1 which are substrings of strings of a2.\n",
    "\n",
    "Example 1: a1 = [\"arp\", \"live\", \"strong\"]\n",
    "\n",
    "a2 = [\"lively\", \"alive\", \"harp\", \"sharp\", \"armstrong\"]\n",
    "\n",
    "returns [\"arp\", \"live\", \"strong\"]\n",
    "\n",
    "Example 2: a1 = [\"tarp\", \"mice\", \"bull\"]\n",
    "\n",
    "a2 = [\"lively\", \"alive\", \"harp\", \"sharp\", \"armstrong\"]\n",
    "\n",
    "returns []"
   ]
  },
  {
   "cell_type": "code",
   "execution_count": 17,
   "id": "06881bd0",
   "metadata": {},
   "outputs": [
    {
     "ename": "SyntaxError",
     "evalue": "invalid syntax (<ipython-input-17-548d0d10e5ca>, line 3)",
     "output_type": "error",
     "traceback": [
      "\u001b[1;36m  File \u001b[1;32m\"<ipython-input-17-548d0d10e5ca>\"\u001b[1;36m, line \u001b[1;32m3\u001b[0m\n\u001b[1;33m    a1 in a2\u001b[0m\n\u001b[1;37m    ^\u001b[0m\n\u001b[1;31mSyntaxError\u001b[0m\u001b[1;31m:\u001b[0m invalid syntax\n"
     ]
    }
   ],
   "source": [
    "a1 = [\"arp\", \"live\", \"strong\"]\n",
    "a2 = [\"lively\", \"alive\", \"harp\", \"sharp\", \"armstrong\",[\"arp\", \"live\", \"strong\"]\n",
    "a1 in a2"
   ]
  },
  {
   "cell_type": "code",
   "execution_count": 12,
   "id": "30aee56b",
   "metadata": {},
   "outputs": [
    {
     "data": {
      "text/plain": [
       "['ar', 'live', 'strong']"
      ]
     },
     "execution_count": 12,
     "metadata": {},
     "output_type": "execute_result"
    }
   ],
   "source": [
    "def döndür(a1,a2):\n",
    "    for i in a2:\n",
    "        for j in a1:\n",
    "            if j in i:\n",
    "                return sorted(a1)\n",
    "        else:\n",
    "            return []\n",
    "döndür([\"ar\", \"live\", \"strong\"],[\"lively\", \"alive\", \"harp\", \"sharp\", \"armstrong\"])"
   ]
  },
  {
   "cell_type": "code",
   "execution_count": 13,
   "id": "ab25bbf7",
   "metadata": {},
   "outputs": [
    {
     "data": {
      "text/plain": [
       "[]"
      ]
     },
     "execution_count": 13,
     "metadata": {},
     "output_type": "execute_result"
    }
   ],
   "source": [
    "döndür( [\"tarp\", \"mice\", \"bull\"],[\"lively\", \"alive\", \"harp\", \"sharp\", \"armstrong\"])"
   ]
  },
  {
   "cell_type": "markdown",
   "id": "54fb5515",
   "metadata": {},
   "source": [
    " Complete the function scramble(str1, str2) that returns true if a portion of str1 characters can be rearranged to match str2, otherwise returns false.\n",
    "\n",
    "Notes:\n",
    "\n",
    "Only lower case letters will be used (a-z). No punctuation or digits will be included. Performance needs to be considered Input strings s1 and s2 are null terminated. Examples scramble('rkqodlw', 'world') ==> True scramble('cedewaraaossoqqyt', 'codewars') ==> True scramble('katas', 'steak') ==> False"
   ]
  },
  {
   "cell_type": "code",
   "execution_count": 20,
   "id": "a6545189",
   "metadata": {},
   "outputs": [
    {
     "data": {
      "text/plain": [
       "False"
      ]
     },
     "execution_count": 20,
     "metadata": {},
     "output_type": "execute_result"
    }
   ],
   "source": [
    "def scramble(str1,str2):\n",
    "    for i in str1:\n",
    "        for j in str2:\n",
    "            if j in i:\n",
    "                return True\n",
    "            else:\n",
    "                return False\n",
    "scramble('cedewaraaossoqqyt', 'codewars')\n",
    "scramble('katas', 'steak')"
   ]
  },
  {
   "cell_type": "code",
   "execution_count": 21,
   "id": "6c819762",
   "metadata": {},
   "outputs": [
    {
     "data": {
      "text/plain": [
       "True"
      ]
     },
     "execution_count": 21,
     "metadata": {},
     "output_type": "execute_result"
    }
   ],
   "source": [
    "def scramble(str1,str2):\n",
    "    for i in str2:\n",
    "        if i in str1:\n",
    "            return True\n",
    "        else:\n",
    "            return False\n",
    "scramble('cedewaraaossoqqyt', 'codewars')"
   ]
  },
  {
   "cell_type": "code",
   "execution_count": null,
   "id": "ac64a192",
   "metadata": {},
   "outputs": [],
   "source": [
    "def scramble(str1,str2):\n",
    "    if str1.isalpha() and str2.isalpha():\n",
    "        if set(str2) & set(str1)== set(str2):\n",
    "            return True\n",
    "        else:\n",
    "            return False\n",
    "    else:\n",
    "        return \"you are enter the punctuation or digits.\""
   ]
  },
  {
   "cell_type": "markdown",
   "id": "b91a26d7",
   "metadata": {},
   "source": [
    "Cup Swapping\n",
    "There are three cups on a table, at positions A, B, and C. At the start, there is a ball hidden under the cup at position B.\n",
    "However, I perform several swaps on the cups, which is notated as two letters. For example, if I swap the cups at positions A and B, I could notate this as AB or BA.\n",
    "Create a function that returns the letter position that the ball is at, once I finish swapping the cups. The swaps will be given to you as a list.\n",
    "Worked Example\n",
    "cup_swapping([\"AB\", \"CA\", \"AB\"]) ➞ \"C\"\n",
    "\n",
    "# Ball begins at position B.\n",
    "# Cups A and B swap, so the ball is at position A.\n",
    "# Cups C and A swap, so the ball is at position C.\n",
    "# Cups A and B swap, but the ball is at position C, so it doesn't move.\n",
    "Examples\n",
    "cup_swapping([\"AB\", \"CA\"]) ➞ \"C\"\n",
    "\n",
    "cup_swapping([\"AC\", \"CA\", \"CA\", \"AC\"]) ➞ \"B\"\n",
    "\n",
    "cup_swapping([\"BA\", \"AC\", \"CA\", \"BC\"]) ➞ \"A\"\n",
    "Notes\n",
    "A swap could be notated in two different ways, since both ways end up with the same outcome.\n",
    "All swaps will be notated as capital letters and will be valid.\n",
    "You cannot swap a cup with itself."
   ]
  },
  {
   "cell_type": "code",
   "execution_count": 32,
   "id": "5dbb43e5",
   "metadata": {},
   "outputs": [
    {
     "data": {
      "text/plain": [
       "'1r1ba'"
      ]
     },
     "execution_count": 32,
     "metadata": {},
     "output_type": "execute_result"
    }
   ],
   "source": [
    "new = \"araba\"\n",
    "new1=new.replace(\"a\",\"1\",2)\n",
    "new1"
   ]
  },
  {
   "cell_type": "code",
   "execution_count": 23,
   "id": "a21e1b89",
   "metadata": {},
   "outputs": [
    {
     "name": "stdout",
     "output_type": "stream",
     "text": [
      "Pozisyonları A B C yi virgül kullanarak giriniz:ab,ca,bc,ac\n"
     ]
    },
    {
     "data": {
      "text/plain": [
       "'A'"
      ]
     },
     "execution_count": 23,
     "metadata": {},
     "output_type": "execute_result"
    }
   ],
   "source": [
    "def topubul():\n",
    "    liste = input(\"Pozisyonları A B C yi virgül kullanarak giriniz:\").upper().split(\",\")\n",
    "    yer = \"B\"\n",
    "    for i in liste:\n",
    "        if yer in i:\n",
    "            yeni_yer = i.replace(yer,\"\")\n",
    "            yer=yeni_yer\n",
    "            return yer\n",
    "        else:\n",
    "            return yer\n",
    "topubul()"
   ]
  },
  {
   "cell_type": "code",
   "execution_count": 58,
   "id": "52a95617",
   "metadata": {},
   "outputs": [
    {
     "name": "stdout",
     "output_type": "stream",
     "text": [
      "A\n"
     ]
    }
   ],
   "source": [
    "yer1 = \"B\"\n",
    "liste1 = [\"AB\"]\n",
    "for i in liste1:\n",
    "    if yer1 in i:\n",
    "        yeniyer = i.replace(yer1,\"\")\n",
    "print(yeniyer)"
   ]
  },
  {
   "cell_type": "code",
   "execution_count": 24,
   "id": "6e229d00",
   "metadata": {},
   "outputs": [
    {
     "name": "stdout",
     "output_type": "stream",
     "text": [
      "Pozisyonları A B C yi virgül kullanarak giriniz:AC,CA,CA,AC\n"
     ]
    },
    {
     "data": {
      "text/plain": [
       "'B'"
      ]
     },
     "execution_count": 24,
     "metadata": {},
     "output_type": "execute_result"
    }
   ],
   "source": [
    "topubul()"
   ]
  },
  {
   "cell_type": "code",
   "execution_count": 25,
   "id": "6dcf53a3",
   "metadata": {
    "scrolled": true
   },
   "outputs": [
    {
     "name": "stdout",
     "output_type": "stream",
     "text": [
      "Pozisyonları A B C yi virgül kullanarak giriniz:BA,AC,CA,BC\n"
     ]
    },
    {
     "data": {
      "text/plain": [
       "'A'"
      ]
     },
     "execution_count": 25,
     "metadata": {},
     "output_type": "execute_result"
    }
   ],
   "source": [
    "topubul()"
   ]
  },
  {
   "cell_type": "markdown",
   "id": "5407a4c7",
   "metadata": {},
   "source": [
    "1 Sansürlü kelimeyi düzeltelim<br>\n",
    "(\"pyth*n\", \"o\") ---> python<br>\n",
    "(\"*r*b*m* p*rk *tt*m\",\"aaaıaei\")  --> arabamı park ettim"
   ]
  },
  {
   "cell_type": "code",
   "execution_count": 34,
   "id": "ee682791",
   "metadata": {},
   "outputs": [
    {
     "name": "stdout",
     "output_type": "stream",
     "text": [
      "arab5mı park ettim\n"
     ]
    }
   ],
   "source": [
    "def değişme(text, letters):\n",
    "    n = 0\n",
    "    for i in text:\n",
    "        if i == \"*\":\n",
    "            text = text.replace(i, letters[n],1)\n",
    "            n += 1\n",
    "    return text\n",
    "print(değişme(\"*r*b*m* p*rk *tt*m\", \"aa5ıaei\"))"
   ]
  },
  {
   "cell_type": "markdown",
   "id": "ad064711",
   "metadata": {},
   "source": [
    "# string.isdigit(), string.isdecimal(), string.isnumeric() string.islower() and string.isupper() methods\n",
    "\n",
    "These methods check all the characters in the string. <br>They dont have parameters<br>Returns boolean<br>There are very small differences<br>between isdigit isdecimal and isnumeric. We can use any of them to check if the string contains only numbers."
   ]
  },
  {
   "cell_type": "code",
   "execution_count": 38,
   "id": "cc3da1d2",
   "metadata": {},
   "outputs": [
    {
     "name": "stdout",
     "output_type": "stream",
     "text": [
      "True\n",
      "False\n",
      "False\n"
     ]
    }
   ],
   "source": [
    "# tüm karakterler int sayı ise true döndürür\n",
    "print('354'.isdigit())\n",
    "print('354abc'.isdigit())\n",
    "print('354,0'.isdigit())"
   ]
  },
  {
   "cell_type": "code",
   "execution_count": 43,
   "id": "dfbfa618",
   "metadata": {},
   "outputs": [
    {
     "name": "stdout",
     "output_type": "stream",
     "text": [
      "True\n",
      "False\n",
      "False\n"
     ]
    }
   ],
   "source": [
    "# tüm karakterler int sayı ise true döndürür\n",
    "print('354'.isnumeric())\n",
    "print('354abc'.isnumeric())\n",
    "print('354,0'.isnumeric())\n"
   ]
  },
  {
   "cell_type": "code",
   "execution_count": null,
   "id": "3c1606c9",
   "metadata": {},
   "outputs": [],
   "source": [
    "print('354abc'.isalnum())\n",
    "# "
   ]
  },
  {
   "cell_type": "code",
   "execution_count": 44,
   "id": "7baa91f6",
   "metadata": {},
   "outputs": [
    {
     "name": "stdout",
     "output_type": "stream",
     "text": [
      "True\n",
      "False\n"
     ]
    }
   ],
   "source": [
    "# tüm karakterler harf ise true döndürür.\n",
    "print(\"abc\".isalpha())\n",
    "print('354abc'.isalpha())"
   ]
  },
  {
   "cell_type": "code",
   "execution_count": 45,
   "id": "d1822cb7",
   "metadata": {},
   "outputs": [
    {
     "name": "stdout",
     "output_type": "stream",
     "text": [
      "True\n",
      "True\n"
     ]
    }
   ],
   "source": [
    "# tüm 'alfabetik' karakterler küçük harf ise true döndürür.\n",
    "print('ali'.islower())\n",
    "\n",
    "# 'ali123' içinde sayılar var ama tüm alfabeler küçük. Bu nedenle true döndürür\n",
    "print('ali123'.islower())"
   ]
  },
  {
   "cell_type": "code",
   "execution_count": 46,
   "id": "aed8d783",
   "metadata": {},
   "outputs": [
    {
     "name": "stdout",
     "output_type": "stream",
     "text": [
      "False\n",
      "True\n"
     ]
    }
   ],
   "source": [
    "# tüm 'alfabetik' karakterler büyük harf ise true döndürür.\n",
    "print('Ali'.isupper())\n",
    "\n",
    "# 'ALİ123' içinde sayılar var ama tüm alfabeler büyük harf. Bu nedenle true döndürür\n",
    "print('ALİ123'.isupper())"
   ]
  },
  {
   "cell_type": "code",
   "execution_count": 55,
   "id": "77f4cd9a",
   "metadata": {},
   "outputs": [
    {
     "name": "stdout",
     "output_type": "stream",
     "text": [
      "True\n"
     ]
    }
   ],
   "source": [
    "s = \"282120\"\n",
    "print(s.isdecimal())\n",
    "# True if all characters in the string are decimal characters."
   ]
  },
  {
   "cell_type": "code",
   "execution_count": 57,
   "id": "caf6d45b",
   "metadata": {},
   "outputs": [
    {
     "name": "stdout",
     "output_type": "stream",
     "text": [
      "True\n"
     ]
    }
   ],
   "source": [
    "txt = \"\\u0033\" #unicode for 3\n",
    "x = txt.isdecimal()\n",
    "print(x)"
   ]
  },
  {
   "cell_type": "markdown",
   "id": "af6b65a8",
   "metadata": {},
   "source": [
    "# Lambda within def :\n",
    "Kullanıcı tanımlı bir işlevde lambda deyimi kullanmak bize yararlı fırsatlar sağlar. Program akışımızda daha sonra kullanabileceğimiz bir işlev grubu tanımlayabiliriz. "
   ]
  },
  {
   "cell_type": "markdown",
   "id": "79f9281c",
   "metadata": {},
   "source": [
    "# Lambda Fonksiyonu Neden Kullanılır?\n",
    "Lambda fonksiyonu bir başka fonksiyon içinde kullanıldığında anlam kazanır. <br>\n",
    "\n",
    "Örneğin bir sayının karesini mi kübünü mü almak istediğinizden emin değilsiniz bu durumda bir fonksiyon içerisinde lambda tanımlaması yaparak istediğimiz bir aşamada geriye çalıştırılabilir bir fonksiyon döndürebiliriz."
   ]
  },
  {
   "cell_type": "code",
   "execution_count": null,
   "id": "35225b46",
   "metadata": {},
   "outputs": [],
   "source": [
    "def mathem(n):\n",
    "    return n ** 2\n",
    "mathem(5)"
   ]
  },
  {
   "cell_type": "code",
   "execution_count": null,
   "id": "4c0de90b",
   "metadata": {},
   "outputs": [],
   "source": [
    "def mathe(n):\n",
    "    return n **3\n",
    "mathe(5)"
   ]
  },
  {
   "cell_type": "code",
   "execution_count": null,
   "id": "d732cfae",
   "metadata": {},
   "outputs": [],
   "source": [
    "def math(n):\n",
    "    return lambda a : a ** n\n",
    "\n",
    "square = math(2)\n",
    "cube = math(3)\n",
    "\n",
    "print(square(5)) # 25\n",
    "print(cube(5))    # 125\n",
    "# burada da görüldüğü üzere önce n i tanımladık sonra x e değer gönderdik.\n",
    "# n yi istediğimiz gibi tanımlayabilme esnekliğine sahibiz."
   ]
  },
  {
   "cell_type": "markdown",
   "id": "37c6fff4",
   "metadata": {},
   "source": [
    "görüldüğü üzere tanımlanan fonksiyon en az iki defa değer almaktadır."
   ]
  },
  {
   "cell_type": "code",
   "execution_count": null,
   "id": "03ba5e8f",
   "metadata": {},
   "outputs": [],
   "source": [
    "def modular_function(n):\n",
    "    return lambda x: x ** n\n",
    "    \n",
    "power_of_2 = modular_function(2)  # def'den türetilen ilk alt işlev\n",
    "power_of_3 = modular_function(3)  # second sub-function derived from def\n",
    "power_of_4 = modular_function(4)  # third sub-function derived from def\n",
    "\n",
    "print(power_of_2(2))  # 2 to the power of 2\n",
    "print(power_of_3(2))  # 2 to the power of 3\n",
    "print(power_of_4(2))  # 2 to the power of 4\n",
    "# burada da görüldüğü üzere önce n i tanımladık sonra x e değer gönderdik."
   ]
  },
  {
   "cell_type": "markdown",
   "id": "394de118",
   "metadata": {},
   "source": [
    "==> Modüler_function, n sayısı olan bir bağımsız değişken alır ve verilen herhangi bir x sayısının o n'ye göre kuvvetini alan bir işlev döndürür.\n",
    "\n",
    "==> Bu kullanım, bir fonksiyonu esnek olarak kullanmamızı sağladı. Lambda sayesinde tek bir def'i istediğimiz argümanlarla farklı şekillerde kullanabildik. Tek bir tanımdan türetilen üç alt fonksiyon yarattık. Bu esneklik!"
   ]
  },
  {
   "cell_type": "code",
   "execution_count": null,
   "id": "a3673d26",
   "metadata": {},
   "outputs": [],
   "source": [
    "# Bir önceki örnekle aynı mantıkla, içine geçirilen stringi tekrarlayan bir fonksiyon tanımlayabiliriz.\n",
    "def repeater(n):\n",
    "    return lambda x: x * n\n",
    "    \n",
    "repeat_2_times = repeater(2)  # repeats 2 times\n",
    "repeat_3_times = repeater(3)  # repeats 3 times\n",
    "repeat_4_times = repeater(4)  # repeats 4 times\n",
    "\n",
    "print(repeat_2_times('alex '))\n",
    "print(repeat_3_times('lara '))\n",
    "print(repeat_4_times('linda '))"
   ]
  },
  {
   "cell_type": "code",
   "execution_count": null,
   "id": "ac359040",
   "metadata": {},
   "outputs": [],
   "source": [
    "def modular_function(n):\n",
    "    return lambda x: x ** n\n",
    "\n",
    "power_of_3 = modular_function(3)\n",
    "print(power_of_3(5))"
   ]
  },
  {
   "cell_type": "markdown",
   "id": "d9508bad",
   "metadata": {},
   "source": [
    "# while-else for-else\n",
    "Aslında while-else ve for-else deyimlerinin if-else deyimine oldukça benzer bir yapısı var. Sizinle açıklamalarıyla birlikte bir kaç basit örnek paylaşayım."
   ]
  },
  {
   "cell_type": "code",
   "execution_count": null,
   "id": "6aa3130e",
   "metadata": {},
   "outputs": [],
   "source": [
    "a = 1\n",
    "while a < 10: # a, 10'dan küçük olduğu sürece\n",
    "    a += 1  # a, 1 birim arttırılır.\n",
    "else: # Şayet a, 10'dan küçük olmazsa\n",
    "    print(a)  # a'nın değeri ekrana yazdırılır."
   ]
  },
  {
   "cell_type": "code",
   "execution_count": null,
   "id": "fbbbb74e",
   "metadata": {},
   "outputs": [],
   "source": [
    "for i in range(10): # 0'dan 9'a kadar olan her bir i sayısı için\n",
    "    pass # pass komutu çalıştırılır. Yani hiçbir işlem yapılmaz.\n",
    "else: # Bu döngü bittikten sonra \n",
    "    print(i) # i değerinin aldığı son değer ekrana yazdırılır."
   ]
  },
  {
   "cell_type": "code",
   "execution_count": null,
   "id": "bbb6144a",
   "metadata": {},
   "outputs": [],
   "source": [
    "for i in range(2, 10): # 2'den 10'a kadar olan her bir i sayısı için\n",
    "    for j in range(2, i): # 2'den i'ye kadar olan her bir j sayısı için\n",
    "        if i % j == 0: # Eğer i bölü j işleminde kalan 0 ise\n",
    "            break # İçteki for döngüsü durdurulur.\n",
    "    else: # Şayet içteki for döngüsünü durdurmayan sayı değerleri var ise\n",
    "        print(i) # Bu değerler ekrana yazdırılır."
   ]
  },
  {
   "cell_type": "code",
   "execution_count": null,
   "id": "de4d9449",
   "metadata": {},
   "outputs": [],
   "source": [
    "veri_girisi = input(\"Sayı gir: \") # Kullanıcıdan değer girmesi istenir.\n",
    "while not veri_girisi.isnumeric(): # Kullanıcının girdiği değer sayı olmadığı müddetçe\n",
    "    veri_girisi = input(\"Sayı gir: \") # Kullanıcıdan tekrar değer girmesi istenir.\n",
    "else: # Şayet kullanıcının girdiği değer sayı ise\n",
    "    print(veri_girisi) # Bu değer ekrana yazdırılır."
   ]
  },
  {
   "cell_type": "code",
   "execution_count": null,
   "id": "5fbce09d",
   "metadata": {},
   "outputs": [],
   "source": []
  },
  {
   "cell_type": "code",
   "execution_count": null,
   "id": "eb5a7763",
   "metadata": {},
   "outputs": [],
   "source": []
  },
  {
   "cell_type": "code",
   "execution_count": null,
   "id": "683fd6f5",
   "metadata": {},
   "outputs": [],
   "source": []
  }
 ],
 "metadata": {
  "kernelspec": {
   "display_name": "Python 3",
   "language": "python",
   "name": "python3"
  },
  "language_info": {
   "codemirror_mode": {
    "name": "ipython",
    "version": 3
   },
   "file_extension": ".py",
   "mimetype": "text/x-python",
   "name": "python",
   "nbconvert_exporter": "python",
   "pygments_lexer": "ipython3",
   "version": "3.9.7"
  }
 },
 "nbformat": 4,
 "nbformat_minor": 5
}
