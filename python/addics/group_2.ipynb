{
 "cells": [
  {
   "cell_type": "markdown",
   "metadata": {
    "id": "DpXjn6Vd9Yw6"
   },
   "source": [
    "1- Write a program to prompt for a score between 0.0 and 1.0. If the score is out of range, print an error. If the score is between 0.0 and 1.0, print a grade using the following table: Score Grade\n",
    "\n",
    "0.9 A\n",
    "\n",
    "0.8 B\n",
    "\n",
    "0.7 C\n",
    "\n",
    "0.6 D\n",
    "\n",
    "0.6 F\n",
    "\n",
    "If the user enters a value out of range, print a suitable error message and exit. For the test, enter a score of 0.85"
   ]
  },
  {
   "cell_type": "code",
   "execution_count": null,
   "metadata": {},
   "outputs": [],
   "source": [
    "number = float(input(\"Please enter your number 0.5 to 1.0 : \"))\n",
    "if 0.5 <= number <= 1.0:\n",
    "    if number >= 0.9:\n",
    "        print(\"A\")\n",
    "    elif number >= 0.8:\n",
    "        print(\"B\")\n",
    "    elif number >= 0.7:\n",
    "        print(\"C\")\n",
    "    elif number >= 0.6:\n",
    "        print(\"D\")\n",
    "    elif number >= 0.5:\n",
    "        print(\"F\")\n",
    "else:\n",
    "    print(\"You entered out of range number\")"
   ]
  },
  {
   "cell_type": "markdown",
   "metadata": {
    "id": "k7W9-BOA9n7O"
   },
   "source": [
    "2- Yazi olarak girilen string ifadenin içindeki harfler tamamen büyük veya tamamen küçük ise True, küçük ve büyük harlerden oluşmuş ise False veren bir fonksiyon yazalım."
   ]
  },
  {
   "cell_type": "code",
   "execution_count": null,
   "metadata": {},
   "outputs": [],
   "source": [
    "def letters(x):\n",
    "    alp1 = set(\"qazxswedcvfrtgbnhyujmökıolçşipğü\")\n",
    "    alp2 = set(\"QAZXSWEDCVFRTGBNHYUJMÖKIOLÇŞİPĞÜ\")\n",
    "    if x.intersection(alp1) and x.intersection(alp2):\n",
    "        return(False)\n",
    "    else:\n",
    "        return(True)\n",
    "\n",
    "print(letters(set(input(\"Please enter your text\"))))"
   ]
  },
  {
   "cell_type": "markdown",
   "metadata": {
    "id": "6PFwqEFO9nxy"
   },
   "source": [
    "3- Sayıyı kalansız bölen sayıları bulan bir fonksiyon yazalım"
   ]
  },
  {
   "cell_type": "code",
   "execution_count": 2,
   "metadata": {},
   "outputs": [
    {
     "name": "stdout",
     "output_type": "stream",
     "text": [
      "Your divisible of number 100 numbers like this : 1 2 4 5 10 20 25 50 100\n"
     ]
    }
   ],
   "source": [
    "def divisible(number1, number2):\n",
    "    list1 = []\n",
    "    for i in range(1, number2+1):\n",
    "        if number1 % i == 0:\n",
    "            list1.append(i)\n",
    "    a = list(map(str, list1))\n",
    "    b = \" \".join(a)\n",
    "    return (f\"Your divisible of number {number1} numbers like this : {b}\")\n",
    "\n",
    "print(divisible(100, 100))"
   ]
  },
  {
   "cell_type": "markdown",
   "metadata": {
    "id": "rgWFi-lZ9noI"
   },
   "source": [
    "4- Cümlenin içindeki sesli harfleri kaldıran bir fonksiyon yazalım.\n",
    "print(sessiz_yap(\"Hayat beni neden yoruyosun?:)\")) --> hyt bn ndn yrysn?:)"
   ]
  },
  {
   "cell_type": "code",
   "execution_count": 1,
   "metadata": {},
   "outputs": [
    {
     "name": "stdout",
     "output_type": "stream",
     "text": [
      "Bnm dm mr\n"
     ]
    }
   ],
   "source": [
    "def ünlüler(x):\n",
    "    list1 = []\n",
    "    sesli = (\"aeıioöuüAEIİOÖUÜ\")\n",
    "    for i in x:\n",
    "        if i not in sesli:\n",
    "            list1.append(i)\n",
    "    a = \"\".join(list1)\n",
    "    return a\n",
    "\n",
    "print(ünlüler(input(\"Please enter your text : \")))"
   ]
  },
  {
   "cell_type": "markdown",
   "metadata": {
    "id": "yxwOQSQe9ne1"
   },
   "source": [
    "5- Tarihi yüzyıla çeviren bir fonksiyon yazalım.\n",
    "print(yüzyıl_yap(1738)) --> 18. yüzyıl"
   ]
  },
  {
   "cell_type": "code",
   "execution_count": null,
   "metadata": {},
   "outputs": [],
   "source": [
    "def year(x):\n",
    "    x = str(x)\n",
    "    new = x[:2]\n",
    "    new2 = int(new) + 1\n",
    "    return (f\"You are in the {new2} century\")\n",
    "\n",
    "print(year(int(input(\"Please enter your year ? : \"))))"
   ]
  },
  {
   "cell_type": "markdown",
   "metadata": {
    "id": "Y4qLf-_89nL4"
   },
   "source": [
    "6- Yazının içersindeki kelimelerin ilk ve son karakterleri sabit tutup diğer karakterleri yerine - çizgi koyan fonksiyon yazalım.\n",
    "print(dönüstür(\"hello world\")) --> h---o w---d "
   ]
  },
  {
   "cell_type": "code",
   "execution_count": 2,
   "metadata": {},
   "outputs": [
    {
     "name": "stdout",
     "output_type": "stream",
     "text": [
      "b---m a--m ö--r b-n e----------m \n"
     ]
    }
   ],
   "source": [
    "def string(x):\n",
    "    string = \"\"\n",
    "    x = x.split()\n",
    "    for i in x:\n",
    "        string = string + (i[0] + ((len(i)-2) * \"-\") + i[-1]) + \" \"\n",
    "    return string\n",
    "\n",
    "print(string(input(\"Please enter your text : \")))"
   ]
  },
  {
   "cell_type": "markdown",
   "metadata": {
    "id": "mEPc7d0Z9nAI"
   },
   "source": [
    "7- Her girdi listesinde iki tanesi hariç her rakam en az bir kere tekrarlıyor.iki benzersiz sayıyı döndüren bir fonksiyon yazalım.\n",
    "benzersizi_bul([2,2,3,11,3,6,5]) --> [6, 5]  # 11 de 2 tane 1 var"
   ]
  },
  {
   "cell_type": "code",
   "execution_count": null,
   "metadata": {},
   "outputs": [],
   "source": [
    "list3 = []\n",
    "list2 = []\n",
    "size = int(input(\"How many numbers will you enter \"))\n",
    "list1 = []\n",
    "for i in range(size):\n",
    "    number = int(input(\"Please enter your nmuber : \"))\n",
    "    list1.append(number)\n",
    "\n",
    "a = list(map(str, list1))\n",
    "for ii in a:\n",
    "    if len(ii) > 1:\n",
    "        list2.append(ii[0])\n",
    "        list2.append(ii[1])\n",
    "    else:\n",
    "        list2.append(ii)\n",
    "\n",
    "for j in list2:\n",
    "    if list2.count(j) == 1:\n",
    "        list3.append(j)\n",
    "print(list3)"
   ]
  },
  {
   "cell_type": "code",
   "execution_count": null,
   "metadata": {},
   "outputs": [],
   "source": [
    "def find_unique_number(number_list):\n",
    "    result_list = []\n",
    "    number_list = list(map(str, number_list))\n",
    "    numbers_joined = \"\".join(number_list)\n",
    "    for i in numbers_joined:\n",
    "        if numbers_joined.count(i) == 1:\n",
    "            result_list.append(i)\n",
    "    return result_list\n",
    "    \n",
    "\n",
    "print(find_unique_number([11, 2, 2, 3, 3, 5, 6]))"
   ]
  },
  {
   "cell_type": "markdown",
   "metadata": {
    "id": "GMgm2Jhu9mQj"
   },
   "source": [
    "8- Bir stringi(kelime) alan ve birbirini izleyen aynı harfleri çıkaran bir fonksiyon oluşturun.\n",
    "print(cıkar(\"mmmeeerrhhhaaabbbaaa\")) --> merhaba"
   ]
  },
  {
   "cell_type": "code",
   "execution_count": null,
   "metadata": {},
   "outputs": [],
   "source": []
  },
  {
   "cell_type": "markdown",
   "metadata": {
    "id": "3oD9kK_q9mBH"
   },
   "source": [
    "9- Belirli aralıkta(sınırlar dahil) verilen rakamın kaç kere olduğunu sayan bir fonksiyon yazalım. print(kac_tane(50,55,5)) --> 7"
   ]
  },
  {
   "cell_type": "code",
   "execution_count": 3,
   "metadata": {},
   "outputs": [
    {
     "name": "stdout",
     "output_type": "stream",
     "text": [
      "1480\n"
     ]
    }
   ],
   "source": [
    "def kac_tane(number1, number2, looking):\n",
    "    list1 = []\n",
    "    list2 = []\n",
    "    for i in range(number1, number2 + 1):\n",
    "        list1.append(i)\n",
    "    a = list(map(str, list1))\n",
    "    for ii in a:\n",
    "        if len(ii) == 2:\n",
    "           list2.append(ii[0])\n",
    "           list2.append(ii[1])\n",
    "        elif len(ii) == 3:\n",
    "           list2.append(ii[0])\n",
    "           list2.append(ii[1])\n",
    "           list2.append(ii[2])\n",
    "        elif len(ii) == 4:\n",
    "           list2.append(ii[0])\n",
    "           list2.append(ii[1])\n",
    "           list2.append(ii[2])\n",
    "           list2.append(ii[3])\n",
    "        else:\n",
    "           list2.append(ii)\n",
    "\n",
    "    b = list2.count(looking)\n",
    "    return b\n",
    "\n",
    "print(kac_tane(1, 4900, \"8\"))"
   ]
  },
  {
   "cell_type": "markdown",
   "metadata": {
    "id": "n1Tuy6szEGR8"
   },
   "source": [
    "10- Yüksekliği verilen yılbaşı ağacını oluşturan bir fonksiyon yazalım. agac(7)\n",
    "\n",
    "\n",
    "```\n",
    "      #      \n",
    "     ###     \n",
    "    #####    \n",
    "   #######   \n",
    "  #########  \n",
    " ########### \n",
    "############# \n",
    "```\n",
    "\n"
   ]
  },
  {
   "cell_type": "code",
   "execution_count": null,
   "metadata": {},
   "outputs": [],
   "source": [
    "def yıldız(x):\n",
    "    for i in range(1, x + 1):\n",
    "        print (\" \" * (x - i) + (\"*\" * (2*i-1)))\n",
    "\n",
    "yıldız(int(input(\"Please enter your number : \")))"
   ]
  }
 ],
 "metadata": {
  "colab": {
   "name": "group_2.ipynb",
   "provenance": []
  },
  "kernelspec": {
   "display_name": "Python 3",
   "language": "python",
   "name": "python3"
  },
  "language_info": {
   "codemirror_mode": {
    "name": "ipython",
    "version": 3
   },
   "file_extension": ".py",
   "mimetype": "text/x-python",
   "name": "python",
   "nbconvert_exporter": "python",
   "pygments_lexer": "ipython3",
   "version": "3.9.7"
  }
 },
 "nbformat": 4,
 "nbformat_minor": 1
}
