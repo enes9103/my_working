{
 "cells": [
  {
   "cell_type": "code",
   "execution_count": 1,
   "id": "2765c4a8",
   "metadata": {},
   "outputs": [
    {
     "name": "stdout",
     "output_type": "stream",
     "text": [
      "enter a sentences: benim adım enes\n",
      "['benim', 'adım', 'enes']\n"
     ]
    }
   ],
   "source": [
    "a = input(\"enter a sentences: \")\n",
    "x = a.split()\n",
    "print(x)"
   ]
  },
  {
   "cell_type": "code",
   "execution_count": 2,
   "id": "579721f7",
   "metadata": {},
   "outputs": [
    {
     "name": "stdout",
     "output_type": "stream",
     "text": [
      "['d', 'c', 'b', 'a', 3, 2, 1]\n"
     ]
    }
   ],
   "source": [
    "aList = [1, 2, 3, 'a', 'b', 'c', 'd']\n",
    "aList.reverse()\n",
    "print(aList)"
   ]
  },
  {
   "cell_type": "code",
   "execution_count": 3,
   "id": "23b0cc3c",
   "metadata": {},
   "outputs": [
    {
     "name": "stdout",
     "output_type": "stream",
     "text": [
      "enter a sentences: benim adım enes\n",
      "['enes', 'adım', 'benim']\n"
     ]
    }
   ],
   "source": [
    "a = input(\"enter a sentences: \")\n",
    "x = a.split()\n",
    "x.reverse()\n",
    "print(x)"
   ]
  },
  {
   "cell_type": "code",
   "execution_count": null,
   "id": "92e3da05",
   "metadata": {},
   "outputs": [],
   "source": [
    "2-Write a Python program to sum of three given integers. \n",
    "However, if two values are equal sum will be zero."
   ]
  },
  {
   "cell_type": "code",
   "execution_count": 4,
   "id": "d89a810d",
   "metadata": {},
   "outputs": [
    {
     "name": "stdout",
     "output_type": "stream",
     "text": [
      "1. Sayıyı giriniz :1\n",
      "2. Sayıyı giriniz :2\n",
      "3. Sayıyı giriniz :2\n",
      "0\n"
     ]
    }
   ],
   "source": [
    "sayi1 = int(input('1. Sayıyı giriniz :'))\n",
    "sayi2 = int(input('2. Sayıyı giriniz :'))\n",
    "sayi3 = int(input('3. Sayıyı giriniz :'))\n",
    "islem = sayi1 + sayi2 + sayi3\n",
    "if sayi1==sayi2:\n",
    "    print(\"0\")\n",
    "elif sayi1==sayi3:\n",
    "    print(\"0\")\n",
    "elif sayi2==sayi3:\n",
    "    print(\"0\")\n",
    "else:\n",
    "    print(islem)\n"
   ]
  },
  {
   "cell_type": "code",
   "execution_count": 5,
   "id": "cd66bcac",
   "metadata": {},
   "outputs": [
    {
     "name": "stdout",
     "output_type": "stream",
     "text": [
      "sayı11\n",
      "sayı25\n",
      "sayı36\n",
      "12\n"
     ]
    }
   ],
   "source": [
    "a = int(input(\"sayı1\"))\n",
    "b = int(input(\"sayı2\"))\n",
    "c = int(input(\"sayı3\"))\n",
    "işlem = a + b + c\n",
    "print(a != b and a != c and b != c and işlem or 0)"
   ]
  },
  {
   "cell_type": "code",
   "execution_count": null,
   "id": "9401bda8",
   "metadata": {},
   "outputs": [],
   "source": [
    "3-Write a Python program to sum of two given integers. However, if the sum is between 15 to 20 it will return"
   ]
  },
  {
   "cell_type": "code",
   "execution_count": 6,
   "id": "b3d1aebf",
   "metadata": {},
   "outputs": [
    {
     "name": "stdout",
     "output_type": "stream",
     "text": [
      "1. Sayıyı giriniz :1\n",
      "2. Sayıyı giriniz :2\n",
      "0\n"
     ]
    }
   ],
   "source": [
    "sayi1 = int(input('1. Sayıyı giriniz :'))\n",
    "sayi2 = int(input('2. Sayıyı giriniz :'))\n",
    "if 15<= sayi1+sayi2 <= 20:\n",
    "    print(sayi1+sayi2)\n",
    "else :\n",
    "    print(0)"
   ]
  },
  {
   "cell_type": "code",
   "execution_count": null,
   "id": "a2278b0b",
   "metadata": {},
   "outputs": [],
   "source": [
    "4-Write a Python program that will return true if the two given integer values are equal or their sum or difference is 5"
   ]
  },
  {
   "cell_type": "code",
   "execution_count": 8,
   "id": "1001e9fc",
   "metadata": {},
   "outputs": [
    {
     "name": "stdout",
     "output_type": "stream",
     "text": [
      "sayı1 :5\n",
      "sayı2 :5\n",
      "True\n"
     ]
    }
   ],
   "source": [
    "a = int(input(\"sayı1 :\"))\n",
    "b = int(input(\"sayı2 :\"))\n",
    "if a==b:\n",
    "    print(True)\n",
    "elif  a-b==5:\n",
    "    print(True)\n",
    "elif  b-a==5:\n",
    "    print(True)\n",
    "else:\n",
    "    print(False)"
   ]
  },
  {
   "cell_type": "code",
   "execution_count": 9,
   "id": "168411ed",
   "metadata": {},
   "outputs": [
    {
     "name": "stdout",
     "output_type": "stream",
     "text": [
      "[(195, 'New York'), (488, 'Alabama'), (142, 'Hawaii'), (626, 'Vermont'), (180, 'West Virginia')]\n"
     ]
    }
   ],
   "source": [
    "list1=[195, 488, 142, 626, 180]\n",
    "list2=[\"New York\", \"Alabama\", \"Hawaii\", \"Vermont\", \"West Virginia\"]\n",
    "new_list = list(zip(list1,list2))\n",
    "print(new_list)"
   ]
  },
  {
   "cell_type": "code",
   "execution_count": 10,
   "id": "e01bc82b",
   "metadata": {},
   "outputs": [
    {
     "name": "stdout",
     "output_type": "stream",
     "text": [
      "[(195, 'New York'), (488, 'Alabama'), (142, 'Hawaii'), (626, 'Vermont'), (180, 'West Virginia')]\n"
     ]
    }
   ],
   "source": [
    "#2.ÇÖZÜM\n",
    "\n",
    "new_list = [(list1[0],list2[0]), (list1[1],list2[1]), (list1[2],list2[2]), (list1[3],list2[3]), (list1[4],list2[4])]\n",
    "print(new_list)"
   ]
  },
  {
   "cell_type": "code",
   "execution_count": null,
   "id": "0a022f21",
   "metadata": {},
   "outputs": [],
   "source": [
    "5-Hello everybody I know you are looking forward to python questions.\n",
    "This question is from me for you. Please feel free to share your solutions and asking questions to each other about solutions.\n",
    "Write a Python program that accepts an integer (n) and computes the value of n+nn+nnn.\n",
    "Sample value of n is : 5 Expected Result : 615"
   ]
  },
  {
   "cell_type": "code",
   "execution_count": 17,
   "id": "4d331230",
   "metadata": {},
   "outputs": [
    {
     "name": "stdout",
     "output_type": "stream",
     "text": [
      "Rakam giriniz :5\n",
      "615\n"
     ]
    }
   ],
   "source": [
    "veri1 = str(input(\"Rakam giriniz :\"))\n",
    "veri2 = int(2*veri1)\n",
    "veri3 = int(3*veri1)\n",
    "toplam = int(veri1)+veri2+veri3\n",
    "print(toplam)"
   ]
  },
  {
   "cell_type": "code",
   "execution_count": 16,
   "id": "cfe10b3c",
   "metadata": {},
   "outputs": [
    {
     "name": "stdout",
     "output_type": "stream",
     "text": [
      "rakam giriniz: 5\n",
      "615\n"
     ]
    }
   ],
   "source": [
    "n = int(input(\"rakam giriniz: \"))\n",
    "print(100*n + 20*n + 3*n)"
   ]
  },
  {
   "cell_type": "code",
   "execution_count": null,
   "id": "a6e6690b",
   "metadata": {},
   "outputs": [],
   "source": [
    "6-Write a Python program to get the least common multiple (LCM) of two positive integers."
   ]
  },
  {
   "cell_type": "code",
   "execution_count": null,
   "id": "737db6f9",
   "metadata": {},
   "outputs": [],
   "source": [
    "#EKOK ALARAK VS"
   ]
  },
  {
   "cell_type": "code",
   "execution_count": null,
   "id": "a95b1ada",
   "metadata": {},
   "outputs": [],
   "source": [
    "7-If the entered side lengths do not form a triangle,\n",
    "write the code that determines the type of triangle according to the three side information entered by the user.\n",
    "( In absolute value, the difference of two sides is taken, if the difference is greater than the other side, the entered\n",
    " values ​​do not form a triangle.\n",
    "This is done for all sides."
   ]
  },
  {
   "cell_type": "code",
   "execution_count": null,
   "id": "ebc13993",
   "metadata": {},
   "outputs": [],
   "source": [
    "Write a Python program to get a string from a given string\n",
    "where all occurrences of its first char have been changed to '$', except the first char itself.\n",
    "Sample String : 'restart'\n",
    "Expected Result : 'resta$t'"
   ]
  },
  {
   "cell_type": "code",
   "execution_count": 42,
   "id": "0ec5f81b",
   "metadata": {},
   "outputs": [
    {
     "data": {
      "text/plain": [
       "'resta$t'"
      ]
     },
     "execution_count": 42,
     "metadata": {},
     "output_type": "execute_result"
    }
   ],
   "source": [
    "Sample_String = 'restart'\n",
    "x = Sample_String[0]+Sample_String[1:].replace(Sample_String[0], \"$\")\n",
    "x\n"
   ]
  },
  {
   "cell_type": "code",
   "execution_count": null,
   "id": "dba26a9d",
   "metadata": {},
   "outputs": [],
   "source": [
    "Write a Python program to find the mostfrequent element in a string.\n",
    "Sample String : 'google.com'\n",
    "Expected Result : 'o'"
   ]
  },
  {
   "cell_type": "code",
   "execution_count": 28,
   "id": "3ed4b73c",
   "metadata": {},
   "outputs": [
    {
     "data": {
      "text/plain": [
       "'o'"
      ]
     },
     "execution_count": 28,
     "metadata": {},
     "output_type": "execute_result"
    }
   ],
   "source": [
    "Sample_String = 'google.com'\n",
    "x = max(Sample_String, key=Sample_String.count)\n",
    "x"
   ]
  },
  {
   "cell_type": "code",
   "execution_count": null,
   "id": "3555067b",
   "metadata": {},
   "outputs": [],
   "source": [
    "8-You are asked to ensure that the first and last names of people begin with a capital letter in their passports.\n",
    "For example, alison heck should be capitalised correctly as Alison Heck. not: in a word only the first character is capitalized.\n",
    "Example 12abc when capitalized remains 12abc"
   ]
  },
  {
   "cell_type": "code",
   "execution_count": null,
   "id": "06abb58a",
   "metadata": {},
   "outputs": [],
   "source": []
  },
  {
   "cell_type": "code",
   "execution_count": 43,
   "id": "6b50fb5f",
   "metadata": {
    "scrolled": true
   },
   "outputs": [
    {
     "ename": "SyntaxError",
     "evalue": "invalid syntax (<ipython-input-43-3bb1bd7f184a>, line 1)",
     "output_type": "error",
     "traceback": [
      "\u001b[1;36m  File \u001b[1;32m\"<ipython-input-43-3bb1bd7f184a>\"\u001b[1;36m, line \u001b[1;32m1\u001b[0m\n\u001b[1;33m    Write a Python function to create the HTML string with tags around the word(s).\u001b[0m\n\u001b[1;37m          ^\u001b[0m\n\u001b[1;31mSyntaxError\u001b[0m\u001b[1;31m:\u001b[0m invalid syntax\n"
     ]
    }
   ],
   "source": [
    "Write a Python function to create the HTML string with tags around the word(s).\n",
    "Sample function and result :\n",
    "add_tags('i', 'Python') -> '<i>Python</i>'\n",
    "add_tags('b', 'Python Tutorial') -> '<b>Python Tutorial </b>'"
   ]
  },
  {
   "cell_type": "code",
   "execution_count": 44,
   "id": "c78598c2",
   "metadata": {},
   "outputs": [
    {
     "name": "stdout",
     "output_type": "stream",
     "text": [
      "harf giriniz :a\n",
      "kelime giriniz:Python\n",
      "<a>Python</a>\n"
     ]
    }
   ],
   "source": [
    "i = input(\"harf giriniz :\")\n",
    "kelime = input(\"kelime giriniz:\")\n",
    "sentence = f\"<{i}>{kelime}</{i}>\"\n",
    "print(sentence)"
   ]
  },
  {
   "cell_type": "code",
   "execution_count": null,
   "id": "4026f0f1",
   "metadata": {},
   "outputs": [],
   "source": [
    "Write a Python program that accepts a comma separated sequence of words\n",
    "as input and prints the unique words in sorted form (alphanumerically).\n",
    "\n",
    "Sample Words : red, white, black, red, green, black\n",
    "Expected Result : black, green, red, white,red"
   ]
  },
  {
   "cell_type": "code",
   "execution_count": 10,
   "id": "1d56b3e1",
   "metadata": {},
   "outputs": [
    {
     "name": "stdout",
     "output_type": "stream",
     "text": [
      "0ın karesi 0 dir.\n",
      "1ın karesi 1 dir.\n",
      "2ın karesi 4 dir.\n",
      "3ın karesi 9 dir.\n",
      "4ın karesi 16 dir.\n",
      "5ın karesi 25 dir.\n",
      "6ın karesi 36 dir.\n",
      "Finaly\n"
     ]
    }
   ],
   "source": [
    "my_list = [1, 2, 3, 4, 5, 6, 7]\n",
    "number = 0\n",
    "while number < len(my_list):\n",
    "        print(f\"{number}ın karesi {number**2} dir.\")\n",
    "        number += 1\n",
    "print(\"Finaly\")"
   ]
  },
  {
   "cell_type": "code",
   "execution_count": 9,
   "id": "60beb8a6",
   "metadata": {},
   "outputs": [
    {
     "name": "stdout",
     "output_type": "stream",
     "text": [
      "Please can you add a number: 2\n",
      "second number\n"
     ]
    }
   ],
   "source": [
    "list = [1, 2, 3, 4, 5, 6, 7]\n",
    "number = int(input(\"Please can you add a number: \"))\n",
    "if number in list:\n",
    "    if number == 1:\n",
    "        print(\"first number\")\n",
    "    elif number == 2:\n",
    "        print(\"second number\")\n",
    "    elif number == 3:\n",
    "        print(\"third number\")\n",
    "    else:\n",
    "        print(\"number is more than 3\")\n",
    "else:\n",
    "    print(\"number is not in my list\")"
   ]
  },
  {
   "cell_type": "code",
   "execution_count": null,
   "id": "b099412c",
   "metadata": {},
   "outputs": [],
   "source": []
  },
  {
   "cell_type": "code",
   "execution_count": null,
   "id": "b6be9234",
   "metadata": {},
   "outputs": [],
   "source": []
  }
 ],
 "metadata": {
  "kernelspec": {
   "display_name": "Python 3",
   "language": "python",
   "name": "python3"
  },
  "language_info": {
   "codemirror_mode": {
    "name": "ipython",
    "version": 3
   },
   "file_extension": ".py",
   "mimetype": "text/x-python",
   "name": "python",
   "nbconvert_exporter": "python",
   "pygments_lexer": "ipython3",
   "version": "3.8.8"
  }
 },
 "nbformat": 4,
 "nbformat_minor": 5
}
