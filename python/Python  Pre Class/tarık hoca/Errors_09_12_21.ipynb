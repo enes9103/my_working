{
  "nbformat": 4,
  "nbformat_minor": 0,
  "metadata": {
    "colab": {
      "name": "Errors_09.12.21.ipynb",
      "provenance": [],
      "collapsed_sections": []
    },
    "kernelspec": {
      "name": "python3",
      "display_name": "Python 3"
    },
    "language_info": {
      "name": "python"
    }
  },
  "cells": [
    {
      "cell_type": "code",
      "execution_count": null,
      "metadata": {
        "id": "WfkBi5xqkaqg"
      },
      "outputs": [],
      "source": [
        "# Traceback\n",
        "\n",
        "# Ekranda çıkan hata mesajında Traceback terimi var.\n",
        "# It is actually a module of 614 lines of Python code. \n",
        "# This module provides a standard interface to extract, \n",
        "# format and print stack traces of Python programs\n",
        "\n",
        "#  Bir yığın izi yazdırırken Python yorumlayıcısının davranışını \n",
        "# tam olarak taklit eder. Bu sayede hatanın satırını ve karakterini \n",
        "# takip ederek izini sürmenizi sağlar."
      ]
    },
    {
      "cell_type": "code",
      "source": [
        "# Not: Hata mesajlarının son satırlarına konsantre olun ."
      ],
      "metadata": {
        "id": "1hjPjJTLkehV"
      },
      "execution_count": null,
      "outputs": []
    },
    {
      "cell_type": "code",
      "source": [
        "# The name of module - Traceback - appears when your code causes \n",
        "# an error and it reports detailed information on that specific error, \n",
        "# demonstrating the particular files in which the error occurred. \n",
        "# In these error messages, the most important thing \n",
        "# that a programmer should be interested in is the last lines \n",
        "# in the most cases. in this Example The last two lines indicate that this error type \n",
        "# is a Syntax error and it also indicates in which line and in which character \n",
        "# (with the ^ sign) the error raised."
      ],
      "metadata": {
        "id": "AK3oHoA9kejq"
      },
      "execution_count": null,
      "outputs": []
    },
    {
      "cell_type": "code",
      "source": [
        "# Not: Bu hata satırlarını gördüğünüzde panik yapmayın. \n",
        "# Size söylediklerini dikkatlice okumaktan çekinmeyin."
      ],
      "metadata": {
        "id": "UusHvcTmkelw"
      },
      "execution_count": null,
      "outputs": []
    },
    {
      "cell_type": "code",
      "source": [
        ""
      ],
      "metadata": {
        "id": "nnTrAXmjkeoH"
      },
      "execution_count": null,
      "outputs": []
    },
    {
      "cell_type": "code",
      "source": [
        "#########################  Syntax Errors"
      ],
      "metadata": {
        "id": "6EYwxF3Tkep-"
      },
      "execution_count": null,
      "outputs": []
    },
    {
      "cell_type": "code",
      "source": [
        "# Tipik olarak, programınızı derlemeye çalışırken Python'un karşılaştığı \n",
        "# veya kodunuzun çalıştırılamadığı bir sorunu belirtirler.\n",
        "\n",
        "# Yani Syntax error da kodumuz interpretation safhasina gecemez.\n",
        "# Compiler asamasinda hata verir"
      ],
      "metadata": {
        "id": "ZD89hIXJker4"
      },
      "execution_count": null,
      "outputs": []
    },
    {
      "cell_type": "code",
      "source": [
        "# Örenegin:\n",
        "print(\"Don't say 'I never make a mistake'\""
      ],
      "metadata": {
        "colab": {
          "base_uri": "https://localhost:8080/",
          "height": 133
        },
        "id": "Z_pPTr3borWM",
        "outputId": "b0a6c75c-f510-42cd-cf9a-49a9fa5c1ce6"
      },
      "execution_count": null,
      "outputs": [
        {
          "output_type": "error",
          "ename": "SyntaxError",
          "evalue": "ignored",
          "traceback": [
            "\u001b[0;36m  File \u001b[0;32m\"<ipython-input-2-05e41e95c184>\"\u001b[0;36m, line \u001b[0;32m2\u001b[0m\n\u001b[0;31m    print(\"Don't say 'I never make a mistake'\"\u001b[0m\n\u001b[0m                                              ^\u001b[0m\n\u001b[0;31mSyntaxError\u001b[0m\u001b[0;31m:\u001b[0m unexpected EOF while parsing\n"
          ]
        }
      ]
    },
    {
      "cell_type": "code",
      "source": [
        "# Her syntax hatasinin bir text degeri vardir. Bu deger,\n",
        "# associated value(iliskili deger) olarak bilinir ve hatayi detayli olarak tanimlar.\n",
        "\n",
        "# Mesela \"\"SyntaxError: unexpected EOF while parsing\" hatasi,\n",
        "# yorumlayıcı(interpreter) tarafından başka bir şey beklendiği, \n",
        "# ancak bunu yorumlayıcıya iletmediğiniz anlamına gelir."
      ],
      "metadata": {
        "id": "JEJr5XsPketr"
      },
      "execution_count": null,
      "outputs": []
    },
    {
      "cell_type": "code",
      "source": [
        "# Hata mesajları her zaman çok net olmayabilir. Hatanızın kaynağını bulmak için \n",
        "# aldığınız hatanın Syntax da  olduğunu bilmeniz yeterlidir."
      ],
      "metadata": {
        "id": "RLmltU78n577"
      },
      "execution_count": null,
      "outputs": []
    },
    {
      "cell_type": "code",
      "source": [
        ""
      ],
      "metadata": {
        "id": "FcSTzS_Jn5-W"
      },
      "execution_count": null,
      "outputs": []
    },
    {
      "cell_type": "code",
      "source": [
        "##############  Common Errors"
      ],
      "metadata": {
        "id": "l-8PXORUn6A0"
      },
      "execution_count": null,
      "outputs": []
    },
    {
      "cell_type": "code",
      "source": [
        "# Developer lar tarafından yapılan en yaygın sözdizimi hataları şu şekilde sıralanabilir."
      ],
      "metadata": {
        "id": "XXgj-_5-n6C5"
      },
      "execution_count": null,
      "outputs": []
    },
    {
      "cell_type": "code",
      "source": [
        "#  Quotes  (tirnaklar)"
      ],
      "metadata": {
        "id": "1O729vIVn6Ed"
      },
      "execution_count": null,
      "outputs": []
    },
    {
      "cell_type": "code",
      "source": [
        "# Wrong Parentheses :"
      ],
      "metadata": {
        "id": "KbKCoHZtkevm"
      },
      "execution_count": null,
      "outputs": []
    },
    {
      "cell_type": "code",
      "source": [
        "# Wrong Spelling & Typo :(yazim ve type hatalari)\n",
        "\n",
        "# mesela True yerine true \n",
        "# print yerine prit gibi\n",
        "\n",
        "# python hem case sensitive hem de indent sensitive dir"
      ],
      "metadata": {
        "id": "vhJoZ10Bpdzx"
      },
      "execution_count": null,
      "outputs": []
    },
    {
      "cell_type": "code",
      "source": [
        "# Indentations"
      ],
      "metadata": {
        "id": "hrAYTF6tpd3B"
      },
      "execution_count": null,
      "outputs": []
    },
    {
      "cell_type": "code",
      "source": [
        "# Soru: Quotes, Wrong Parentheses , Wrong Spelling & Typo are the most common \n",
        "# ................. errors. (syntax)"
      ],
      "metadata": {
        "id": "ugx57Zr0pd58"
      },
      "execution_count": null,
      "outputs": []
    },
    {
      "cell_type": "code",
      "source": [
        "# The name of module - Traceback - appears when your code causes an .......\n",
        "# (error)"
      ],
      "metadata": {
        "id": "HBhIrM7Jpd87"
      },
      "execution_count": null,
      "outputs": []
    },
    {
      "cell_type": "code",
      "source": [
        "# Traceback allows you to follow the line and character of the error and trace it.(true)"
      ],
      "metadata": {
        "id": "wgictIANq51v"
      },
      "execution_count": null,
      "outputs": []
    },
    {
      "cell_type": "code",
      "source": [
        ""
      ],
      "metadata": {
        "id": "sBF_mv8Dq54H"
      },
      "execution_count": null,
      "outputs": []
    },
    {
      "cell_type": "code",
      "source": [
        ""
      ],
      "metadata": {
        "id": "bZMZs3aiq56U"
      },
      "execution_count": null,
      "outputs": []
    },
    {
      "cell_type": "code",
      "source": [
        "##########  Exceptions"
      ],
      "metadata": {
        "id": "e5yw7k5Uq58n"
      },
      "execution_count": null,
      "outputs": []
    },
    {
      "cell_type": "code",
      "source": [
        "# Kodumuz çalışıyorsa ancak yine de birkaç nedenden dolayı bazı hata \n",
        "# mesajları alıyorsak, muhtemelen \"exception\" adı verilen bir hata \n",
        "# uyarısı alıriz . Bunun nedeni, programımızdaki hatalı kod satırıdır.\n",
        "\n",
        "# Syntax hataları ile exception hataları arasındaki fark nedir?"
      ],
      "metadata": {
        "id": "Uvl7GJk6q5-w"
      },
      "execution_count": null,
      "outputs": []
    },
    {
      "cell_type": "code",
      "source": [
        "# Syntax hatalari:\n",
        "# Bu tür hatalar , programın bayt koduna derlenmesi sırasında yani \n",
        "# compiling asamasinda algılanır .\n",
        "\n",
        "# exception hatalari ise; \n",
        "# Bu tür hatalar, program yürütme ( yorumlama ) işlemi sırasında yani\n",
        "# interpretation asamasinda algılanır"
      ],
      "metadata": {
        "id": "uoV5LMQZpd_s"
      },
      "execution_count": null,
      "outputs": []
    },
    {
      "cell_type": "code",
      "source": [
        "##  bunu örnekte görelim:\n",
        "\n",
        "print('Here we go!')\n",
        "print('I will be the second text')\n",
        "a = '3'\n",
        "b = 5\n",
        "print('It is time for an error message :(')\n",
        "print(a + b)  # it won't be printed\n",
        "print(\"Sorry, but I won't be printed\")  # it won't be printed"
      ],
      "metadata": {
        "colab": {
          "base_uri": "https://localhost:8080/",
          "height": 276
        },
        "id": "BBg_Tl5JKU9C",
        "outputId": "b79a984b-b69c-4318-b163-8dedc5945ca8"
      },
      "execution_count": null,
      "outputs": [
        {
          "output_type": "stream",
          "name": "stdout",
          "text": [
            "Here we go!\n",
            "I will be the second text\n",
            "It is time for an error message :(\n"
          ]
        },
        {
          "output_type": "error",
          "ename": "TypeError",
          "evalue": "ignored",
          "traceback": [
            "\u001b[0;31m---------------------------------------------------------------------------\u001b[0m",
            "\u001b[0;31mTypeError\u001b[0m                                 Traceback (most recent call last)",
            "\u001b[0;32m<ipython-input-1-2e7248830397>\u001b[0m in \u001b[0;36m<module>\u001b[0;34m()\u001b[0m\n\u001b[1;32m      6\u001b[0m \u001b[0mb\u001b[0m \u001b[0;34m=\u001b[0m \u001b[0;36m5\u001b[0m\u001b[0;34m\u001b[0m\u001b[0;34m\u001b[0m\u001b[0m\n\u001b[1;32m      7\u001b[0m \u001b[0mprint\u001b[0m\u001b[0;34m(\u001b[0m\u001b[0;34m'It is time for an error message :('\u001b[0m\u001b[0;34m)\u001b[0m\u001b[0;34m\u001b[0m\u001b[0;34m\u001b[0m\u001b[0m\n\u001b[0;32m----> 8\u001b[0;31m \u001b[0mprint\u001b[0m\u001b[0;34m(\u001b[0m\u001b[0ma\u001b[0m \u001b[0;34m+\u001b[0m \u001b[0mb\u001b[0m\u001b[0;34m)\u001b[0m  \u001b[0;31m# it won't be printed\u001b[0m\u001b[0;34m\u001b[0m\u001b[0;34m\u001b[0m\u001b[0m\n\u001b[0m\u001b[1;32m      9\u001b[0m \u001b[0mprint\u001b[0m\u001b[0;34m(\u001b[0m\u001b[0;34m\"Sorry, but I won't be printed\"\u001b[0m\u001b[0;34m)\u001b[0m  \u001b[0;31m# it won't be printed\u001b[0m\u001b[0;34m\u001b[0m\u001b[0;34m\u001b[0m\u001b[0m\n",
            "\u001b[0;31mTypeError\u001b[0m: can only concatenate str (not \"int\") to str"
          ]
        }
      ]
    },
    {
      "cell_type": "code",
      "source": [
        "## Dikkat edersek, kodumuzun ilk 3 satiri sorunsuz bir sekilde yürütüldü.\n",
        "# Ancak 4. satirdan itibaren calismadi. iste bu duruma  partially executed\n",
        "# yani kismen yürütme denilir.\n",
        "\n",
        "# ve hata olarak syntax error hatasi almadik. zaten bu hatayi almis olsaydik\n",
        "# kodumuz ilk andan itibaren hic calismayacakti. Burada biz type error hatasi aldik\n",
        "\n",
        "# peki yapmamiz gereken sey nedir?\n",
        "# hata mesajinin son satirini okumak"
      ],
      "metadata": {
        "id": "i_2MXsXjKU_X"
      },
      "execution_count": null,
      "outputs": []
    },
    {
      "cell_type": "code",
      "source": [
        "## tüm syntax hatalarinda oldugu gibi type error lerde de \n",
        "# hatanin ne oldugunu aciklayan hata mesajlari vardir.\n",
        "# Yukaridaki örnekte  \"can only concatenate str (not \"int\") to str\"\n",
        "# kismi hata mesajidir ve bu \"assosiated value olarak bilinir\""
      ],
      "metadata": {
        "id": "0H_9UXybKVBk"
      },
      "execution_count": null,
      "outputs": []
    },
    {
      "cell_type": "code",
      "source": [
        "##  kisaca özetlemek gerekirse:\n",
        "\n",
        "# pythonda iki türlü error vardir:\n",
        "\n",
        " # birincisi syntax error\n",
        " # ikincisi ise exceptions   lardir\n",
        "\n",
        "\n",
        " # syntax hatalari; Ayrıştırma hataları olarak da bilinir. \n",
        " #  Bir hata algılandığında, ayrıştırıcı(parser) sorunlu satırı tekrarlar \n",
        " # ve ardından satırın ilk noktasını gösteren bir ok görüntüler."
      ],
      "metadata": {
        "id": "lYP1S47nKVD9"
      },
      "execution_count": null,
      "outputs": []
    },
    {
      "cell_type": "code",
      "source": [
        "# exceptions: Programın syntax'i doğru olsa bile, yürütme sırasında \n",
        "# bir hata tespit etme şansı vardır, bu hata bir exception dan başka bir şey değildir. \n",
        "# Bazı exception örnekleri şunlardır: ZeroDivisionError, TypeError ve NameError"
      ],
      "metadata": {
        "id": "EmkbuQ8INUte"
      },
      "execution_count": null,
      "outputs": []
    },
    {
      "cell_type": "code",
      "source": [
        "# Soru: If your program is running but you still get some error messages \n",
        "# for several reasons, you probably get an error warning called a/an ......\n",
        "# (exception)"
      ],
      "metadata": {
        "id": "4qGb8SxwNUwM"
      },
      "execution_count": null,
      "outputs": []
    },
    {
      "cell_type": "code",
      "source": [
        ""
      ],
      "metadata": {
        "id": "RcsAuiIBNUzW"
      },
      "execution_count": null,
      "outputs": []
    },
    {
      "cell_type": "code",
      "source": [
        "###########  Common Exceptions"
      ],
      "metadata": {
        "id": "hrBta2gmNU2U"
      },
      "execution_count": null,
      "outputs": []
    },
    {
      "cell_type": "code",
      "source": [
        "# ValueError :"
      ],
      "metadata": {
        "id": "-LXvAhsmNU5O"
      },
      "execution_count": null,
      "outputs": []
    },
    {
      "cell_type": "code",
      "source": [
        "# Bir işlem veya func, doğru syntax a sahip ancak uygun olmayan bir değere sahip \n",
        "# bir argüman aldığında ve durum IndexError gibi daha kesin bir exception tarafından \n",
        "# tanımlanmadığında olusur. Diğer bir deyişle; Python'da ValueError ile karşılaşmak, \n",
        "# değeri atamaya çalıştığımız nesnenin içeriğinde bir sorun olduğu anlamına gelir.  "
      ],
      "metadata": {
        "id": "8be9JMR1NU8J"
      },
      "execution_count": null,
      "outputs": []
    },
    {
      "cell_type": "code",
      "source": [
        "###  örnegin:\n",
        "print(int('ten'))\n"
      ],
      "metadata": {
        "colab": {
          "base_uri": "https://localhost:8080/",
          "height": 187
        },
        "id": "8cmydkvkO8Qb",
        "outputId": "dfa33d75-1bb5-45d2-9717-8e3f54c003a3"
      },
      "execution_count": null,
      "outputs": [
        {
          "output_type": "error",
          "ename": "ValueError",
          "evalue": "ignored",
          "traceback": [
            "\u001b[0;31m---------------------------------------------------------------------------\u001b[0m",
            "\u001b[0;31mValueError\u001b[0m                                Traceback (most recent call last)",
            "\u001b[0;32m<ipython-input-3-3e2489009e39>\u001b[0m in \u001b[0;36m<module>\u001b[0;34m()\u001b[0m\n\u001b[1;32m      1\u001b[0m \u001b[0;31m###  örnegin:\u001b[0m\u001b[0;34m\u001b[0m\u001b[0;34m\u001b[0m\u001b[0;34m\u001b[0m\u001b[0m\n\u001b[0;32m----> 2\u001b[0;31m \u001b[0mprint\u001b[0m\u001b[0;34m(\u001b[0m\u001b[0mint\u001b[0m\u001b[0;34m(\u001b[0m\u001b[0;34m'ten'\u001b[0m\u001b[0;34m)\u001b[0m\u001b[0;34m)\u001b[0m\u001b[0;34m\u001b[0m\u001b[0;34m\u001b[0m\u001b[0m\n\u001b[0m",
            "\u001b[0;31mValueError\u001b[0m: invalid literal for int() with base 10: 'ten'"
          ]
        }
      ]
    },
    {
      "cell_type": "code",
      "source": [
        "## yukaridaki örnekte value error aldik ama burada typeerror aldik.\n",
        "\n",
        "# Dikkat: type error ile value error ayrimi yapmak zordur\n",
        "\n",
        "list(5)"
      ],
      "metadata": {
        "id": "clEHSbXSPk_y"
      },
      "execution_count": null,
      "outputs": []
    },
    {
      "cell_type": "code",
      "source": [
        ""
      ],
      "metadata": {
        "id": "mANpNHWhSnNL"
      },
      "execution_count": null,
      "outputs": []
    },
    {
      "cell_type": "code",
      "source": [
        ""
      ],
      "metadata": {
        "id": "r09aWWZaP5CD"
      },
      "execution_count": null,
      "outputs": []
    },
    {
      "cell_type": "code",
      "source": [
        "###   NameError :\n",
        "\n",
        "# Bu hata genellikle kod akışında kullandığımız bir değişken önceden \n",
        "# tanımlanmadıysa veya düzgün tanımlanmadıysa ortaya çıkar. \n",
        "# Başka bir deyişle, yerel veya global bir isim bulunamadığında ortaya çıkar. \n",
        "# Bu durumda ilişkili değer (assosiated value ), bulunamayan adı içeren bir hata mesajıdır. "
      ],
      "metadata": {
        "id": "gfsh2hviO8S1"
      },
      "execution_count": null,
      "outputs": []
    },
    {
      "cell_type": "code",
      "source": [
        "a = \"12345\"\n",
        "\n",
        "print(z)\n"
      ],
      "metadata": {
        "id": "fMf6y6vPO8Uv"
      },
      "execution_count": null,
      "outputs": []
    },
    {
      "cell_type": "code",
      "source": [
        "## Dikkat; python da name error genelde iki sebepten dolayi ortaya cikar.\n",
        "# Birincisi case sensitiv durumuna dikkat edilmemesi \n",
        "# ikincisi ise degiskenin dogru bir sekilde tanimlanmamasi yada\n",
        "# hic tanimlanmamasi"
      ],
      "metadata": {
        "id": "TZ9A5UxeO8XC"
      },
      "execution_count": null,
      "outputs": []
    },
    {
      "cell_type": "code",
      "source": [
        ""
      ],
      "metadata": {
        "id": "OQWTq_WMO8Y-"
      },
      "execution_count": null,
      "outputs": []
    },
    {
      "cell_type": "code",
      "source": [
        "###################  TypeError :"
      ],
      "metadata": {
        "id": "A9dOdQRJRNRx"
      },
      "execution_count": null,
      "outputs": []
    },
    {
      "cell_type": "code",
      "source": [
        "# Uygun olmayan türden bir nesneye bir işlem veya func uygulandığında ortaya çıkar. \n",
        "# Bu durumda İlişkili değer(assosiated value), tür uyuşmazlığı hakkında \n",
        "# ayrıntılar veren bir dizedir."
      ],
      "metadata": {
        "id": "6mfTICh2RNUR"
      },
      "execution_count": null,
      "outputs": []
    },
    {
      "cell_type": "code",
      "source": [
        "for i in range('x'):\n",
        "    print(i)"
      ],
      "metadata": {
        "id": "lA2tRHWxRNWp"
      },
      "execution_count": null,
      "outputs": []
    },
    {
      "cell_type": "code",
      "source": [
        ""
      ],
      "metadata": {
        "id": "vzectPXHRvSi"
      },
      "execution_count": null,
      "outputs": []
    },
    {
      "cell_type": "code",
      "source": [
        "###      index error\n",
        "\n",
        "count = 0\n",
        "liste = [1, 2, 3]\n",
        "\n",
        "for i in range(5):\n",
        "  print(liste[count])\n",
        "  count += 1"
      ],
      "metadata": {
        "id": "v7mCYSWjRvUu"
      },
      "execution_count": null,
      "outputs": []
    },
    {
      "cell_type": "code",
      "source": [
        " ##### Interview:\n",
        "\n",
        "# Python'da meydana gelen standart hatalara bazı örnekler veriniz.\n",
        "\n",
        "# TypeError-  Beklenen tür, verilen bir değişken türüyle eşleşmediğinde oluşur.\n",
        "\n",
        "# ValueError-  Beklenen bir değer verilmediğinde oluşur, \n",
        "# bir listede 6 eleman beklediğinizi ve 2 verdiğinizi varsayalım.\n",
        "\n",
        "# NameError-  Tanımsız bir değişkene veya işleve erişmeye çalıştığınızda oluşur.\n",
        "\n",
        "# IOError-  Var olmayan bir dosyaya erişmeye çalıştığınızda oluşur.\n",
        "\n",
        "# IndexError-  Bir dizinin geçersiz bir dizinine erişmeye çalıştığınızda oluşur.\n",
        "\n",
        "# KeyError-  Sözlükteki bir değere erişmek için geçersiz bir anahtar kullandığınızda oluşur."
      ],
      "metadata": {
        "id": "khwgdjssRvXi"
      },
      "execution_count": null,
      "outputs": []
    },
    {
      "cell_type": "code",
      "source": [
        "##   key error\n",
        "\n",
        "dictim = {\"a\" : \"1\"}\n",
        "\n",
        "print(dictim[\"b\"])"
      ],
      "metadata": {
        "id": "I5HZOisTRvZ4"
      },
      "execution_count": null,
      "outputs": []
    },
    {
      "cell_type": "code",
      "source": [
        "###  not: bir dict'in keys lerini veya value larini print ettigimizde,\n",
        "# format otomatik olarak liste olur\n",
        "\n",
        "dictim = {\"a\" : \"1\", \"b\" : \"2\"}\n",
        "\n",
        "print(dictim.keys())"
      ],
      "metadata": {
        "colab": {
          "base_uri": "https://localhost:8080/"
        },
        "id": "h4VlLSJ1Rvcl",
        "outputId": "963c1ef1-ac0e-43be-d038-ad44e2169de7"
      },
      "execution_count": null,
      "outputs": [
        {
          "output_type": "stream",
          "name": "stdout",
          "text": [
            "dict_keys(['a', 'b'])\n"
          ]
        }
      ]
    },
    {
      "cell_type": "code",
      "source": [
        "dictim = {\"a\" : \"1\", \"b\" : \"2\"}\n",
        "\n",
        "print(dictim.values())"
      ],
      "metadata": {
        "colab": {
          "base_uri": "https://localhost:8080/"
        },
        "id": "n3dZN2rfRveu",
        "outputId": "ea906fee-fdc8-46fc-db48-b22d984ee117"
      },
      "execution_count": null,
      "outputs": [
        {
          "output_type": "stream",
          "name": "stdout",
          "text": [
            "dict_values(['1', '2'])\n"
          ]
        }
      ]
    },
    {
      "cell_type": "code",
      "source": [
        ""
      ],
      "metadata": {
        "id": "kTrg3MBtRvgw"
      },
      "execution_count": null,
      "outputs": []
    },
    {
      "cell_type": "code",
      "source": [
        "#################   Exception Handling"
      ],
      "metadata": {
        "id": "k5ELIILgRNYe"
      },
      "execution_count": null,
      "outputs": []
    },
    {
      "cell_type": "code",
      "source": [
        "## Burada, kodumuzu calistirdigimiz esnada herhangi bir hata ile\n",
        "# karsilasirsak bu durumda ne yapacagiz hususunu ele alacagiz."
      ],
      "metadata": {
        "id": "mchN9w0GRNaL"
      },
      "execution_count": null,
      "outputs": []
    },
    {
      "cell_type": "code",
      "source": [
        "## Peki biz try except statements lari neden kullaniyoruz?\n",
        "\n",
        "# Bunları kullanarak programımızda kullanici icin fayda saglayan ve kullaniciya \n",
        "# sundugumuz seçeneklerimizi artırıyor ve daha etkili ve kaliteli programlar oluşturuyoruz."
      ],
      "metadata": {
        "id": "noXM4z4spkzd"
      },
      "execution_count": null,
      "outputs": []
    },
    {
      "cell_type": "code",
      "source": [
        "##   örnegin su sekilde bir kod blokumuz olsun:\n",
        "# Normalde kodumuzda hicbir hata yoktur ve calismaktadir.\n",
        "# Ancak kodumuzu  calistirirken ikinci deger olarak 0 girersek bakalim\n",
        "# ne ile karsilacagiz?\n",
        "\n",
        "while True:\n",
        "    no_one = int(input(\"The first number please : \"))\n",
        "    no_two = int(input(\"The second number please : \"))\n",
        "    division = no_one / no_two\n",
        "    print(\"The result of the division is : \", division)\n",
        "    break"
      ],
      "metadata": {
        "id": "wEK8JUCtfkkD"
      },
      "execution_count": null,
      "outputs": []
    },
    {
      "cell_type": "code",
      "source": [
        ""
      ],
      "metadata": {
        "id": "OgT0xsLlgLjQ"
      },
      "execution_count": null,
      "outputs": []
    },
    {
      "cell_type": "code",
      "source": [
        "# iste böyle durumlari ortadan kaldirmanin ve kodumuzu kesintisiz bir sekilde\n",
        "# calistirmanin bir yöntemi vardir.\n",
        "# Bu yöntem;    try except statements lardir"
      ],
      "metadata": {
        "id": "ov4GfevLgLmP"
      },
      "execution_count": null,
      "outputs": []
    },
    {
      "cell_type": "code",
      "source": [
        "# try except statementslarda ana yapimiz su sekildedir:\n",
        "\n",
        "try:\n",
        "    code block to be normally executed (normal olarak calismasini istedigimiz)\n",
        "except:\n",
        "    code block to be exceptionally executed (istisnai olarak)"
      ],
      "metadata": {
        "id": "KmzZqDtvfkoC"
      },
      "execution_count": null,
      "outputs": []
    },
    {
      "cell_type": "code",
      "source": [
        "#  yukaridaki örnek üzerinde uygulayalim:\n",
        "\n",
        "while True:\n",
        "  no_one = int(input(\"The first number please : \"))\n",
        "  no_two = int(input(\"The second number please : \"))\n",
        "  try:\n",
        "    division = no_one / no_two      # hicbit hata meydana gelmezse calismasini \n",
        "    print(\"sonuc = \", division)     # istedigimiz kod bloku\n",
        "    break\n",
        "  except:                                         # herhangi bir hata meydana gelirse\n",
        "    print(\"Üzgünüz. Bir hata meydana geldi.\")     # calismasini istedigimiz"
      ],
      "metadata": {
        "id": "quuC1Iy5fkp5"
      },
      "execution_count": null,
      "outputs": []
    },
    {
      "cell_type": "code",
      "source": [
        "##  diger bir örnek.\n",
        "# Burada kullanicidan bir deger istiyorz. Kullanici kac girer ise \n",
        "# for loop o kadar iterate ediyor. ama liste 5 elemanli oldugu icin \n",
        "# eger 5 den fazla bir deger girilirse, 5 e akadar try bloku calisiyor.\n",
        "# 5 den sonrasi icin out of range oldugu icin except calisir\n",
        "\n",
        "liste = [1, 2, 3, 4, 5]\n",
        "girdi = int(input(\"Lütfen bir sayi giriniz \"))\n",
        "count = 0\n",
        "\n",
        "for i in range(girdi):\n",
        "  try:\n",
        "    print(liste[count])\n",
        "    count += 1\n",
        "  except:\n",
        "    print(\"Üzgünüz bir hata olustu\")"
      ],
      "metadata": {
        "id": "K1V8qup7gw1L"
      },
      "execution_count": null,
      "outputs": []
    },
    {
      "cell_type": "code",
      "source": [
        "## Dikkat edersek, kodumuzun calismasi esnasinda hata olsa da olmasa da,\n",
        "# kodumuz kesintisiz olarak calismaktadir. Hicbir error message almiyoruz.\n",
        "\n",
        "# Diger bir husus da, su ana kadar yaptigimiz örneklerde, hangi hata olursa olsun\n",
        "# hep standart olarak bir output verdik.\n",
        "\n",
        "# Tabi ki, kendimiz kodumuzun hangi kisminda hangi hatanin \n",
        "# olusabilecegini önceden tahmin ederek vermek istedigimiz hata kodunu\n",
        "# specific hale getirebilirz. \n",
        "\n",
        "# Bunun icin except kismini kullaniriz. asagidaki örnege bakalim"
      ],
      "metadata": {
        "id": "mZGGwWqCgw3n"
      },
      "execution_count": null,
      "outputs": []
    },
    {
      "cell_type": "code",
      "source": [
        "# yine ayni liste üzerinde calisacagiz. ve hatayi tahmin edebildigimiz icin\n",
        "# indexerror'u kullanacagiz\n",
        "\n",
        "liste = [1, 2, 3, 4, 5]\n",
        "girdi = int(input(\"Lütfen bir sayi giriniz \"))\n",
        "count = 0\n",
        "\n",
        "for i in range(girdi):\n",
        "  try:\n",
        "    print(liste[count])\n",
        "    count += 1\n",
        "  except IndexError:\n",
        "    print(\"Üzgünüz bir hata olustu. Lütfen tekrar deneyiniz\")"
      ],
      "metadata": {
        "colab": {
          "base_uri": "https://localhost:8080/"
        },
        "id": "LAOkn922gw5Q",
        "outputId": "18164239-8d37-409a-955d-3a4da1e13e4f"
      },
      "execution_count": null,
      "outputs": [
        {
          "output_type": "stream",
          "name": "stdout",
          "text": [
            "Lütfen bir sayi giriniz 7\n",
            "1\n",
            "2\n",
            "3\n",
            "4\n",
            "5\n",
            "Üzgünüz bir hata olustu. Lütfen tekrar deneyiniz\n",
            "Üzgünüz bir hata olustu. Lütfen tekrar deneyiniz\n"
          ]
        }
      ]
    },
    {
      "cell_type": "code",
      "source": [
        "# yukarida yaptigimiz division örnegini simdi ZeroDivisionError ile yapalim\n",
        "\n",
        "while True:\n",
        "  no_one = int(input(\"The first number please : \"))\n",
        "  no_two = int(input(\"The second number please : \"))\n",
        "  try:\n",
        "    division = no_one / no_two      \n",
        "    print(\"sonuc = \", division)     \n",
        "    break\n",
        "  except ZeroDivisionError:                                       \n",
        "    print(\"Üzgünüz. Bir hata meydana geldi.\") \n",
        "\n",
        "# Dikkat: except kisminda break kullanmadik. Cünkü kullanici her hatali\n",
        "# giris yaptiginda loop devam etsin istiyoruz"
      ],
      "metadata": {
        "id": "_G2yN4lIfksF"
      },
      "execution_count": null,
      "outputs": []
    },
    {
      "cell_type": "code",
      "source": [
        "# Soru: We can ensure that our program continues without hesitation by using the \n",
        "# try-except statement. "
      ],
      "metadata": {
        "id": "jAemSMBbfkt1"
      },
      "execution_count": null,
      "outputs": []
    },
    {
      "cell_type": "code",
      "source": [
        "####  önemli detay:\n",
        "# eger kodumuzun hata verme ihtimali olan kisimlarini try yada except \n",
        "# bloklari icerisine yazmazsak, bu durumda python yukaridan asagiya okuma \n",
        "# yaptigi icin yukarida hatayi yakalyacak ve henüz try except e girmeden \n",
        "# kendisi error'un tipine göre bir hata verecektir.\n",
        "\n",
        "# mesela bu örnekte, eger integer degiskenini try in üstüne yazarsak,\n",
        "# kullanici bir isim girdiginde bu integer'a dönüsmeyeceginden \n",
        "# kodumuz hata verecektir\n",
        "\n",
        "# bir diger husus ise sudur: try except bloklari while ve for loop lar altinda\n",
        "# kullanilmak zorunda degildir. Bu örnekte oldugu gibi her yerde \n",
        "# kullanilabilir\n",
        "\n",
        "girdi = input(\"Lütfen bir sayi giriniz \")\n",
        "\n",
        "try:\n",
        "  integer = int(girdi)\n",
        "  print(integer)\n",
        "except:\n",
        "  print(\"Üzgünüz. Hatali giris yaptiniz. Lütfen bir sayi giriniz\")"
      ],
      "metadata": {
        "id": "fc7mObHxls9p"
      },
      "execution_count": null,
      "outputs": []
    },
    {
      "cell_type": "code",
      "source": [
        ""
      ],
      "metadata": {
        "id": "PLHzu6BOltAF"
      },
      "execution_count": null,
      "outputs": []
    },
    {
      "cell_type": "code",
      "source": [
        "#############    Full 'Exception Handling Block'"
      ],
      "metadata": {
        "id": "v10trGdyltCn"
      },
      "execution_count": null,
      "outputs": []
    },
    {
      "cell_type": "code",
      "source": [
        "##  tam bir try except statements in yapisi su sekildedir:\n",
        "\n",
        "try:\n",
        "  statement       ## kodumuzun normal ve hatasiz kismi calisir\n",
        "\n",
        "except:\n",
        "  statement       #  bir hata yada istisna oldugunda calisir\n",
        "\n",
        "else:\n",
        "  statement       # herhangi bir hata olmadiginda calisir\n",
        "\n",
        "finally:\n",
        "  statement       # hata olussa da olusmasa da try except bloku\n",
        "                  # terkedilmeden önce her halükarda calisir\n",
        "\n",
        "## Önemli not: Kodumuzun calismasi esnasinda, eger bir hata meydana gelirse ve \n",
        "# bu hata bizim except blokunda tanimlamis oldugumuz specific bir error ile\n",
        "# uyusmuyorsa bu durumda kodumuzun calismasi duracak ve python tarafindan\n",
        "# bir traceback error message  verilecektir. \n",
        "# tabi bu durum genel bir except olan sadece except yazma durumunda olmaz"
      ],
      "metadata": {
        "id": "nqr57hX6ltFT"
      },
      "execution_count": null,
      "outputs": []
    },
    {
      "cell_type": "code",
      "source": [
        "while True:\n",
        "    no_one = int(input(\"The first number please : \"))\n",
        "    no_two = int(input(\"The second number please : \"))\n",
        "    try:\n",
        "        division = no_one / no_two  # normal part of the program\n",
        "                                    #  burada output verecek bir komut yazmadik\n",
        "    except ZeroDivisionError:\n",
        "        print(\"You can't divide by zero! Try again.\")  # executes when division by zero\n",
        "    else:\n",
        "        print(\"The result of the division is : \", division)  # executes if there is no exception\n",
        "    finally:\n",
        "        print(\"Thanks for using our mini divison calculator! Come again!\")\n",
        "        break  # exits the while loop"
      ],
      "metadata": {
        "colab": {
          "base_uri": "https://localhost:8080/"
        },
        "id": "P4qFN1WcltHs",
        "outputId": "823700ab-0b07-4ef1-b9ce-eb1e3aba7662"
      },
      "execution_count": null,
      "outputs": [
        {
          "output_type": "stream",
          "name": "stdout",
          "text": [
            "The first number please : 5\n",
            "The second number please : 2\n",
            "The result of the division is :  2.5\n",
            "Thanks for using our mini divison calculator! Come again!\n"
          ]
        }
      ]
    },
    {
      "cell_type": "code",
      "source": [
        "#  simdi ikinci sayi kismina 0 girelim\n",
        "\n",
        "while True:\n",
        "    no_one = int(input(\"The first number please : \"))\n",
        "    no_two = int(input(\"The second number please : \"))\n",
        "    try:\n",
        "        division = no_one / no_two  # normal part of the program\n",
        "                                    #  burada output verecek bir komut yazmadik\n",
        "    except ZeroDivisionError:\n",
        "        print(\"You can't divide by zero! Try again.\")  # executes when division by zero\n",
        "    else:\n",
        "        print(\"The result of the division is : \", division)  # executes if there is no exception\n",
        "    finally:\n",
        "        print(\"Thanks for using our mini divison calculator! Come again!\")\n",
        "        break  # exits the while loop"
      ],
      "metadata": {
        "colab": {
          "base_uri": "https://localhost:8080/"
        },
        "id": "66EIhR0gltKB",
        "outputId": "0c2c55d2-d97c-4011-b051-e83bb45f1455"
      },
      "execution_count": null,
      "outputs": [
        {
          "output_type": "stream",
          "name": "stdout",
          "text": [
            "The first number please : 5\n",
            "The second number please : 0\n",
            "You can't divide by zero! Try again.\n",
            "Thanks for using our mini divison calculator! Come again!\n"
          ]
        }
      ]
    },
    {
      "cell_type": "code",
      "source": [
        "###  simdi ise ikinci sayi kismina string bir deger girelim\n",
        "# Bizim burada tanimladigimiz exception ZeroDivision oldugu icin\n",
        "# yapilan bu hata bizim except blokumuz icine girmez ve hata aliriz\n",
        "\n",
        "while True:\n",
        "    no_one = int(input(\"The first number please : \"))\n",
        "    no_two = int(input(\"The second number please : \"))\n",
        "    try:\n",
        "        division = no_one / no_two  # normal part of the program\n",
        "                                    #  burada output verecek bir komut yazmadik\n",
        "    except ZeroDivisionError:\n",
        "        print(\"You can't divide by zero! Try again.\")  # executes when division by zero\n",
        "    else:\n",
        "        print(\"The result of the division is : \", division)  # executes if there is no exception\n",
        "    finally:\n",
        "        print(\"Thanks for using our mini divison calculator! Come again!\")\n",
        "        break  # exits the while loop"
      ],
      "metadata": {
        "id": "3PbAKetMltMA"
      },
      "execution_count": null,
      "outputs": []
    },
    {
      "cell_type": "code",
      "source": [
        "#  peki bu problemi nasil önleyebiliriz.\n",
        "# try disarisinda bulunan iki tane degiskenimizi try icerisine aliriz. ve \n",
        "# except kismini da sadece  except olarak genel bir tanimlama yapariz.\n",
        "\n",
        "while True:\n",
        "    try:\n",
        "        no_one = int(input(\"The first number please : \"))\n",
        "        no_two = int(input(\"The second number please : \"))\n",
        "        division = no_one / no_two  # normal part of the program\n",
        "                                    #  burada output verecek bir komut yazmadik\n",
        "    except:\n",
        "        print(\"You can't divide by zero! Try again.\")  # executes when division by zero\n",
        "    else:\n",
        "        print(\"The result of the division is : \", division)  # executes if there is no exception\n",
        "    finally:\n",
        "        print(\"Thanks for using our mini divison calculator! Come again!\")\n",
        "        break  # exits the while loop"
      ],
      "metadata": {
        "colab": {
          "base_uri": "https://localhost:8080/"
        },
        "id": "uOak2rrIltOQ",
        "outputId": "c0baa796-7eb4-4396-e4c1-706bcef63112"
      },
      "execution_count": null,
      "outputs": [
        {
          "output_type": "stream",
          "name": "stdout",
          "text": [
            "The first number please : 5\n",
            "The second number please : h\n",
            "You can't divide by zero! Try again.\n",
            "Thanks for using our mini divison calculator! Come again!\n"
          ]
        }
      ]
    },
    {
      "cell_type": "code",
      "source": [
        "#######################################################\n",
        "\n",
        "# hangi hata ile karsilasirsak karsilasalim, bunu output olarak\n",
        "# verebilmemizin bir yolu vardir. \n",
        "\n",
        "# Exception as x    anahtar kelimesidir.\n",
        "# asagidaki örnege bakalim"
      ],
      "metadata": {
        "id": "-_UluMofxjsV"
      },
      "execution_count": null,
      "outputs": []
    },
    {
      "cell_type": "code",
      "source": [
        ""
      ],
      "metadata": {
        "id": "jCJK-A3Txjwz"
      },
      "execution_count": null,
      "outputs": []
    },
    {
      "cell_type": "code",
      "source": [
        "# mesela burada ikinci sayiyi 0 olarak girelim:\n",
        "\n",
        "while True:\n",
        "    no_one = int(input(\"The first number please : \"))\n",
        "    no_two = int(input(\"The second number please : \"))\n",
        "    try:\n",
        "        division = no_one / no_two\n",
        "        print(\"The result of the division is : \", division)\n",
        "        break\n",
        "    except Exception as ahmet:\n",
        "        print(\"Something went wrong...Try again.\")\n",
        "        print(\"Hata mesaji: {}\".format(ahmet))\n",
        "        break"
      ],
      "metadata": {
        "colab": {
          "base_uri": "https://localhost:8080/"
        },
        "id": "7FU5G7REpeCk",
        "outputId": "60e4e283-0932-4ad2-8c15-0205806c9ae3"
      },
      "execution_count": null,
      "outputs": [
        {
          "output_type": "stream",
          "name": "stdout",
          "text": [
            "The first number please : 6\n",
            "The second number please : 0\n",
            "Something went wrong...Try again.\n",
            "Hata mesaji: division by zero\n"
          ]
        }
      ]
    },
    {
      "cell_type": "code",
      "source": [
        "## burada yaptigimiz islem sudur:\n",
        "\n",
        "# bugüne kadar yazdigimiz kodlarda hata yaptigimiz zamanlarda\n",
        "# python tarafindan bir hata mesaji aldik.\n",
        "# Iste burada python tarafindan verilen ayni mesaji,\n",
        "# Exception as ahmet yazarak ahmet degiskenine atiyoruz. \n",
        "# ve formatlama ile yada baska bir yöntemle bunu print ettiriyoruz"
      ],
      "metadata": {
        "id": "PdlU1_og1LyD"
      },
      "execution_count": null,
      "outputs": []
    },
    {
      "cell_type": "code",
      "source": [
        "## ancak yukaridaki örnekte yine bir eksik var.\n",
        "# mesela kullanici rakamlar yerine harf girerse yada umulmadik baska bir hata \n",
        "# yaparsa, bu durumlar icin kodumuz calismiyor. cünkü degiskenler\n",
        "# try'in disinda bulunuyor. \n",
        "# try icerisine aldigimizda, kullanicinin yaptigi her hatayi kapsamis oluruz"
      ],
      "metadata": {
        "id": "ElXV9fBUwz1v"
      },
      "execution_count": null,
      "outputs": []
    },
    {
      "cell_type": "code",
      "source": [
        "# try except'in for ile kullanimi:\n",
        "\n",
        "liste = [1, \"a\", 2, \"b\", 3, \"c\"]\n",
        "\n",
        "for i in liste:\n",
        "  try:\n",
        "    sonuc = (10 / i)\n",
        "  except:\n",
        "    print(\"Üzgünüm\", i, \"10'a bölünemez\")\n",
        "  else:\n",
        "    print(sonuc)\n",
        "  finally:\n",
        "    print(\"tesekkür ederiz\")\n",
        "    print()"
      ],
      "metadata": {
        "colab": {
          "base_uri": "https://localhost:8080/"
        },
        "id": "Ad1jF-3owz4F",
        "outputId": "3cfd92d5-90c8-4916-8197-bf2b63e91849"
      },
      "execution_count": null,
      "outputs": [
        {
          "output_type": "stream",
          "name": "stdout",
          "text": [
            "10.0\n",
            "tesekkür ederiz\n",
            "\n",
            "Üzgünüm a 10'a bölünemez\n",
            "tesekkür ederiz\n",
            "\n",
            "5.0\n",
            "tesekkür ederiz\n",
            "\n",
            "Üzgünüm b 10'a bölünemez\n",
            "tesekkür ederiz\n",
            "\n",
            "3.3333333333333335\n",
            "tesekkür ederiz\n",
            "\n",
            "Üzgünüm c 10'a bölünemez\n",
            "tesekkür ederiz\n",
            "\n"
          ]
        }
      ]
    },
    {
      "cell_type": "code",
      "source": [
        "# name error ile ilgili bir örnek:\n",
        "\n",
        "try :\n",
        "    a = 10\n",
        "    b = 2\n",
        "    print(\"The result of division is :\", c)\n",
        "    \n",
        "except Exception as e:\n",
        "    print(\"The error message is : \", e)"
      ],
      "metadata": {
        "colab": {
          "base_uri": "https://localhost:8080/"
        },
        "id": "amcfLKqzyuL2",
        "outputId": "f6cabc9c-207c-4fc7-9871-d99a9492788b"
      },
      "execution_count": null,
      "outputs": [
        {
          "output_type": "stream",
          "name": "stdout",
          "text": [
            "The error message is :  name 'c' is not defined\n"
          ]
        }
      ]
    },
    {
      "cell_type": "code",
      "source": [
        "### Her kodumuzda try bloklari icerisinde bulunan 4 statement'i da\n",
        "# kullanmak zorunda degiliz.\n",
        "# bazen try ve except yaninda sadece else yada sadece finally kullanabiliriz\n",
        "\n",
        "try:\n",
        "  print(\"Hello\")                              ###  output nedir?\n",
        "except:\n",
        "  print(\"Something is wrong\")\n",
        "else:\n",
        "  print(\"Nothing is wrong\")"
      ],
      "metadata": {
        "id": "c1yremVSyuPp"
      },
      "execution_count": null,
      "outputs": []
    },
    {
      "cell_type": "code",
      "source": [
        "##################################\n",
        "\n",
        "#        Implementation of the Full 'Exception Handling Block'-2"
      ],
      "metadata": {
        "id": "Kib1-4OpyuTT"
      },
      "execution_count": null,
      "outputs": []
    }
  ]
}