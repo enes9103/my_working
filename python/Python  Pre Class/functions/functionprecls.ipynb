{
 "cells": [
  {
   "cell_type": "markdown",
   "metadata": {},
   "source": [
    "   #  Functions in Python"
   ]
  },
  {
   "cell_type": "markdown",
   "metadata": {},
   "source": [
    "Aşağıda belirtilen yerleşik işlevler için resmi Python belgelerine hızlı bir şekilde bakmak büyük bir fayda sağlar.\n",
    "\n",
    "Bazıları, içinde bulunan koşullu algoritmaya göre bool türünü döndürür. Örneğin; all(yinelemeli), any(iterable) ve callable(object).\n",
    "\n",
    "Bazıları veri türlerini birbirine dönüştürmenize yardımcı olur. Örneğin; bool(), float(), int() ve str().\n",
    "\n",
    "Bazıları koleksiyon türlerini oluşturmanıza ve işlemenize izin verir. Gibi: dict(), list(), tuple(), set(), len(), frozenset(), zip(), filter(function, iterable) ve enumerate(iterable).\n",
    "\n",
    "Bazıları sayılarla uğraşır. : max(), min(), sum() ve round() gibi.\n",
    "\n",
    "Diğerleri özel amaçlar için inşa edilmiş. Bazı karmaşık uygulamalar yapıyorlar. Mesela: map(function, iterable, ...), eval(expression[, globals[, locals]]), sorted(iterable), open(), dir([object]), hash(), and help([object])"
   ]
  },
  {
   "cell_type": "markdown",
   "metadata": {},
   "source": [
    " \n",
    "S: Python işlevlerini açıklayın. \n",
    "\n",
    "Y: İşlev, programın bir bölümü veya bir kez yazılmış ve programda gerektiğinde yürütülebilen bir kod bloğudur. İşlev, geçerli bir ada, parametre listesine ve gövdeye sahip bağımsız deyimler bloğudur. İşlevler, modüler görevleri gerçekleştirmek için programlamayı daha işlevsel ve modüler hale getirir. Python, görevleri tamamlamak için çeşitli yerleşik işlevler sağlar ve ayrıca bir kullanıcının yeni işlevler oluşturmasına izin verir. İki tür işlev vardır: Yerleşik İşlevler: copy(), len(), count() bazı yerleşik işlevlerdir. Kullanıcı tanımlı işlevler: Kullanıcı tanımlı işlevler olarak bilinen bir kullanıcı tarafından tanımlanan işlevler."
   ]
  },
  {
   "cell_type": "markdown",
   "metadata": {},
   "source": [
    "The basic formula syntax of user-defined function is :\n",
    "\n",
    "def function_name(arguments) :\n",
    "\n",
    "    execution body"
   ]
  },
  {
   "cell_type": "code",
   "execution_count": 2,
   "metadata": {},
   "outputs": [],
   "source": [
    "def first_function(argument_1, argument_2) :\n",
    "    print(argument_1**2 + argument_2**2)\n",
    "# Tanımladığımız bu fonksiyon, argümanların karelerinin \n",
    "# toplamını verir. Arayıp kullanalım."
   ]
  },
  {
   "cell_type": "code",
   "execution_count": 4,
   "metadata": {},
   "outputs": [
    {
     "name": "stdout",
     "output_type": "stream",
     "text": [
      "13\n"
     ]
    }
   ],
   "source": [
    "first_function(2, 3)  \n",
    "# here, the values (2 and 3) are allocated to the arguments"
   ]
  },
  {
   "cell_type": "code",
   "execution_count": 6,
   "metadata": {},
   "outputs": [
    {
     "name": "stdout",
     "output_type": "stream",
     "text": [
      "61\n"
     ]
    }
   ],
   "source": [
    "first_function(5,6)\n",
    "# görüldüğü üzere yukarıda birkere fonksiyonumuzu tanımladık.\n",
    "# burda sadece fonksiyonumuzu yazarak kolayca sonuca ulaşabildik.\n",
    "# fonksiyonlar bu şekilde işimizi kolaylaştırıyorlar."
   ]
  },
  {
   "cell_type": "code",
   "execution_count": 25,
   "metadata": {},
   "outputs": [],
   "source": [
    "def number(a, b):\n",
    "    print(a*b+a//b)\n",
    "# burada kendimiz bir fonksiyon oluşturduk.değişken tanımlar gibi fonksiyonumuzun adını(number örneğin) tanımladık.\n",
    "# daha sonra parantez içinde parametreleri tanımladık(yani aslında değişken)."
   ]
  },
  {
   "cell_type": "code",
   "execution_count": 23,
   "metadata": {},
   "outputs": [
    {
     "name": "stdout",
     "output_type": "stream",
     "text": [
      "52\n"
     ]
    }
   ],
   "source": [
    "number(10,5)\n",
    "# kendi oluşturduğumuz fonksiyonu çağırarak sonuca ulaştık.\n",
    "# number yazarak oluşturduğumuz fonksiyonu çağırdık.\n",
    "# 10 ve 5 te argümanlarımızdır yani a ve b parametrelerine(değişkenlerine) atayarak işlemimizi gerçekleştirdik."
   ]
  },
  {
   "cell_type": "code",
   "execution_count": 9,
   "metadata": {},
   "outputs": [
    {
     "name": "stdout",
     "output_type": "stream",
     "text": [
      "15\n",
      "-2.5\n",
      "amazing amazing amazing \n"
     ]
    }
   ],
   "source": [
    "# şimdi de çarpma fonksiyonu tanımlayalım.\n",
    "def multiply(a, b) :\n",
    "    print(a * b)\n",
    "\n",
    "multiply(3, 5)\n",
    "multiply(-1, 2.5)\n",
    "multiply('amazing ', 3)  # it's really amazing, right?"
   ]
  },
  {
   "cell_type": "code",
   "execution_count": 12,
   "metadata": {},
   "outputs": [
    {
     "name": "stdout",
     "output_type": "stream",
     "text": [
      "Don't hesitate to reinvent yourself!\n"
     ]
    }
   ],
   "source": [
    "#  herhangi bir argüman kullanmadan bir fonksiyon tanımlayabiliriz.\n",
    "def motto() :\n",
    "    print(\"Don't hesitate to reinvent yourself!\")\n",
    "\n",
    "motto()  # it takes no argument"
   ]
  },
  {
   "cell_type": "code",
   "execution_count": 18,
   "metadata": {},
   "outputs": [
    {
     "name": "stdout",
     "output_type": "stream",
     "text": [
      "50\n",
      "50\n"
     ]
    }
   ],
   "source": [
    "# return keywords:\n",
    "\n",
    "def multiply_1(a, b) :\n",
    "    print(a * b)  # it prints something\n",
    "\n",
    "def multiply_2(a, b) :\n",
    "    return a * b  # returns any numeric data type value\n",
    "\n",
    "multiply_1(10, 5)\n",
    "print(multiply_2(10, 5))\n",
    "# return u kullandığımzda sonuca ulaşmak için print kullanmamız gerekiyor."
   ]
  },
  {
   "cell_type": "markdown",
   "metadata": {},
   "source": [
    "Fark ettiğiniz gibi, çıktılar aynı. O zaman fark nedir? Pekala, ilk fonksiyon sadece girdiğiniz bazı verileri yazdırır. İkincisi, sayısal bir tür değeri üretir. Türlerini kontrol ederseniz şunları görürsünüz:"
   ]
  },
  {
   "cell_type": "code",
   "execution_count": 15,
   "metadata": {},
   "outputs": [
    {
     "name": "stdout",
     "output_type": "stream",
     "text": [
      "20\n",
      "<class 'NoneType'>\n",
      "<class 'int'>\n"
     ]
    }
   ],
   "source": [
    "print(type(multiply_1(10, 2)))\n",
    "print(type(multiply_2(10, 5)))"
   ]
  },
  {
   "cell_type": "markdown",
   "metadata": {},
   "source": [
    "Yani programımızda ihtiyaç duyduğumuzda ilk fonksiyonun sonucunu NoneType verisi olduğu için kullanamıyoruz. Ancak ikincisi, gelecekte ihtiyaç duyduğumuzda kullanabileceğimiz tamsayı verilerdir. Python'un en iyi bilinen fonksiyonunu kullanarak bu konuya bir göz atalım."
   ]
  },
  {
   "cell_type": "code",
   "execution_count": 16,
   "metadata": {},
   "outputs": [
    {
     "name": "stdout",
     "output_type": "stream",
     "text": [
      "It can't be assigned to any variable\n",
      "None\n"
     ]
    }
   ],
   "source": [
    "shadow_var = print(\"It can't be assigned to any variable\")\n",
    "print(shadow_var)  # NoneType value can't be used\n",
    "# Yukarıdaki örnekte print() fonksiyonunun sonucunu bir değişkene atayamayız."
   ]
  },
  {
   "cell_type": "code",
   "execution_count": null,
   "metadata": {},
   "outputs": [],
   "source": [
    "def my_function(a,b):\n",
    "    area = a*b\n",
    "    return area\n",
    "print(my_function(3, 4))"
   ]
  },
  {
   "cell_type": "markdown",
   "metadata": {},
   "source": [
    "print anahtar sözcüğünü kullanarak bir işlevin çıktısını oluşturursanız, sonuç bir NoneType olacaktır. Ancak return anahtar sözcüğünü kullanırsanız, sonucun bir veri türü olacaktır."
   ]
  },
  {
   "cell_type": "code",
   "execution_count": 20,
   "metadata": {},
   "outputs": [
    {
     "name": "stdout",
     "output_type": "stream",
     "text": [
      "10.0\n"
     ]
    }
   ],
   "source": [
    "def my_function(a, b):\n",
    "    hypotenuse = (a**2 + b**2)**0.5\n",
    "    return hypotenuse\n",
    "\t\n",
    "print(my_function(6,8))\n",
    "# hipotenüsü bulma kodu"
   ]
  },
  {
   "cell_type": "code",
   "execution_count": 22,
   "metadata": {},
   "outputs": [
    {
     "name": "stdout",
     "output_type": "stream",
     "text": [
      "Richard\n"
     ]
    }
   ],
   "source": [
    "def longer(a, b):\n",
    "    if len(a) >= len(b):\n",
    "        return a\n",
    "    else:\n",
    "        return b\n",
    "\n",
    "print(longer('Richard', 'John'))\n",
    "# verilen argümanları uzunluk bakımından karşılaştırma kodu.\n",
    "# ikisi eşitsede ilk argümanı döndüren kod."
   ]
  },
  {
   "cell_type": "code",
   "execution_count": 27,
   "metadata": {},
   "outputs": [
    {
     "name": "stdout",
     "output_type": "stream",
     "text": [
      "Adınız : Guido\n",
      "Soyadınız : van Rossum\n",
      "\n",
      "Adınız : Marry\n",
      "Soyadınız : Bold\n"
     ]
    }
   ],
   "source": [
    "def who(first, last) : # 'first' ve 'last' parametreler(veya değişkenlerdir)\n",
    "    print('Adınız :', first)\n",
    "    print('Soyadınız :', last)\n",
    "\n",
    "who('Guido', 'van Rossum') # 'Guido' ve 'van Rossum' argümanlardır\n",
    "print()\n",
    "who('Marry', 'Bold') # 'Marry' ve 'Bold' da argümanlardır."
   ]
  },
  {
   "cell_type": "markdown",
   "metadata": {},
   "source": [
    "parametreler yeni bir fonksiyon tanımlanana kadar sabit kalır.\n",
    "\n",
    "ama argümanlar her işlemde değişebilir. yani parametreler farklı argümanlar alabilir."
   ]
  },
  {
   "cell_type": "code",
   "execution_count": 29,
   "metadata": {},
   "outputs": [
    {
     "ename": "TypeError",
     "evalue": "who() missing 1 required positional argument: 'last'",
     "output_type": "error",
     "traceback": [
      "\u001b[0;31m---------------------------------------------------------------------------\u001b[0m",
      "\u001b[0;31mTypeError\u001b[0m                                 Traceback (most recent call last)",
      "\u001b[0;32m/tmp/ipykernel_3656/4265310354.py\u001b[0m in \u001b[0;36m<module>\u001b[0;34m\u001b[0m\n\u001b[0;32m----> 1\u001b[0;31m \u001b[0mwho\u001b[0m\u001b[0;34m(\u001b[0m\u001b[0;34m\"joseph\"\u001b[0m\u001b[0;34m)\u001b[0m\u001b[0;34m\u001b[0m\u001b[0;34m\u001b[0m\u001b[0m\n\u001b[0m\u001b[1;32m      2\u001b[0m \u001b[0;31m# görüldüğü üzere iki parametreli oluşturduğumuz fonksiyona\u001b[0m\u001b[0;34m\u001b[0m\u001b[0;34m\u001b[0m\u001b[0;34m\u001b[0m\u001b[0m\n\u001b[1;32m      3\u001b[0m \u001b[0;31m# tek argüman verirsek hata veriyor.\u001b[0m\u001b[0;34m\u001b[0m\u001b[0;34m\u001b[0m\u001b[0;34m\u001b[0m\u001b[0m\n",
      "\u001b[0;31mTypeError\u001b[0m: who() missing 1 required positional argument: 'last'"
     ]
    }
   ],
   "source": [
    "who(\"joseph\")\n",
    "# görüldüğü üzere iki parametreli oluşturduğumuz fonksiyona\n",
    "# tek argüman verirsek hata veriyor."
   ]
  },
  {
   "cell_type": "code",
   "execution_count": 31,
   "metadata": {},
   "outputs": [
    {
     "name": "stdout",
     "output_type": "stream",
     "text": [
      "your age is : 15\n"
     ]
    }
   ],
   "source": [
    "def age(a):\n",
    "    print(\"your age is :\", a)\n",
    "age(15)\n",
    "# ama tek parametreli fonksiyon oluşturursak hata vermez.\n",
    "# bunda da tek parametreye iki argüman verirsek hata verir."
   ]
  },
  {
   "cell_type": "markdown",
   "metadata": {},
   "source": [
    "Konumsal argümanlarla bir fonksiyon çağırırken, soldan sağa sırayla iletilmelidirler."
   ]
  },
  {
   "cell_type": "code",
   "execution_count": 1,
   "metadata": {},
   "outputs": [
    {
     "name": "stdout",
     "output_type": "stream",
     "text": [
      "3 is the first argument\n",
      "4 is the second argument\n",
      "\n",
      "4 is the first argument\n",
      "3 is the second argument\n"
     ]
    }
   ],
   "source": [
    "def pos_args(a, b):\n",
    "    print(a, 'is the first argument')\n",
    "    print(b, 'is the second argument')\n",
    "\n",
    "pos_args(3,4)\n",
    "print()\n",
    "pos_args(4,3)"
   ]
  },
  {
   "cell_type": "markdown",
   "metadata": {},
   "source": [
    "Bir işlevi çağırdığınızda argümanların dizilerinin/pozisyonlarının sizi kısıtlamasına izin vermek istemiyorsanız, bu argümanları anahtar kelimelerle de çağırabilirsiniz. Yaygın ve geleneksel olarak, kwargs, anahtar kelime bağımsız değişkenlerinin kısaltması olarak kullanılır.\n",
    "\n",
    "The formula syntax is : kwargs=values."
   ]
  },
  {
   "cell_type": "code",
   "execution_count": 2,
   "metadata": {},
   "outputs": [
    {
     "name": "stdout",
     "output_type": "stream",
     "text": [
      "Your first name is : Guido\n",
      "Your last name is : van Rossum\n"
     ]
    }
   ],
   "source": [
    "def who(first, last) :  # same structure as the previous one\n",
    "    print('Your first name is :', first)\n",
    "    print('Your last name is :', last)\n",
    "\n",
    "who(first='Guido', last='van Rossum') # işlevi çağırmak farklıdır.\n",
    "# değerleri fonksiyona geçirmek için kwargs kullandık."
   ]
  },
  {
   "cell_type": "code",
   "execution_count": 3,
   "metadata": {},
   "outputs": [],
   "source": [
    "def parrot(voltage, state='a stiff', action='voom', type='Norwegian Blue'):\n",
    "    print(\"-- This parrot wouldn't\", action, end=' ')\n",
    "    print(\"if you put\", voltage, \"volts through it.\")\n",
    "    print(\"-- Lovely plumage, the\", type)\n",
    "    print(\"-- It's\", state, \"!\")\n",
    "\n",
    "# bir gerekli bağımsız değişkeni (voltaj) ve üç isteğe bağlı bağımsız değişkeni (durum, eylem ve tür) kabul eder. \n",
    "# Bu işlev aşağıdaki yollardan herhangi biriyle çağrılabilir:"
   ]
  },
  {
   "cell_type": "code",
   "execution_count": 4,
   "metadata": {},
   "outputs": [
    {
     "name": "stdout",
     "output_type": "stream",
     "text": [
      "-- This parrot wouldn't voom if you put 1000 volts through it.\n",
      "-- Lovely plumage, the Norwegian Blue\n",
      "-- It's a stiff !\n",
      "-- This parrot wouldn't voom if you put 1000 volts through it.\n",
      "-- Lovely plumage, the Norwegian Blue\n",
      "-- It's a stiff !\n",
      "-- This parrot wouldn't VOOOOOM if you put 1000000 volts through it.\n",
      "-- Lovely plumage, the Norwegian Blue\n",
      "-- It's a stiff !\n",
      "-- This parrot wouldn't VOOOOOM if you put 1000000 volts through it.\n",
      "-- Lovely plumage, the Norwegian Blue\n",
      "-- It's a stiff !\n",
      "-- This parrot wouldn't jump if you put a million volts through it.\n",
      "-- Lovely plumage, the Norwegian Blue\n",
      "-- It's bereft of life !\n",
      "-- This parrot wouldn't voom if you put a thousand volts through it.\n",
      "-- Lovely plumage, the Norwegian Blue\n",
      "-- It's pushing up the daisies !\n"
     ]
    }
   ],
   "source": [
    "parrot(1000)                                          # 1 positional argument\n",
    "parrot(voltage=1000)                                  # 1 keyword argument\n",
    "parrot(voltage=1000000, action='VOOOOOM')             # 2 keyword arguments\n",
    "parrot(action='VOOOOOM', voltage=1000000)             # 2 keyword arguments \n",
    "parrot('a million', 'bereft of life', 'jump')         # 3 positional arguments\n",
    "parrot('a thousand', state='pushing up the daisies')  # 1 positional, 1 keyword"
   ]
  },
  {
   "cell_type": "markdown",
   "metadata": {},
   "source": [
    "Voltaj ve eylem parametrelerinin konumlarını fark ettiyseniz, anahtar kelime argümanlarını kullanırken sıralar veya konumlar önemli değildir."
   ]
  },
  {
   "cell_type": "code",
   "execution_count": 6,
   "metadata": {},
   "outputs": [
    {
     "ename": "SyntaxError",
     "evalue": "positional argument follows keyword argument (1778684260.py, line 3)",
     "output_type": "error",
     "traceback": [
      "\u001b[0;36m  File \u001b[0;32m\"/tmp/ipykernel_6483/1778684260.py\"\u001b[0;36m, line \u001b[0;32m3\u001b[0m\n\u001b[0;31m    parrot(voltage=5.0, 'dead')  # non-keyword argument after a keyword argument\u001b[0m\n\u001b[0m                              ^\u001b[0m\n\u001b[0;31mSyntaxError\u001b[0m\u001b[0;31m:\u001b[0m positional argument follows keyword argument\n"
     ]
    }
   ],
   "source": [
    "# Tanımlanan işlevler göz önüne alındığında, aşağıdaki tüm çağrılar geçersiz olacaktır:\n",
    "parrot()                     # required argument missing\n",
    "parrot(voltage=5.0, 'dead')  # non-keyword argument after a keyword argument\n",
    "parrot(110, voltage=220)     # duplicate value for the same argument\n",
    "parrot(actor='John Cleese')  # unknown keyword argument"
   ]
  },
  {
   "cell_type": "code",
   "execution_count": 9,
   "metadata": {},
   "outputs": [
    {
     "ename": "TypeError",
     "evalue": "function() got multiple values for argument 'a'",
     "output_type": "error",
     "traceback": [
      "\u001b[0;31m---------------------------------------------------------------------------\u001b[0m",
      "\u001b[0;31mTypeError\u001b[0m                                 Traceback (most recent call last)",
      "\u001b[0;32m/tmp/ipykernel_6483/2492535521.py\u001b[0m in \u001b[0;36m<module>\u001b[0;34m\u001b[0m\n\u001b[1;32m      3\u001b[0m     \u001b[0;32mpass\u001b[0m  \u001b[0;31m# actually, 'pass' does nothing. it just moves to the next line of code\u001b[0m\u001b[0;34m\u001b[0m\u001b[0;34m\u001b[0m\u001b[0m\n\u001b[1;32m      4\u001b[0m \u001b[0;31m# aslında, 'geçmek' hiçbir şey yapmaz. sadece bir sonraki kod satırına geçer\u001b[0m\u001b[0;34m\u001b[0m\u001b[0;34m\u001b[0m\u001b[0;34m\u001b[0m\u001b[0m\n\u001b[0;32m----> 5\u001b[0;31m \u001b[0mfunction\u001b[0m\u001b[0;34m(\u001b[0m\u001b[0;36m0\u001b[0m\u001b[0;34m,\u001b[0m \u001b[0ma\u001b[0m\u001b[0;34m=\u001b[0m\u001b[0;36m0\u001b[0m\u001b[0;34m)\u001b[0m\u001b[0;34m\u001b[0m\u001b[0;34m\u001b[0m\u001b[0m\n\u001b[0m",
      "\u001b[0;31mTypeError\u001b[0m: function() got multiple values for argument 'a'"
     ]
    }
   ],
   "source": [
    "# Hiçbir argüman birden fazla değer alamaz. İşte bu kısıtlama nedeniyle başarısız olan bir örnek:\n",
    "def function(a):\n",
    "    pass  # actually, 'pass' does nothing. it just moves to the next line of code\n",
    "# aslında, 'geçmek' hiçbir şey yapmaz. sadece bir sonraki kod satırına geçer\n",
    "function(0, a=0)"
   ]
  },
  {
   "cell_type": "code",
   "execution_count": 11,
   "metadata": {},
   "outputs": [
    {
     "name": "stdout",
     "output_type": "stream",
     "text": [
      "3 tek\n"
     ]
    }
   ],
   "source": [
    "def çift(a,b=\"çift\"):\n",
    "    if a % 2 ==0:\n",
    "        print(a,b)\n",
    "    else:\n",
    "        print(a,b)\n",
    "çift(3,b =\"tek\")"
   ]
  },
  {
   "cell_type": "markdown",
   "metadata": {},
   "source": [
    "# Arbitrary Number of Arguments"
   ]
  },
  {
   "cell_type": "code",
   "execution_count": 1,
   "metadata": {},
   "outputs": [
    {
     "name": "stdout",
     "output_type": "stream",
     "text": [
      "Atina in Europe\n",
      "Ulaanbaatar in Asia\n",
      "Cape Town in Africa\n"
     ]
    }
   ],
   "source": [
    "# Varsayılan değerlere sahip parametreler tarafından tanımlanan bir işlevi çağırırken, \n",
    "# işleve herhangi bir argüman iletme zorunluluğu yoktur.\n",
    "def city(capital, continent='Europe'): \n",
    "    print(capital, 'in', continent) \n",
    "\n",
    "city('Atina') # 'continent' \n",
    "city('Ulaanbaatar', continent= 'Asia') # varsayılan değeri kwargs ile değiştirebiliriz.\n",
    "city('Cape Town', 'Africa') # varsayılan değeri konumsal argümanlarla değiştirebiliriz."
   ]
  },
  {
   "cell_type": "markdown",
   "metadata": {},
   "source": [
    "# *args and **kwargs\n",
    "\n",
    "The formula syntax is : *args."
   ]
  },
  {
   "cell_type": "code",
   "execution_count": 3,
   "metadata": {},
   "outputs": [
    {
     "name": "stdout",
     "output_type": "stream",
     "text": [
      "I want to get orange and banana\n"
     ]
    }
   ],
   "source": [
    "# Örneğin iki çeşit meyveyi alıp yazdıran bir fonksiyon tanımlayalım.\n",
    "def fruiterer(fruit1, fruit2) :\n",
    "    print('I want to get', fruit1, 'and', fruit2)\n",
    "        \n",
    "fruiterer('orange', 'banana')"
   ]
  },
  {
   "cell_type": "code",
   "execution_count": 5,
   "metadata": {},
   "outputs": [
    {
     "name": "stdout",
     "output_type": "stream",
     "text": [
      "I want to get :\n",
      "- orange\n",
      "- banana\n",
      "- melon\n",
      "- ananas\n"
     ]
    }
   ],
   "source": [
    "# Kullanıcı iki çeşitten fazla meyve almak isterse ne olur? Her kullanıcının kaç çeşit meyve \n",
    "# gireceğini bilmediğimiz için, \n",
    "# 'rastgele sayıda argüman' kullanmak en akıllı yöntemdir. *args yönetimin kullanırrssak;\n",
    "def fruiterer(*fruit) :\n",
    "    print('I want to get :')\n",
    "    for i in fruit :\n",
    "        print('-', i)\n",
    "        \n",
    "fruiterer('orange', 'banana', 'melon', 'ananas')"
   ]
  },
  {
   "cell_type": "markdown",
   "metadata": {},
   "source": [
    "\n",
    "==>Yukarıda görebileceğiniz gibi, bir meyve (argüman) listesini bir parametreye (meyve) aktardık. çok kullanışlı değil mi!\n",
    "\n",
    "==>Keyfi anahtar kelime argümanları (**kwargs) kullanmayı tercih etmeniz gerekiyorsa, aynı şekilde kullanabilirsiniz."
   ]
  },
  {
   "cell_type": "code",
   "execution_count": 11,
   "metadata": {},
   "outputs": [
    {
     "name": "stdout",
     "output_type": "stream",
     "text": [
      "Lions are Carnivores\n",
      "Bears are Omnivores\n",
      "Deers are Herbivores\n",
      "Human are Nomnivores\n"
     ]
    }
   ],
   "source": [
    "# the formula syntax is : **kwargs.\n",
    "def animals(**kwargs):\n",
    "    for key, value in kwargs.items():\n",
    "        print(value, \"are\", key)\n",
    " \n",
    "animals(Carnivores=\"Lions\", Omnivores=\"Bears\", Herbivores=\"Deers\", Nomnivores=\"Human\")\n",
    "# burada farkettiysek keyword kullanımında dictionary olarak çağırıyoruz."
   ]
  },
  {
   "cell_type": "markdown",
   "metadata": {},
   "source": [
    "==> Örnekte görebileceğiniz gibi, bu argüman türünde (**kwargs), argümanların sayısını ve atanan değer çiftlerini kendimiz belirleyebiliriz. Bu fonksiyonun bir sonraki çağrısında, yukarıdaki argüman çiftlerinden hem sayı hem de değer olarak farklı argümanlar kullanabiliriz."
   ]
  },
  {
   "cell_type": "code",
   "execution_count": 8,
   "metadata": {},
   "outputs": [
    {
     "name": "stdout",
     "output_type": "stream",
     "text": [
      "Lions are Carnivores\n",
      "Bears are Omnivores\n",
      "monkey are animal\n"
     ]
    }
   ],
   "source": [
    "def animals(**kwargs):\n",
    "    for key, value in kwargs.items():\n",
    "        print(value, \"are\", key)\n",
    " \n",
    "animals(Carnivores=\"Lions\", Omnivores=\"Bears\", animal = \"monkey\")"
   ]
  },
  {
   "cell_type": "markdown",
   "metadata": {},
   "source": [
    "==> Birden çok konum parametresi tarafından tanımlanan bir işlevi çağırırken, *arg sözdizimini parantez içinde kullanarak, tüm argümanları tek bir değişkenle işleve geçirebiliriz. Aynı şekilde; Birden çok anahtar kelime argümanı ile tanımlanmış bir fonksiyonu çağırırken, **kwargs sözdizimini parantez içinde kullanarak, sözlük formundaki tüm argümanları tek bir değişkenle fonksiyona geçirebiliriz. Aşağıdaki örnekleri dikkatlice inceleyin:"
   ]
  },
  {
   "cell_type": "code",
   "execution_count": 10,
   "metadata": {},
   "outputs": [
    {
     "name": "stdout",
     "output_type": "stream",
     "text": [
      "Here are the names of brothers :\n",
      "tom\n",
      "sue\n",
      "tim\n"
     ]
    }
   ],
   "source": [
    "def brothers(bro1, bro2, bro3):\n",
    "    print('Here are the names of brothers :')\n",
    "    print(bro1, bro2, bro3, sep='\\n')\n",
    "\n",
    "family = ['tom', 'sue', 'tim']\n",
    "brothers(*family)\n",
    "# burada listenin elemanlarını kullanmış olduk. burada dikkat edilmesi gerekn parametrelerin sayısı ile eleman sayısının eşit olması gerekir."
   ]
  },
  {
   "cell_type": "code",
   "execution_count": 12,
   "metadata": {},
   "outputs": [
    {
     "name": "stdout",
     "output_type": "stream",
     "text": [
      "Fred belongs to Generation X\n",
      "Marry belongs to Generation Y\n"
     ]
    }
   ],
   "source": [
    "def gene(x, y):  # defined by positional args\n",
    "    print(x, \"belongs to Generation X\")\n",
    "    print(y, \"belongs to Generation Y\")\n",
    " \n",
    "dict_gene = {'y' : \"Marry\", 'x' : \"Fred\"}\n",
    "gene(**dict_gene)  # we call the function by a single argument(variable)\n",
    "# burada da yine sayılaradikkat etmek gerekiyor."
   ]
  },
  {
   "cell_type": "code",
   "execution_count": 13,
   "metadata": {},
   "outputs": [
    {
     "name": "stdout",
     "output_type": "stream",
     "text": [
      "Fred belongs to Generation X\n",
      "Marry belongs to Generation Y\n"
     ]
    }
   ],
   "source": [
    "def gene(x='Solomon', y='David'):  # defined by kwargs (default values assigned to x and y)\n",
    "    print(x, \"belongs to Generation X\")\n",
    "    print(y, \"belongs to Generation Y\")\n",
    " \n",
    "dict_gene = {'y' : \"Marry\", 'x' : \"Fred\"}\n",
    "gene(**dict_gene) "
   ]
  },
  {
   "cell_type": "markdown",
   "metadata": {},
   "source": [
    "==> Bir işleve kaç bağımsız değişkenin iletileceğinden emin olmadığımızda veya bir işleve depolanmış bir liste ya da bağımsız değişken grubu iletmek istediğimizde *args kullanırız. **kwargs, bir işleve kaç tane anahtar kelime bağımsız değişkeni geçirileceğini bilmediğimizde kullanılır veya bir sözlüğün değerlerini anahtar kelime bağımsız değişkenleri olarak iletmek için kullanılabilir. args ve kwargs tanımlayıcıları bir kuraldır, *bob ve **billy de kullanabilirsiniz, ancak bu akıllıca olmaz."
   ]
  },
  {
   "cell_type": "code",
   "execution_count": 15,
   "metadata": {},
   "outputs": [
    {
     "name": "stdout",
     "output_type": "stream",
     "text": [
      "inner variable\n",
      "outer variable\n"
     ]
    }
   ],
   "source": [
    "# Örnekte görebileceğiniz gibi, değişkenin adı (my_var) hem işlevde (func_var) hem de ana program akışının \n",
    "# en üstünde kullanılmıştır. \n",
    "# (func_var) işlevini çağırdığınızda veya doğrudan değişkeni (my_var) yazdırdığınızda, \n",
    "# muhtemelen aynı değişkenin farklı çıktılar ürettiğini fark etmişsinizdir. \n",
    "# Bunun nedeni, o değişkenin konumu (boşluğu), yani program akışında nerede veya hangi boşlukta tanımlandığıdır.\n",
    "my_var = 'outer variable'\n",
    "\n",
    "def func_var(): \n",
    "\tmy_var= 'inner variable'\n",
    "\tprint(my_var) \n",
    "\n",
    "func_var() \n",
    "print(my_var)\n",
    "# fonksiyonun dışında değişkeni tanımladığımız için değişkenimiz hep aynı kalcaktır."
   ]
  },
  {
   "cell_type": "markdown",
   "metadata": {},
   "source": [
    "# Lambda Functions\n",
    "\n",
    "The formula syntax is : lambda parameters : expression\n",
    "\n",
    "\n",
    "Lambda'nın en önemli avantajları ve kullanımları şunlardır:\n",
    "\n",
    "\n",
    "Parantez kullanarak kendi sözdizimi ile kullanabilirsiniz,\n",
    "\n",
    "\n",
    "Ayrıca bir değişkene atayabilirsiniz,\n",
    "\n",
    "\n",
    "Birkaç yerleşik işlevde kullanabilirsiniz,\n",
    "\n",
    "\n",
    "Kullanıcı tanımlı işlevler (def) içinde faydalı olabilir.\n",
    "\n"
   ]
  },
  {
   "cell_type": "code",
   "execution_count": 34,
   "metadata": {},
   "outputs": [
    {
     "data": {
      "text/plain": [
       "4"
      ]
     },
     "execution_count": 34,
     "metadata": {},
     "output_type": "execute_result"
    }
   ],
   "source": [
    "# Fonksiyonu parantez içine alarak:\n",
    "(lambda x: x**2)(2)  # squares '2'"
   ]
  },
  {
   "cell_type": "code",
   "execution_count": 35,
   "metadata": {},
   "outputs": [
    {
     "name": "stdout",
     "output_type": "stream",
     "text": [
      "4.0\n"
     ]
    }
   ],
   "source": [
    "# Veya aynı sözdizimini kullanarak birden çok bağımsız değişken kullanabilirsiniz:\n",
    "print((lambda x, y: (x+y)/2)(3, 5))  # takes two int, returns mean of them"
   ]
  },
  {
   "cell_type": "code",
   "execution_count": 36,
   "metadata": {},
   "outputs": [
    {
     "name": "stdout",
     "output_type": "stream",
     "text": [
      "4.0\n"
     ]
    }
   ],
   "source": [
    "# Ayrıca parantez içindeki lambda ifadesini bir değişkene atayabilirsiniz:\n",
    "average = (lambda x, y: (x+y)/2)(3, 5) \n",
    "print(average)"
   ]
  },
  {
   "cell_type": "code",
   "execution_count": 37,
   "metadata": {},
   "outputs": [
    {
     "name": "stdout",
     "output_type": "stream",
     "text": [
      "4.0\n"
     ]
    }
   ],
   "source": [
    "# Bir değişkene bir işlev nesnesi atayarak:\n",
    "average = lambda x, y: (x+y)/2\n",
    "print(average(3, 5))  # we call"
   ]
  },
  {
   "cell_type": "code",
   "execution_count": 38,
   "metadata": {},
   "outputs": [
    {
     "name": "stdout",
     "output_type": "stream",
     "text": [
      "hellohellohello\n"
     ]
    }
   ],
   "source": [
    "echo_word = lambda x,y : x*y\n",
    "print(echo_word('hello', 3))"
   ]
  },
  {
   "cell_type": "markdown",
   "metadata": {},
   "source": [
    "# Lambda within Built-in (map()) Functions\n",
    "\n",
    "Lambda within map() function :\n",
    "\n",
    "The basic formula syntax is : map(function, iterable)\n",
    "\n",
    "!!!==>> map(), verilen işlevi liste, tanımlama grubu vb. gibi belirli bir yinelenebilir nesnenin her öğesine uyguladıktan sonra çıktıların bir listesini döndürür.\n",
    "\n"
   ]
  },
  {
   "cell_type": "code",
   "execution_count": 40,
   "metadata": {},
   "outputs": [
    {
     "name": "stdout",
     "output_type": "stream",
     "text": [
      "<class 'map'>\n",
      "[1, 4, 9, 16, 25]\n",
      "[1, 4, 9, 16, 25]\n"
     ]
    }
   ],
   "source": [
    "iterable = [1, 2, 3, 4, 5]\n",
    "result = map(lambda x:x**2, iterable)\n",
    "print(type(result))  # it's a map type\n",
    "\n",
    "print(list(result))  # we've converted it to list type to print\n",
    "\n",
    "print(list(map(lambda x:x**2, iterable)))  # you can print directly"
   ]
  },
  {
   "cell_type": "code",
   "execution_count": 42,
   "metadata": {},
   "outputs": [
    {
     "name": "stdout",
     "output_type": "stream",
     "text": [
      "[1, 4, 9, 16, 25]\n"
     ]
    }
   ],
   "source": [
    "def square(n):   # at least two additional lines of code\n",
    "    return n**2  \n",
    "  \n",
    "iterable = [1, 2, 3, 4, 5]\n",
    "result = map(square, iterable) \n",
    "print(list(result))\n",
    "# görebileceğiniz gibi, en az iki ek kod satırı vardır. Ayrıca square işlevini tekrar kullanmayacağız \n",
    "# çünkü onu sadece map() işlevi içinde kullanmamız gerekiyor."
   ]
  },
  {
   "cell_type": "code",
   "execution_count": 44,
   "metadata": {},
   "outputs": [
    {
     "name": "stdout",
     "output_type": "stream",
     "text": [
      "['one', 'six', 'ten', 'two']\n"
     ]
    }
   ],
   "source": [
    "# Şimdi lambda fonksiyonunda map() kullanarak birden fazla argüman içeren bir örnek vermeye çalışalım:\n",
    "letter1 = ['o', 's', 't', 't']\n",
    "letter2 = ['n', 'i', 'e', 'w']\n",
    "letter3 = ['e', 'x', 'n', 'o']\n",
    "numbers = map(lambda x, y, z: x+y+z, letter1, letter2, letter3)\n",
    "\n",
    "print(list(numbers))\n",
    "# Yukarıdaki örnekte lambda tanımında 👉🏻+ operatörünü kullanarak üç karakter dizisini birleştirdik."
   ]
  },
  {
   "cell_type": "markdown",
   "metadata": {},
   "source": [
    "==> Ayrıca map() öğesinin yinelenebilir nesnelerden her öğeyi birer birer ve sırayla aldığını unutmayın."
   ]
  },
  {
   "cell_type": "code",
   "execution_count": 46,
   "metadata": {},
   "outputs": [
    {
     "name": "stdout",
     "output_type": "stream",
     "text": [
      "[3, 6, 9, 12, 15]\n"
     ]
    }
   ],
   "source": [
    "number_list = [1, 2, 3, 4, 5]\n",
    "\n",
    "result = list(map(lambda x : x*3 , number_list))\n",
    "print(result)"
   ]
  },
  {
   "cell_type": "markdown",
   "metadata": {},
   "source": [
    "# Lambda within filter() function :\n",
    "\n",
    "The basic formula syntax is : filter(function, sequence)\n",
    "\n",
    "!!!=> filter(), dizideki her öğenin doğru olup olmadığını test eden bir işlev (lambda) yardımıyla verilen diziyi (yinelenebilir nesneler) filtreler."
   ]
  },
  {
   "cell_type": "code",
   "execution_count": 47,
   "metadata": {},
   "outputs": [
    {
     "name": "stdout",
     "output_type": "stream",
     "text": [
      "<class 'filter'>\n",
      "Even numbers are : [0, 2, 4, 6, 8]\n"
     ]
    }
   ],
   "source": [
    "# Listedeki çift sayıları filtreleyeceğimiz bir örnekle konuyu kavrayalım.\n",
    "first_ten = [0, 1, 2, 3, 4, 5, 6, 7, 8, 9] \n",
    "  \n",
    "even = filter(lambda x:x%2==0, first_ten) \n",
    "print(type(even))  # it's 'filter' type, \n",
    "                   # in order to print the result,\n",
    "                   # we'd better convert it into the list type\n",
    "\n",
    "print('Even numbers are :', list(even))"
   ]
  },
  {
   "cell_type": "markdown",
   "metadata": {},
   "source": [
    "==> Filter() öğesinin, işlevin sonucunun True veya False olmasına bağlı olarak, yinelenebilir nesnedeki her öğeyi filtrelediğini unutmayın."
   ]
  },
  {
   "cell_type": "code",
   "execution_count": 49,
   "metadata": {},
   "outputs": [
    {
     "name": "stdout",
     "output_type": "stream",
     "text": [
      "Vowels are : ['a', 'e', 'i']\n"
     ]
    }
   ],
   "source": [
    "# Bu sefer, listedeki ilk 10 harfin sesli harflerini filtreleyeceğiz.\n",
    "vowel_list = ['a', 'e', 'i', 'o', 'u']\n",
    "first_ten = ['a', 'b', 'c', 'd', 'e', 'f', 'g', 'h', 'i', 'j']\n",
    "  \n",
    "vowels = filter(lambda x: True if x in vowel_list else False, first_ten) \n",
    "\n",
    "print('Vowels are :', list(vowels))\n",
    "# Bu örnekte kullandığımız lambda tanımının sonuç olarak \n",
    "# yalnızca True veya False verdiği bu konuya dikkatinizi çekiyoruz."
   ]
  },
  {
   "cell_type": "code",
   "execution_count": 50,
   "metadata": {},
   "outputs": [
    {
     "name": "stdout",
     "output_type": "stream",
     "text": [
      "[6, 7, 8, 9, 10]\n"
     ]
    }
   ],
   "source": [
    "number_list = [1, 2, 3, 4, 5, 6, 7, 8, 9, 10]\n",
    "\n",
    "result = list(filter( lambda x : True if x >= 6 in number_list else False, number_list))  \n",
    "print(result)"
   ]
  },
  {
   "cell_type": "markdown",
   "metadata": {},
   "source": [
    "# Lambda within def :\n",
    "\n",
    "\n",
    "Kullanıcı tanımlı bir işlevde lambda deyimi kullanmak bize yararlı fırsatlar sağlar. \n",
    "Program akışımızda daha sonra kullanabileceğimiz bir işlev grubu tanımlayabiliriz. Aşağıdaki örneğe bir göz atın:"
   ]
  },
  {
   "cell_type": "code",
   "execution_count": 53,
   "metadata": {},
   "outputs": [
    {
     "name": "stdout",
     "output_type": "stream",
     "text": [
      "4\n",
      "8\n",
      "16\n"
     ]
    }
   ],
   "source": [
    "def modular_function(n):\n",
    "    return lambda x: x ** n\n",
    "    \n",
    "power_of_2 = modular_function(2)  # def'den türetilen ilk alt işlev\n",
    "power_of_3 = modular_function(3)  # second sub-function derived from def\n",
    "power_of_4 = modular_function(4)  # third sub-function derived from def\n",
    "\n",
    "print(power_of_2(2))  # 2 to the power of 2\n",
    "print(power_of_3(2))  # 2 to the power of 3\n",
    "print(power_of_4(2))  # 2 to the power of 4\n",
    "# burada görüldüğü üzere önce n i tanımladık sonra x e değer gönderdik."
   ]
  },
  {
   "cell_type": "markdown",
   "metadata": {},
   "source": [
    "==> Modüler_function, n sayısı olan bir bağımsız değişken alır ve verilen herhangi bir x sayısının o n'ye göre kuvvetini alan bir işlev döndürür.\n",
    "\n",
    "==> Bu kullanım, bir fonksiyonu esnek olarak kullanmamızı sağladı. Lambda sayesinde tek bir def'i istediğimiz argümanlarla farklı şekillerde kullanabildik. Tek bir tanımdan türetilen üç alt fonksiyon yarattık. Bu esneklik!\n",
    "\n"
   ]
  },
  {
   "cell_type": "code",
   "execution_count": 54,
   "metadata": {},
   "outputs": [
    {
     "name": "stdout",
     "output_type": "stream",
     "text": [
      "alex alex \n",
      "lara lara lara \n",
      "linda linda linda linda \n"
     ]
    }
   ],
   "source": [
    "# Bir önceki örnekle aynı mantıkla, içine geçirilen stringi tekrarlayan bir fonksiyon tanımlayabiliriz.\n",
    "def repeater(n):\n",
    "    return lambda x: x * n\n",
    "    \n",
    "repeat_2_times = repeater(2)  # repeats 2 times\n",
    "repeat_3_times = repeater(3)  # repeats 3 times\n",
    "repeat_4_times = repeater(4)  # repeats 4 times\n",
    "\n",
    "print(repeat_2_times('alex '))\n",
    "print(repeat_3_times('lara '))\n",
    "print(repeat_4_times('linda '))"
   ]
  },
  {
   "cell_type": "markdown",
   "metadata": {},
   "source": [
    "# örnekler"
   ]
  },
  {
   "cell_type": "code",
   "execution_count": 55,
   "metadata": {},
   "outputs": [
    {
     "name": "stdout",
     "output_type": "stream",
     "text": [
      "125\n"
     ]
    }
   ],
   "source": [
    "def modular_function(n):\n",
    "    return lambda x: x ** n\n",
    "\n",
    "power_of_3 = modular_function(3)\n",
    "print(power_of_3(5))"
   ]
  },
  {
   "cell_type": "code",
   "execution_count": 56,
   "metadata": {},
   "outputs": [
    {
     "name": "stdout",
     "output_type": "stream",
     "text": [
      "125\n"
     ]
    }
   ],
   "source": [
    "print((lambda x: x**3)(5))"
   ]
  },
  {
   "cell_type": "code",
   "execution_count": 57,
   "metadata": {},
   "outputs": [
    {
     "name": "stdout",
     "output_type": "stream",
     "text": [
      "9.0\n"
     ]
    }
   ],
   "source": [
    "mean = lambda x, y: (x+y)/2\n",
    "print(mean(8, 10))"
   ]
  },
  {
   "cell_type": "code",
   "execution_count": 58,
   "metadata": {},
   "outputs": [
    {
     "name": "stdout",
     "output_type": "stream",
     "text": [
      "45\n"
     ]
    }
   ],
   "source": [
    "multiply = lambda x: x * 4\n",
    "add = lambda x, y: x + y\n",
    "print(add(multiply(10), 5))"
   ]
  },
  {
   "cell_type": "code",
   "execution_count": 59,
   "metadata": {},
   "outputs": [
    {
     "name": "stdout",
     "output_type": "stream",
     "text": [
      "[1, 8, 27, 64]\n"
     ]
    }
   ],
   "source": [
    "number_list = [1, 2, 3, 4]\n",
    "result = map(lambda x:x**3, number_list)\n",
    "print(list(result)) "
   ]
  },
  {
   "cell_type": "code",
   "execution_count": 60,
   "metadata": {},
   "outputs": [
    {
     "name": "stdout",
     "output_type": "stream",
     "text": [
      "[0, 3, 6, 9, 12]\n"
     ]
    }
   ],
   "source": [
    "number_list = [0, 1, 2, 3, 4, 5, 6, 7, 8, 9, 10, 11, 12] \n",
    "divisible_list = filter(lambda x:x%3==0, number_list) \n",
    "print(list(divisible_list))"
   ]
  }
 ],
 "metadata": {
  "interpreter": {
   "hash": "916dbcbb3f70747c44a77c7bcd40155683ae19c65e1c03b4aa3499c5328201f1"
  },
  "kernelspec": {
   "display_name": "Python 3",
   "language": "python",
   "name": "python3"
  },
  "language_info": {
   "codemirror_mode": {
    "name": "ipython",
    "version": 3
   },
   "file_extension": ".py",
   "mimetype": "text/x-python",
   "name": "python",
   "nbconvert_exporter": "python",
   "pygments_lexer": "ipython3",
   "version": "3.8.8"
  }
 },
 "nbformat": 4,
 "nbformat_minor": 2
}
