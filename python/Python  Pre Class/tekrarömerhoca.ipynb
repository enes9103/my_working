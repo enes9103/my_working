{
 "cells": [
  {
   "cell_type": "code",
   "execution_count": 10,
   "metadata": {},
   "outputs": [
    {
     "name": "stdout",
     "output_type": "stream",
     "text": [
      "0\n"
     ]
    }
   ],
   "source": [
    "# python data types and basic operations \n",
    "\n",
    "# integer \n",
    "# float\n",
    "# complex\n",
    "# string\n",
    "# boolean\n",
    "\n",
    "integer = 5 \n",
    "a = int()\n",
    "float_number = 5.0\n",
    "string = \"Omer Karsli\" # find split replace strip count\n",
    "boolean = True\n"
   ]
  },
  {
   "cell_type": "code",
   "execution_count": 16,
   "metadata": {},
   "outputs": [
    {
     "data": {
      "text/plain": [
       "[('name', 'omer'), ('surname', 'karsli')]"
      ]
     },
     "execution_count": 16,
     "metadata": {},
     "output_type": "execute_result"
    }
   ],
   "source": [
    "# collections \n",
    "# list tuple set dictionary \n",
    "liste = [\"Omer\", 1, True, 4.2]\n",
    "tuple1 = (\"Emir\", 2, False, 3.6)\n",
    "set1 = {1,2,3,4,5,5}\n",
    "dictionary = {\"name\" : \"omer\", \n",
    "              \"surname\" : \"karsli\"}"
   ]
  },
  {
   "cell_type": "code",
   "execution_count": 20,
   "metadata": {},
   "outputs": [
    {
     "name": "stdout",
     "output_type": "stream",
     "text": [
      "Bu bir sayi degildir\n"
     ]
    }
   ],
   "source": [
    "# conditionals\n",
    "# if condition:\n",
    "#   condition-body 1\n",
    "# elif condition:\n",
    "#   condition-body 2\n",
    "# else:\n",
    "#   condition-body 3\n",
    "\n",
    "# == < > != >= <= not and or \n",
    "integer = \"123\"\n",
    "if integer.isdigit():\n",
    "    print(\"Bu bir sayidir\")\n",
    "else:\n",
    "    print(\"Bu bir sayi degildir\")"
   ]
  },
  {
   "cell_type": "code",
   "execution_count": 36,
   "metadata": {},
   "outputs": [
    {
     "name": "stdout",
     "output_type": "stream",
     "text": [
      "merhaba benim ismim omer 1\n",
      "merhaba benim ismim omer 22\n",
      "merhaba benim ismim omer 3\n",
      "merhaba benim ismim omer 4\n",
      "merhaba benim ismim omer 23\n",
      "merhaba benim ismim omer 67\n",
      "merhaba benim ismim omer 7\n",
      "merhaba benim ismim omer 84\n",
      "merhaba benim ismim omer 9\n",
      "merhaba benim ismim omer 10\n",
      "a\n",
      "b\n",
      "c\n",
      "d\n",
      "e\n",
      "0 0\n",
      "0 1\n",
      "0 2\n",
      "0 3\n",
      "1 0\n",
      "1 1\n",
      "1 2\n",
      "1 3\n",
      "2 0\n",
      "2 1\n",
      "2 2\n",
      "2 3\n",
      "3 0\n",
      "3 1\n",
      "3 2\n",
      "3 3\n"
     ]
    }
   ],
   "source": [
    "# loops\n",
    "# for -> iterable auto increment \n",
    "# while -> condition\n",
    "\n",
    "numbers = [1,22,3,4,23,67,7,84,9,10]\n",
    "\n",
    "#iterator generator\n",
    "for i in numbers:\n",
    "    # i = siradaki ifade\n",
    "    print(\"merhaba benim ismim omer\", i)\n",
    "\n",
    "\n",
    "a = \"abc12de34\"\n",
    "for j in a:    \n",
    "    if j.isdigit():\n",
    "        continue\n",
    "    print(j)\n",
    "\n",
    "\n",
    "# range\n"
   ]
  },
  {
   "cell_type": "code",
   "execution_count": 41,
   "metadata": {},
   "outputs": [
    {
     "data": {
      "text/plain": [
       "[2, 4, 6, 8, 10, 12]"
      ]
     },
     "execution_count": 41,
     "metadata": {},
     "output_type": "execute_result"
    }
   ],
   "source": [
    "# comprehension\n",
    "# comprehension_list = [element loop]\n",
    "\n",
    "liste = [1,2,3,4,5,6]\n",
    "\n",
    "comprehension_list = [ i*2 for i in liste if i%2 ==0]\n",
    "comprehension_list"
   ]
  },
  {
   "cell_type": "code",
   "execution_count": 5,
   "metadata": {},
   "outputs": [],
   "source": [
    "# packages"
   ]
  },
  {
   "cell_type": "code",
   "execution_count": 38,
   "metadata": {},
   "outputs": [
    {
     "name": "stdout",
     "output_type": "stream",
     "text": [
      "0 3\n",
      "1 3\n",
      "2 3\n",
      "3 3\n"
     ]
    }
   ],
   "source": []
  },
  {
   "cell_type": "code",
   "execution_count": 39,
   "metadata": {},
   "outputs": [
    {
     "name": "stdout",
     "output_type": "stream",
     "text": [
      "0 3\n",
      "1 3\n",
      "2 3\n",
      "3 3\n"
     ]
    }
   ],
   "source": []
  }
 ],
 "metadata": {
  "interpreter": {
   "hash": "63fd5069d213b44bf678585dea6b12cceca9941eaf7f819626cde1f2670de90d"
  },
  "kernelspec": {
   "display_name": "Python 3.9.5 64-bit",
   "language": "python",
   "name": "python3"
  },
  "language_info": {
   "codemirror_mode": {
    "name": "ipython",
    "version": 3
   },
   "file_extension": ".py",
   "mimetype": "text/x-python",
   "name": "python",
   "nbconvert_exporter": "python",
   "pygments_lexer": "ipython3",
   "version": "3.9.5"
  },
  "orig_nbformat": 4
 },
 "nbformat": 4,
 "nbformat_minor": 2
}
