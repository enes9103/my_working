{
 "cells": [
  {
   "cell_type": "code",
   "execution_count": 25,
   "id": "d7e7153a",
   "metadata": {},
   "outputs": [
    {
     "name": "stdout",
     "output_type": "stream",
     "text": [
      "Hello World!\n"
     ]
    }
   ],
   "source": [
    "print (\"Hello World!\") # BU BİR DENEMEDİR \n",
    "# print (\"Hello World!\") \n",
    "# even_numbers = [2, 4, 6, 8, 10, 12, 14, 16, 18, 20]\n",
    "# print(even_numbers[4:9])"
   ]
  },
  {
   "cell_type": "code",
   "execution_count": 26,
   "id": "9ac5fe4c",
   "metadata": {},
   "outputs": [],
   "source": [
    "_myvar = 1"
   ]
  },
  {
   "cell_type": "code",
   "execution_count": 27,
   "id": "f644d579",
   "metadata": {},
   "outputs": [],
   "source": [
    "Myvar = 2"
   ]
  },
  {
   "cell_type": "code",
   "execution_count": 28,
   "id": "7989fa9a",
   "metadata": {},
   "outputs": [],
   "source": [
    "my_var = 3"
   ]
  },
  {
   "cell_type": "code",
   "execution_count": 29,
   "id": "554d41b1",
   "metadata": {},
   "outputs": [
    {
     "ename": "SyntaxError",
     "evalue": "cannot assign to operator (<ipython-input-29-25817e6275a3>, line 1)",
     "output_type": "error",
     "traceback": [
      "\u001b[1;36m  File \u001b[1;32m\"<ipython-input-29-25817e6275a3>\"\u001b[1;36m, line \u001b[1;32m1\u001b[0m\n\u001b[1;33m    my-var = 4\u001b[0m\n\u001b[1;37m    ^\u001b[0m\n\u001b[1;31mSyntaxError\u001b[0m\u001b[1;31m:\u001b[0m cannot assign to operator\n"
     ]
    }
   ],
   "source": [
    "my-var = 4"
   ]
  },
  {
   "cell_type": "code",
   "execution_count": 30,
   "id": "4fad0183",
   "metadata": {},
   "outputs": [
    {
     "name": "stdout",
     "output_type": "stream",
     "text": [
      "<class 'str'>\n"
     ]
    }
   ],
   "source": [
    "x = \"deneme\"\n",
    "print(type(x))"
   ]
  },
  {
   "cell_type": "code",
   "execution_count": 31,
   "id": "05b1a461",
   "metadata": {},
   "outputs": [
    {
     "ename": "NameError",
     "evalue": "name 'typeOf' is not defined",
     "output_type": "error",
     "traceback": [
      "\u001b[1;31m---------------------------------------------------------------------------\u001b[0m",
      "\u001b[1;31mNameError\u001b[0m                                 Traceback (most recent call last)",
      "\u001b[1;32m<ipython-input-31-af302fd01a03>\u001b[0m in \u001b[0;36m<module>\u001b[1;34m\u001b[0m\n\u001b[1;32m----> 1\u001b[1;33m \u001b[0mprint\u001b[0m\u001b[1;33m(\u001b[0m\u001b[0mtypeOf\u001b[0m\u001b[1;33m(\u001b[0m\u001b[0mx\u001b[0m\u001b[1;33m)\u001b[0m\u001b[1;33m)\u001b[0m\u001b[1;33m\u001b[0m\u001b[1;33m\u001b[0m\u001b[0m\n\u001b[0m",
      "\u001b[1;31mNameError\u001b[0m: name 'typeOf' is not defined"
     ]
    }
   ],
   "source": [
    "print(typeOf(x))"
   ]
  },
  {
   "cell_type": "code",
   "execution_count": 33,
   "id": "2016391b",
   "metadata": {},
   "outputs": [
    {
     "ename": "NameError",
     "evalue": "name 'typeof' is not defined",
     "output_type": "error",
     "traceback": [
      "\u001b[1;31m---------------------------------------------------------------------------\u001b[0m",
      "\u001b[1;31mNameError\u001b[0m                                 Traceback (most recent call last)",
      "\u001b[1;32m<ipython-input-33-101e9228f30d>\u001b[0m in \u001b[0;36m<module>\u001b[1;34m\u001b[0m\n\u001b[1;32m----> 1\u001b[1;33m \u001b[0mprint\u001b[0m\u001b[1;33m(\u001b[0m\u001b[0mtypeof\u001b[0m\u001b[1;33m(\u001b[0m\u001b[0mx\u001b[0m\u001b[1;33m)\u001b[0m\u001b[1;33m)\u001b[0m\u001b[1;33m\u001b[0m\u001b[1;33m\u001b[0m\u001b[0m\n\u001b[0m",
      "\u001b[1;31mNameError\u001b[0m: name 'typeof' is not defined"
     ]
    }
   ],
   "source": [
    "print(typeof(x))"
   ]
  },
  {
   "cell_type": "code",
   "execution_count": 34,
   "id": "59256a4c",
   "metadata": {},
   "outputs": [
    {
     "ename": "SyntaxError",
     "evalue": "invalid syntax (<ipython-input-34-4f9e9fbd8e49>, line 1)",
     "output_type": "error",
     "traceback": [
      "\u001b[1;36m  File \u001b[1;32m\"<ipython-input-34-4f9e9fbd8e49>\"\u001b[1;36m, line \u001b[1;32m1\u001b[0m\n\u001b[1;33m    print(typeof x)\u001b[0m\n\u001b[1;37m                 ^\u001b[0m\n\u001b[1;31mSyntaxError\u001b[0m\u001b[1;31m:\u001b[0m invalid syntax\n"
     ]
    }
   ],
   "source": [
    "print(typeof x)"
   ]
  },
  {
   "cell_type": "code",
   "execution_count": 36,
   "id": "f59acd24",
   "metadata": {},
   "outputs": [
    {
     "data": {
      "text/plain": [
       "' wo'"
      ]
     },
     "execution_count": 36,
     "metadata": {},
     "output_type": "execute_result"
    }
   ],
   "source": [
    "example = \"snow world\"\n",
    "example[4:7]"
   ]
  },
  {
   "cell_type": "code",
   "execution_count": 40,
   "id": "83bfc4d3",
   "metadata": {},
   "outputs": [
    {
     "name": "stdout",
     "output_type": "stream",
     "text": [
      "cd\n"
     ]
    }
   ],
   "source": [
    "print(\"abcd\"[2:])"
   ]
  },
  {
   "cell_type": "code",
   "execution_count": 41,
   "id": "fe8ee6c7",
   "metadata": {},
   "outputs": [
    {
     "name": "stdout",
     "output_type": "stream",
     "text": [
      "c\n"
     ]
    }
   ],
   "source": [
    "print(chr(ord('b')+1))"
   ]
  },
  {
   "cell_type": "code",
   "execution_count": 43,
   "id": "a5fbe879",
   "metadata": {},
   "outputs": [
    {
     "data": {
      "text/plain": [
       "98"
      ]
     },
     "execution_count": 43,
     "metadata": {},
     "output_type": "execute_result"
    }
   ],
   "source": [
    "ord('b')"
   ]
  },
  {
   "cell_type": "code",
   "execution_count": 45,
   "id": "d34c6ce1",
   "metadata": {},
   "outputs": [
    {
     "data": {
      "text/plain": [
       "'c'"
      ]
     },
     "execution_count": 45,
     "metadata": {},
     "output_type": "execute_result"
    }
   ],
   "source": [
    "chr(98+1)"
   ]
  },
  {
   "cell_type": "code",
   "execution_count": 46,
   "id": "89a4df7c",
   "metadata": {},
   "outputs": [
    {
     "name": "stdout",
     "output_type": "stream",
     "text": [
      "Welcome   # 111#924.66\n"
     ]
    }
   ],
   "source": [
    "print(format(\"Welcome\", \"10s\"), end = '#')\n",
    "print(format(111, \"4d\"), end = '#')\n",
    "print(format(924.656, \"3.2f\"))"
   ]
  },
  {
   "cell_type": "code",
   "execution_count": 47,
   "id": "72104b16",
   "metadata": {},
   "outputs": [
    {
     "name": "stdout",
     "output_type": "stream",
     "text": [
      "1\n"
     ]
    }
   ],
   "source": [
    "print(\"xyyzxyzxzxyy\".count('yy', 2))"
   ]
  },
  {
   "cell_type": "code",
   "execution_count": null,
   "id": "beffa8e8",
   "metadata": {},
   "outputs": [],
   "source": []
  },
  {
   "cell_type": "code",
   "execution_count": 5,
   "id": "be528f54",
   "metadata": {},
   "outputs": [
    {
     "name": "stdout",
     "output_type": "stream",
     "text": [
      "sevim'in kedisi\n"
     ]
    }
   ],
   "source": [
    "print(\"sevim'in kedisi\")"
   ]
  },
  {
   "cell_type": "code",
   "execution_count": 6,
   "id": "b65f59b1",
   "metadata": {},
   "outputs": [
    {
     "name": "stdout",
     "output_type": "stream",
     "text": [
      "sevim\"in kedisi\n"
     ]
    }
   ],
   "source": [
    "print('sevim\"in kedisi')"
   ]
  },
  {
   "cell_type": "code",
   "execution_count": 7,
   "id": "c4f97f66",
   "metadata": {},
   "outputs": [
    {
     "name": "stdout",
     "output_type": "stream",
     "text": [
      "selam\"\n"
     ]
    }
   ],
   "source": [
    "print('''selam\"''')"
   ]
  },
  {
   "cell_type": "code",
   "execution_count": 8,
   "id": "a9038010",
   "metadata": {},
   "outputs": [
    {
     "name": "stdout",
     "output_type": "stream",
     "text": [
      "\n"
     ]
    }
   ],
   "source": [
    "print(\"\"\"\"\"\")"
   ]
  },
  {
   "cell_type": "code",
   "execution_count": 1,
   "id": "4ba41436",
   "metadata": {},
   "outputs": [],
   "source": [
    "class_number=5"
   ]
  },
  {
   "cell_type": "code",
   "execution_count": 2,
   "id": "24edffd5",
   "metadata": {},
   "outputs": [
    {
     "data": {
      "text/plain": [
       "1"
      ]
     },
     "execution_count": 2,
     "metadata": {},
     "output_type": "execute_result"
    }
   ],
   "source": [
    "10%3"
   ]
  },
  {
   "cell_type": "code",
   "execution_count": 7,
   "id": "be89c56f",
   "metadata": {},
   "outputs": [
    {
     "data": {
      "text/plain": [
       "(3, 350)"
      ]
     },
     "execution_count": 7,
     "metadata": {},
     "output_type": "execute_result"
    }
   ],
   "source": [
    "3,14*25"
   ]
  },
  {
   "cell_type": "markdown",
   "id": "5ec9ca5f",
   "metadata": {},
   "source": [
    "pi=3.14\n"
   ]
  },
  {
   "cell_type": "code",
   "execution_count": 10,
   "id": "dc2f2ac4",
   "metadata": {},
   "outputs": [
    {
     "data": {
      "text/plain": [
       "5.0"
      ]
     },
     "execution_count": 10,
     "metadata": {},
     "output_type": "execute_result"
    }
   ],
   "source": [
    "a=3\n",
    "b=4\n",
    "c=(a**2+b**2)**0.5\n",
    "c"
   ]
  },
  {
   "cell_type": "code",
   "execution_count": null,
   "id": "2046e178",
   "metadata": {},
   "outputs": [],
   "source": [
    "print()"
   ]
  },
  {
   "cell_type": "code",
   "execution_count": 17,
   "id": "7f7f926d",
   "metadata": {},
   "outputs": [
    {
     "name": "stdout",
     "output_type": "stream",
     "text": [
      "Clarusway, Clarusway, Clarusway, \n",
      " \t Clarusway, Clarusway, Clarusway,\n",
      " \t \t Clarusway, Clarusway, Clarusway\n"
     ]
    }
   ],
   "source": [
    "text = \"Clarusway, Clarusway, Clarusway, \\n \\t Clarusway, Clarusway, Clarusway,\\n \\t \\t Clarusway, Clarusway, Clarusway\"\n",
    "\n",
    "print(text)"
   ]
  },
  {
   "cell_type": "code",
   "execution_count": null,
   "id": "4da20f03",
   "metadata": {},
   "outputs": [],
   "source": [
    "faiz_orani = float(input(\"7\"))\n",
    "vade = int(input(\"7/365\"))\n",
    "anapara = float(input(\"1000\"))\n",
    " \n",
    "faiz = 7*(7/365)*1000\n",
    " \n",
    "print(\"Hesaplanan faiz\",faiz)"
   ]
  },
  {
   "cell_type": "code",
   "execution_count": null,
   "id": "3d44ef09",
   "metadata": {},
   "outputs": [],
   "source": [
    "faiz_orani = float(input(\"7\"))\n",
    "vade = int(input(\"7/365\"))\n",
    "anapara = float(input(\"1000\"))\n",
    " \n",
    "faiz = 7*(7/365)*1000\n",
    " \n",
    "print(\"Hesaplanan faiz\",faiz)"
   ]
  },
  {
   "cell_type": "code",
   "execution_count": null,
   "id": "2b602596",
   "metadata": {},
   "outputs": [],
   "source": [
    "print(5*4)"
   ]
  },
  {
   "cell_type": "code",
   "execution_count": null,
   "id": "4da6b811",
   "metadata": {},
   "outputs": [],
   "source": [
    "print('sevim\"in kedisi')"
   ]
  },
  {
   "cell_type": "code",
   "execution_count": 2,
   "id": "c7391061",
   "metadata": {},
   "outputs": [
    {
     "data": {
      "text/plain": [
       "'metodlar 1, okul 2'"
      ]
     },
     "execution_count": 2,
     "metadata": {},
     "output_type": "execute_result"
    }
   ],
   "source": [
    "\"metodlar {}, okul {}\".format(1,2)"
   ]
  },
  {
   "cell_type": "code",
   "execution_count": 4,
   "id": "4bbe9276",
   "metadata": {},
   "outputs": [
    {
     "ename": "SyntaxError",
     "evalue": "unexpected EOF while parsing (<ipython-input-4-47dc098d4be4>, line 2)",
     "output_type": "error",
     "traceback": [
      "\u001b[1;36m  File \u001b[1;32m\"<ipython-input-4-47dc098d4be4>\"\u001b[1;36m, line \u001b[1;32m2\u001b[0m\n\u001b[1;33m    \u001b[0m\n\u001b[1;37m    ^\u001b[0m\n\u001b[1;31mSyntaxError\u001b[0m\u001b[1;31m:\u001b[0m unexpected EOF while parsing\n"
     ]
    }
   ],
   "source": [
    "print(not None or (int(\"2\"))\n",
    " "
   ]
  },
  {
   "cell_type": "code",
   "execution_count": 16,
   "id": "12f1c52a",
   "metadata": {},
   "outputs": [],
   "source": [
    "phrase='{2}{3}{1}{0}'.format('circumstances', 'in all', 'generosity', 'wins')"
   ]
  },
  {
   "cell_type": "code",
   "execution_count": 14,
   "id": "94200ce3",
   "metadata": {},
   "outputs": [],
   "source": [
    "phrase='{2}{3}{1}{0}'.format(\"circumstances\", \"in all\", \"generosity\", \"wins\")"
   ]
  },
  {
   "cell_type": "code",
   "execution_count": 1,
   "id": "cb76bdd8",
   "metadata": {},
   "outputs": [
    {
     "name": "stdout",
     "output_type": "stream",
     "text": [
      "[10, 12, 14, 16, 18]\n"
     ]
    }
   ],
   "source": [
    "even_numbers = [2, 4, 6, 8, 10, 12, 14, 16, 18, 20]\n",
    "\n",
    "print(even_numbers[4:9])"
   ]
  },
  {
   "cell_type": "code",
   "execution_count": 2,
   "id": "0023fb7a",
   "metadata": {},
   "outputs": [
    {
     "name": "stdout",
     "output_type": "stream",
     "text": [
      "1\n"
     ]
    }
   ],
   "source": [
    "print(len([[12, 34, 56]]))"
   ]
  },
  {
   "cell_type": "code",
   "execution_count": 3,
   "id": "3c061fdb",
   "metadata": {},
   "outputs": [
    {
     "name": "stdout",
     "output_type": "stream",
     "text": [
      "3\n"
     ]
    }
   ],
   "source": [
    "print(len([[12, 34, 56]][0]))"
   ]
  },
  {
   "cell_type": "code",
   "execution_count": 4,
   "id": "f97d764e",
   "metadata": {},
   "outputs": [
    {
     "ename": "AttributeError",
     "evalue": "'tuple' object has no attribute 'append'",
     "output_type": "error",
     "traceback": [
      "\u001b[1;31m---------------------------------------------------------------------------\u001b[0m",
      "\u001b[1;31mAttributeError\u001b[0m                            Traceback (most recent call last)",
      "\u001b[1;32m<ipython-input-4-0ca9ec98ccea>\u001b[0m in \u001b[0;36m<module>\u001b[1;34m\u001b[0m\n\u001b[0;32m      1\u001b[0m \u001b[0mmix_value\u001b[0m \u001b[1;33m=\u001b[0m \u001b[1;33m(\u001b[0m\u001b[1;36m10\u001b[0m\u001b[1;33m,\u001b[0m \u001b[1;32mFalse\u001b[0m\u001b[1;33m,\u001b[0m \u001b[1;34m'fruit'\u001b[0m\u001b[1;33m,\u001b[0m \u001b[1;36m1.618\u001b[0m\u001b[1;33m)\u001b[0m\u001b[1;33m\u001b[0m\u001b[1;33m\u001b[0m\u001b[0m\n\u001b[1;32m----> 2\u001b[1;33m \u001b[0mmix_value\u001b[0m\u001b[1;33m.\u001b[0m\u001b[0mappend\u001b[0m\u001b[1;33m(\u001b[0m\u001b[1;33m[\u001b[0m\u001b[1;34m'vegetable'\u001b[0m\u001b[1;33m,\u001b[0m \u001b[1;36m2\u001b[0m\u001b[1;33m+\u001b[0m\u001b[1;36m3j\u001b[0m\u001b[1;33m]\u001b[0m\u001b[1;33m)\u001b[0m\u001b[1;33m\u001b[0m\u001b[1;33m\u001b[0m\u001b[0m\n\u001b[0m\u001b[0;32m      3\u001b[0m \u001b[1;33m\u001b[0m\u001b[0m\n\u001b[0;32m      4\u001b[0m \u001b[0mprint\u001b[0m\u001b[1;33m(\u001b[0m\u001b[0mlen\u001b[0m\u001b[1;33m(\u001b[0m\u001b[0mmix_value\u001b[0m\u001b[1;33m)\u001b[0m\u001b[1;33m)\u001b[0m\u001b[1;33m\u001b[0m\u001b[1;33m\u001b[0m\u001b[0m\n",
      "\u001b[1;31mAttributeError\u001b[0m: 'tuple' object has no attribute 'append'"
     ]
    }
   ],
   "source": [
    "mix_value = (10, False, 'fruit', 1.618)\n",
    "mix_value.append(['vegetable', 2+3j])\n",
    "\n",
    "print(len(mix_value))"
   ]
  },
  {
   "cell_type": "code",
   "execution_count": 5,
   "id": "009c66f0",
   "metadata": {},
   "outputs": [
    {
     "name": "stdout",
     "output_type": "stream",
     "text": [
      "first line\n",
      "third line\n"
     ]
    }
   ],
   "source": [
    "print(\"first line\")\n",
    "# print(\"second line\")\n",
    "print(\"third line\")  # print(\"forth line\")"
   ]
  },
  {
   "cell_type": "code",
   "execution_count": 25,
   "id": "0e666314",
   "metadata": {},
   "outputs": [
    {
     "ename": "IndexError",
     "evalue": "list index out of range",
     "output_type": "error",
     "traceback": [
      "\u001b[1;31m---------------------------------------------------------------------------\u001b[0m",
      "\u001b[1;31mIndexError\u001b[0m                                Traceback (most recent call last)",
      "\u001b[1;32m<ipython-input-25-0ec9c18533ae>\u001b[0m in \u001b[0;36m<module>\u001b[1;34m\u001b[0m\n\u001b[0;32m      1\u001b[0m \u001b[0mflowers\u001b[0m \u001b[1;33m=\u001b[0m \u001b[1;33m[\u001b[0m\u001b[1;33m[\u001b[0m\u001b[1;34m\"jasmine\"\u001b[0m\u001b[1;33m,\u001b[0m \u001b[1;33m[\u001b[0m\u001b[1;34m\"lavender\"\u001b[0m\u001b[1;33m,\u001b[0m \u001b[1;34m\"rose\"\u001b[0m\u001b[1;33m]\u001b[0m\u001b[1;33m,\u001b[0m \u001b[1;34m\"tulip\"\u001b[0m\u001b[1;33m]\u001b[0m\u001b[1;33m]\u001b[0m\u001b[1;33m\u001b[0m\u001b[1;33m\u001b[0m\u001b[0m\n\u001b[0;32m      2\u001b[0m \u001b[0mcolors\u001b[0m \u001b[1;33m=\u001b[0m \u001b[1;33m[\u001b[0m\u001b[1;34m\"red\"\u001b[0m\u001b[1;33m,\u001b[0m \u001b[1;33m(\u001b[0m\u001b[1;34m\"blue\"\u001b[0m\u001b[1;33m,\u001b[0m \u001b[1;33m[\u001b[0m\u001b[1;34m\"yellow\"\u001b[0m\u001b[1;33m,\u001b[0m \u001b[1;34m\"green\"\u001b[0m\u001b[1;33m]\u001b[0m\u001b[1;33m)\u001b[0m\u001b[1;33m,\u001b[0m \u001b[1;34m\"pink\"\u001b[0m\u001b[1;33m]\u001b[0m\u001b[1;33m\u001b[0m\u001b[1;33m\u001b[0m\u001b[0m\n\u001b[1;32m----> 3\u001b[1;33m \u001b[0mtext\u001b[0m \u001b[1;33m=\u001b[0m \u001b[1;34m\"My two favorite flowers are {} and {}, two favorite colors are {} and {}.\"\u001b[0m\u001b[1;33m.\u001b[0m\u001b[0mformat\u001b[0m\u001b[1;33m(\u001b[0m\u001b[0mflowers\u001b[0m \u001b[1;33m[\u001b[0m\u001b[1;36m2\u001b[0m\u001b[1;33m]\u001b[0m\u001b[1;33m,\u001b[0m \u001b[0mflowers\u001b[0m\u001b[1;33m[\u001b[0m\u001b[1;36m1\u001b[0m\u001b[1;33m]\u001b[0m\u001b[1;33m[\u001b[0m\u001b[1;36m2\u001b[0m\u001b[1;33m]\u001b[0m\u001b[1;33m,\u001b[0m \u001b[0mcolors\u001b[0m\u001b[1;33m[\u001b[0m\u001b[1;36m1\u001b[0m\u001b[1;33m]\u001b[0m\u001b[1;33m[\u001b[0m\u001b[1;36m0\u001b[0m\u001b[1;33m]\u001b[0m\u001b[1;33m,\u001b[0m \u001b[0mcolors\u001b[0m\u001b[1;33m[\u001b[0m\u001b[1;36m1\u001b[0m\u001b[1;33m]\u001b[0m\u001b[1;33m[\u001b[0m\u001b[1;36m1\u001b[0m\u001b[1;33m]\u001b[0m\u001b[1;33m)\u001b[0m\u001b[1;33m\u001b[0m\u001b[1;33m\u001b[0m\u001b[0m\n\u001b[0m\u001b[0;32m      4\u001b[0m \u001b[0mprint\u001b[0m\u001b[1;33m(\u001b[0m\u001b[0mtext\u001b[0m\u001b[1;33m)\u001b[0m\u001b[1;33m\u001b[0m\u001b[1;33m\u001b[0m\u001b[0m\n",
      "\u001b[1;31mIndexError\u001b[0m: list index out of range"
     ]
    }
   ],
   "source": [
    "flowers = [[\"jasmine\", [\"lavender\", \"rose\"], \"tulip\"]]\n",
    "colors = [\"red\", (\"blue\", [\"yellow\", \"green\"]), \"pink\"]\n",
    "text = \"My two favorite flowers are {} and {}, two favorite colors are {} and {}.\".format(flowers [2], flowers[1][2], colors[1][0], colors[1][1])\n",
    "print(text)"
   ]
  },
  {
   "cell_type": "code",
   "execution_count": 36,
   "id": "11222c30",
   "metadata": {},
   "outputs": [
    {
     "name": "stdout",
     "output_type": "stream",
     "text": [
      "My two favorite flowers are tulip and rose, two favorite colors are blue and green.\n"
     ]
    }
   ],
   "source": [
    "flowers = [[\"jasmine\", [\"lavender\", \"rose\"], \"tulip\"]]\n",
    "colors = [\"red\", (\"blue\", [\"yellow\", \"green\"]), \"pink\"]\n",
    "text = f'My two favorite flowers are {flowers [0][2]} and {flowers[0][1][1]}, two favorite colors are {colors[1][0]} and {colors[1][1][-1]}.'\n",
    "print(text)"
   ]
  },
  {
   "cell_type": "code",
   "execution_count": 44,
   "id": "74c2cc84",
   "metadata": {},
   "outputs": [
    {
     "name": "stdout",
     "output_type": "stream",
     "text": [
      "My two favorite flowers are tulip and rose, two favorite colors are blue and green.\n"
     ]
    }
   ],
   "source": [
    "flowers = [[\"jasmine\", [\"lavender\", \"rose\"], \"tulip\"]]\n",
    "colors = [\"red\", (\"blue\", [\"yellow\", \"green\"]), \"pink\"]\n",
    "text = \"My two favorite flowers are {} and {}, two favorite colors are {} and {}.\".format(flowers [0][2], flowers[0][1][1], \\\n",
    "                                                                                          colors[1][0], colors[1][1][-1])\n",
    "print(text)"
   ]
  },
  {
   "cell_type": "code",
   "execution_count": 45,
   "id": "838beb7d",
   "metadata": {},
   "outputs": [
    {
     "name": "stdout",
     "output_type": "stream",
     "text": [
      "My two favorite flowers are tulip and rose, two favorite colors are blue and green.\n"
     ]
    }
   ],
   "source": [
    "flowers = [[\"jasmine\", [\"lavender\", \"rose\"], \"tulip\"]]\n",
    "colors = [\"red\", (\"blue\", [\"yellow\", \"green\"]), \"pink\"]\n",
    "text = \"My two favorite flowers are {} and {}, two favorite colors are {} and {}.\".format(flowers[0][2], flowers[0][1][1],\n",
    "colors[1][0], colors[1][1][1])\n",
    "print(text)"
   ]
  },
  {
   "cell_type": "code",
   "execution_count": null,
   "id": "14079929",
   "metadata": {},
   "outputs": [],
   "source": []
  },
  {
   "cell_type": "code",
   "execution_count": null,
   "id": "0f07b507",
   "metadata": {},
   "outputs": [],
   "source": []
  },
  {
   "cell_type": "code",
   "execution_count": 11,
   "id": "d564be9b",
   "metadata": {},
   "outputs": [
    {
     "name": "stdout",
     "output_type": "stream",
     "text": [
      "elma\n",
      "armut\n",
      "çilek\n",
      "kiraz\n"
     ]
    }
   ],
   "source": [
    "meyveler = [\"elma\", \"armut\", \"çilek\", \"kiraz\"]\n",
    "\n",
    "for meyve in meyveler:\n",
    "    print(meyve)"
   ]
  },
  {
   "cell_type": "code",
   "execution_count": 18,
   "id": "2e1947df",
   "metadata": {
    "scrolled": true
   },
   "outputs": [],
   "source": [
    "öğe_sırası+=1"
   ]
  },
  {
   "cell_type": "code",
   "execution_count": 21,
   "id": "bcc07c2d",
   "metadata": {},
   "outputs": [
    {
     "name": "stdout",
     "output_type": "stream",
     "text": [
      "0. elma\n",
      "1. armut\n",
      "2. çilek\n",
      "3. kiraz\n"
     ]
    }
   ],
   "source": [
    "meyveler = [\"elma\", \"armut\", \"çilek\", \"kiraz\"]\n",
    "\n",
    "for öğe_sırası in range(len(meyveler)):\n",
    "    print(\"{}. {}\".format(öğe_sırası, meyveler[öğe_sırası]))"
   ]
  },
  {
   "cell_type": "code",
   "execution_count": 7,
   "id": "4ad6e82a",
   "metadata": {},
   "outputs": [
    {
     "name": "stdout",
     "output_type": "stream",
     "text": [
      "[1, 2, 3, 4, 5, 6, 7, 8, 9, 10]\n"
     ]
    }
   ],
   "source": [
    "my_list = [1, 2, 3, 4, 5, 6, 7, 8, 9, 10]\n",
    "range(1, 10)\n",
    "print(my_list)"
   ]
  },
  {
   "cell_type": "code",
   "execution_count": 1,
   "id": "f730a621",
   "metadata": {},
   "outputs": [
    {
     "name": "stdout",
     "output_type": "stream",
     "text": [
      "clarusway\n"
     ]
    }
   ],
   "source": [
    "text=\"clarusway\"\n",
    "text.replace(\"c\", \"C\")\n",
    "print(text)"
   ]
  },
  {
   "cell_type": "code",
   "execution_count": 2,
   "id": "44b8d44d",
   "metadata": {},
   "outputs": [
    {
     "data": {
      "text/plain": [
       "'The Better The Family, The Better The Society'"
      ]
     },
     "execution_count": 2,
     "metadata": {},
     "output_type": "execute_result"
    }
   ],
   "source": [
    "text = \"the better the family, the better the society\"\n",
    "text.title()\n"
   ]
  },
  {
   "cell_type": "code",
   "execution_count": 3,
   "id": "8d560c74",
   "metadata": {},
   "outputs": [
    {
     "name": "stdout",
     "output_type": "stream",
     "text": [
      "Sodome and Gomore\n"
     ]
    }
   ],
   "source": [
    "text = \"S0d0me and G0m0re\"\n",
    "text1 = text.replace(\"0\" , \"o\")\n",
    "print(text1)"
   ]
  },
  {
   "cell_type": "code",
   "execution_count": 4,
   "id": "820a0217",
   "metadata": {},
   "outputs": [
    {
     "name": "stdout",
     "output_type": "stream",
     "text": [
      "ali veli deli\n"
     ]
    }
   ],
   "source": [
    "space=\"\\tali veli deli\\t\"\n",
    "print(space.strip())"
   ]
  },
  {
   "cell_type": "code",
   "execution_count": 5,
   "id": "fc7812ab",
   "metadata": {},
   "outputs": [
    {
     "name": "stdout",
     "output_type": "stream",
     "text": [
      "75 yaşından büyük ve sigara bağımlısı mısınız? evet veya hayırevet\n",
      "True\n",
      "Kronik bir hastalığınız var mı? evet veya hayırevet\n",
      "True\n",
      "Bağışıklık sisteminiz çok mu zayıf? evet veya hayırevet\n",
      "True\n",
      "Covid için riskiniz yüksek: evet\n"
     ]
    }
   ],
   "source": [
    "age = input(\"75 yaşından büyük ve sigara bağımlısı mısınız? evet veya hayır\")\n",
    "if age == \"evet\":\n",
    "   print(True)\n",
    "else:\n",
    "   print(False)\n",
    "chronic = input(\"Kronik bir hastalığınız var mı? evet veya hayır\")\n",
    "if chronic == \"evet\":\n",
    "   print(True)\n",
    "else:\n",
    "   print(False)\n",
    "immune = input(\"Bağışıklık sisteminiz çok mu zayıf? evet veya hayır\")\n",
    "if immune == \"evet\":\n",
    "   print(True)\n",
    "else:\n",
    "   print(False)\n",
    "print(\"Covid için riskiniz yüksek: \" + str(age or chronic or immune))"
   ]
  },
  {
   "cell_type": "code",
   "execution_count": null,
   "id": "b06646a4",
   "metadata": {},
   "outputs": [],
   "source": [
    "Bugun baslangic olarak kolay bir soruyla baslayalim o zaman Cozumleri thread olarak yazabilirsiniz.\n",
    "Kullanicidan ismini soyismini alarak isminin bas harfi buyuk soyismininse tum harfleri buyuk olarak sekilde onu selamlayalim.\n",
    "Ornek:\n",
    "input -> isim -> 'omer'\n",
    "input -> soyisim -> 'karsli'\n",
    "output -> 'Merhaba Omer KARSLI. Aramiza hosgeldin'"
   ]
  },
  {
   "cell_type": "code",
   "execution_count": 7,
   "id": "fc240a0d",
   "metadata": {},
   "outputs": [
    {
     "name": "stdout",
     "output_type": "stream",
     "text": [
      "Adınız nedir? :enes\n",
      "Soyadınız nedir? :ünlü\n",
      "Merhaba Enes ÜNLÜ. Aramiza hosgeldin\n"
     ]
    }
   ],
   "source": [
    "ad = input(\"Adınız nedir? :\").title()\n",
    "soyad = input(\"Soyadınız nedir? :\").upper()\n",
    "\n",
    "print(\"Merhaba {} {}. Aramiza hosgeldin\".format (ad, soyad))"
   ]
  },
  {
   "cell_type": "code",
   "execution_count": 8,
   "id": "c899bfbf",
   "metadata": {},
   "outputs": [
    {
     "name": "stdout",
     "output_type": "stream",
     "text": [
      "LÜTFEN İSİM GİRİNİZ : enes\n",
      "LÜTFEN SOYİSMİNİZİ GİRİNİZ : ünlü\n",
      "Merhaba Enes ÜNLÜ. Aramıza Hoşgeldiniz!\n"
     ]
    }
   ],
   "source": [
    "isim = str(input(\"LÜTFEN İSİM GİRİNİZ : \"))\n",
    "soyisim = str(input(\"LÜTFEN SOYİSMİNİZİ GİRİNİZ : \"))\n",
    "print(f\"Merhaba {isim.title()} {soyisim.swapcase()}. Aramıza Hoşgeldiniz!\")"
   ]
  },
  {
   "cell_type": "code",
   "execution_count": 10,
   "id": "37b3d3e3",
   "metadata": {},
   "outputs": [
    {
     "name": "stdout",
     "output_type": "stream",
     "text": [
      "Adınız nedir? :enes\n",
      "Soyadınız nedir? :ünlü\n",
      "Merhaba Enes ÜNLÜ. Aramiza hosgeldin\n"
     ]
    }
   ],
   "source": [
    "ad = input(\"Adınız nedir? :\")\n",
    "soyad = input(\"Soyadınız nedir? :\")\n",
    "\n",
    "print(\"Merhaba {} {}. Aramiza hosgeldin\".format (ad.title(), soyad.upper()))"
   ]
  },
  {
   "cell_type": "code",
   "execution_count": 1,
   "id": "6fc13e3c",
   "metadata": {},
   "outputs": [
    {
     "data": {
      "text/plain": [
       "['2', '0', '2', '0', \"'\", 's', ' ', 'h', 'a', 'r', 'd']"
      ]
     },
     "execution_count": 1,
     "metadata": {},
     "output_type": "execute_result"
    }
   ],
   "source": [
    "yil = \"2020's hard\"\n",
    "list(yil)"
   ]
  },
  {
   "cell_type": "code",
   "execution_count": 4,
   "id": "2120a17e",
   "metadata": {},
   "outputs": [
    {
     "data": {
      "text/plain": [
       "['ali', 'veli', 'deli']"
      ]
     },
     "execution_count": 4,
     "metadata": {},
     "output_type": "execute_result"
    }
   ],
   "source": [
    "kardesler = [\"ali\", \"veli\"]\n",
    "kardesler.append(\"deli\")\n",
    "kardesler"
   ]
  },
  {
   "cell_type": "code",
   "execution_count": 7,
   "id": "a92d95a1",
   "metadata": {},
   "outputs": [
    {
     "data": {
      "text/plain": [
       "[1, 4, 7, 9, '9']"
      ]
     },
     "execution_count": 7,
     "metadata": {},
     "output_type": "execute_result"
    }
   ],
   "source": [
    "numbers = [1, 4, 7]\n",
    "numbers.append(9)\n",
    "numbers.append(\"9\")\n",
    "numbers"
   ]
  },
  {
   "cell_type": "code",
   "execution_count": 10,
   "id": "33718f75",
   "metadata": {},
   "outputs": [
    {
     "data": {
      "text/plain": [
       "[1, 4, 7, 9, '9', [1], [1], [1]]"
      ]
     },
     "execution_count": 10,
     "metadata": {},
     "output_type": "execute_result"
    }
   ],
   "source": [
    "numbers.append([1])\n",
    "numbers"
   ]
  },
  {
   "cell_type": "code",
   "execution_count": 23,
   "id": "3a5eb7ac",
   "metadata": {},
   "outputs": [
    {
     "data": {
      "text/plain": [
       "[1, 2, 3, 4]"
      ]
     },
     "execution_count": 23,
     "metadata": {},
     "output_type": "execute_result"
    }
   ],
   "source": [
    "list = []\n",
    "list.append(1)\n",
    "list.append(2)\n",
    "list.append(3)\n",
    "list.append(4)\n",
    "list"
   ]
  },
  {
   "cell_type": "code",
   "execution_count": 24,
   "id": "26cf8591",
   "metadata": {},
   "outputs": [
    {
     "ename": "TypeError",
     "evalue": "insert expected 2 arguments, got 1",
     "output_type": "error",
     "traceback": [
      "\u001b[1;31m---------------------------------------------------------------------------\u001b[0m",
      "\u001b[1;31mTypeError\u001b[0m                                 Traceback (most recent call last)",
      "\u001b[1;32m<ipython-input-24-d29eae4bf3cb>\u001b[0m in \u001b[0;36m<module>\u001b[1;34m\u001b[0m\n\u001b[1;32m----> 1\u001b[1;33m \u001b[0mlist\u001b[0m\u001b[1;33m.\u001b[0m\u001b[0minsert\u001b[0m\u001b[1;33m(\u001b[0m\u001b[1;36m1\u001b[0m\u001b[1;33m)\u001b[0m\u001b[1;33m\u001b[0m\u001b[1;33m\u001b[0m\u001b[0m\n\u001b[0m",
      "\u001b[1;31mTypeError\u001b[0m: insert expected 2 arguments, got 1"
     ]
    }
   ],
   "source": [
    "list.insert(1)"
   ]
  },
  {
   "cell_type": "code",
   "execution_count": 29,
   "id": "6246203f",
   "metadata": {},
   "outputs": [
    {
     "name": "stdout",
     "output_type": "stream",
     "text": [
      "[1, 2, 3, 4, 5]\n"
     ]
    }
   ],
   "source": [
    "list = [1,2,3,4]\n",
    "list.insert(5,5)\n",
    "print(list)"
   ]
  },
  {
   "cell_type": "code",
   "execution_count": 1,
   "id": "7eedf182",
   "metadata": {},
   "outputs": [
    {
     "data": {
      "text/plain": [
       "\"foo'bar\""
      ]
     },
     "execution_count": 1,
     "metadata": {},
     "output_type": "execute_result"
    }
   ],
   "source": [
    "'foo\\'bar'"
   ]
  },
  {
   "cell_type": "code",
   "execution_count": 2,
   "id": "ef8dd7df",
   "metadata": {},
   "outputs": [
    {
     "data": {
      "text/plain": [
       "\"foo'bar\""
      ]
     },
     "execution_count": 2,
     "metadata": {},
     "output_type": "execute_result"
    }
   ],
   "source": [
    "\"foo'bar\""
   ]
  },
  {
   "cell_type": "code",
   "execution_count": 3,
   "id": "0df74fb8",
   "metadata": {},
   "outputs": [
    {
     "ename": "SyntaxError",
     "evalue": "invalid syntax (<ipython-input-3-4ff579c6bbb0>, line 1)",
     "output_type": "error",
     "traceback": [
      "\u001b[1;36m  File \u001b[1;32m\"<ipython-input-3-4ff579c6bbb0>\"\u001b[1;36m, line \u001b[1;32m1\u001b[0m\n\u001b[1;33m    'foo'bar'\u001b[0m\n\u001b[1;37m         ^\u001b[0m\n\u001b[1;31mSyntaxError\u001b[0m\u001b[1;31m:\u001b[0m invalid syntax\n"
     ]
    }
   ],
   "source": [
    "'foo'bar'"
   ]
  },
  {
   "cell_type": "code",
   "execution_count": 4,
   "id": "f28a9f50",
   "metadata": {},
   "outputs": [
    {
     "data": {
      "text/plain": [
       "\"foo'bar\""
      ]
     },
     "execution_count": 4,
     "metadata": {},
     "output_type": "execute_result"
    }
   ],
   "source": [
    "\"\"\"foo'bar\"\"\""
   ]
  },
  {
   "cell_type": "code",
   "execution_count": 8,
   "id": "8dbe2c96",
   "metadata": {},
   "outputs": [
    {
     "ename": "NameError",
     "evalue": "name 'ali' is not defined",
     "output_type": "error",
     "traceback": [
      "\u001b[1;31m---------------------------------------------------------------------------\u001b[0m",
      "\u001b[1;31mNameError\u001b[0m                                 Traceback (most recent call last)",
      "\u001b[1;32m<ipython-input-8-96e04754d691>\u001b[0m in \u001b[0;36m<module>\u001b[1;34m\u001b[0m\n\u001b[1;32m----> 1\u001b[1;33m \u001b[0mname\u001b[0m \u001b[1;33m=\u001b[0m \u001b[0mali\u001b[0m\u001b[1;33m\u001b[0m\u001b[1;33m\u001b[0m\u001b[0m\n\u001b[0m",
      "\u001b[1;31mNameError\u001b[0m: name 'ali' is not defined"
     ]
    }
   ],
   "source": [
    "name = ali"
   ]
  },
  {
   "cell_type": "code",
   "execution_count": 9,
   "id": "419f35dd",
   "metadata": {},
   "outputs": [
    {
     "ename": "NameError",
     "evalue": "name 'name' is not defined",
     "output_type": "error",
     "traceback": [
      "\u001b[1;31m---------------------------------------------------------------------------\u001b[0m",
      "\u001b[1;31mNameError\u001b[0m                                 Traceback (most recent call last)",
      "\u001b[1;32m<ipython-input-9-a4854fe573ee>\u001b[0m in \u001b[0;36m<module>\u001b[1;34m\u001b[0m\n\u001b[1;32m----> 1\u001b[1;33m \u001b[0mmap\u001b[0m\u001b[1;33m(\u001b[0m\u001b[0mname\u001b[0m\u001b[1;33m)\u001b[0m\u001b[1;33m\u001b[0m\u001b[1;33m\u001b[0m\u001b[0m\n\u001b[0m",
      "\u001b[1;31mNameError\u001b[0m: name 'name' is not defined"
     ]
    }
   ],
   "source": [
    "map(name)"
   ]
  },
  {
   "cell_type": "code",
   "execution_count": 11,
   "id": "d49cc839",
   "metadata": {},
   "outputs": [
    {
     "name": "stdout",
     "output_type": "stream",
     "text": [
      "[11, 12, 13, 14, 15]\n"
     ]
    }
   ],
   "source": [
    "liste = [1,2,3,4,5]\n",
    "def topla(x):\n",
    "     return x+10\n",
    "sonuc = map(topla,liste)\n",
    "print(list(sonuc))"
   ]
  },
  {
   "cell_type": "code",
   "execution_count": 12,
   "id": "fbcc7eee",
   "metadata": {},
   "outputs": [
    {
     "data": {
      "text/plain": [
       "3.6"
      ]
     },
     "execution_count": 12,
     "metadata": {},
     "output_type": "execute_result"
    }
   ],
   "source": [
    "round(3.56, 1)"
   ]
  },
  {
   "cell_type": "code",
   "execution_count": 13,
   "id": "4e8b7587",
   "metadata": {},
   "outputs": [
    {
     "data": {
      "text/plain": [
       "4.0"
      ]
     },
     "execution_count": 13,
     "metadata": {},
     "output_type": "execute_result"
    }
   ],
   "source": [
    "round(3.56, 0)"
   ]
  },
  {
   "cell_type": "code",
   "execution_count": 14,
   "id": "90003bc0",
   "metadata": {},
   "outputs": [
    {
     "data": {
      "text/plain": [
       "3.57"
      ]
     },
     "execution_count": 14,
     "metadata": {},
     "output_type": "execute_result"
    }
   ],
   "source": [
    "round(3.566, 2)"
   ]
  },
  {
   "cell_type": "code",
   "execution_count": 22,
   "id": "c52d9ce2",
   "metadata": {},
   "outputs": [
    {
     "name": "stdout",
     "output_type": "stream",
     "text": [
      "'Merhaba Sayın Seyirciler'\n",
      "-277\n",
      "'şeker'\n",
      "'\\u015feker'\n"
     ]
    }
   ],
   "source": [
    "print(repr(\"Merhaba Sayın Seyirciler\")) \n",
    "print(repr(-277))\n",
    "print(repr(\"şeker\"))\n",
    "\n",
    "print(ascii('şeker'))"
   ]
  },
  {
   "cell_type": "code",
   "execution_count": 5,
   "id": "e2d613c4",
   "metadata": {},
   "outputs": [
    {
     "name": "stdout",
     "output_type": "stream",
     "text": [
      "1\n"
     ]
    }
   ],
   "source": [
    "print(\"xyyzxyzxzxyy\".count('yy', 2))"
   ]
  },
  {
   "cell_type": "code",
   "execution_count": 6,
   "id": "54cdd3e8",
   "metadata": {},
   "outputs": [
    {
     "name": "stdout",
     "output_type": "stream",
     "text": [
      "False\n"
     ]
    }
   ],
   "source": [
    "print(\"xyyzxyzxzxyy\".endswith(\"xyy\", 0, 2))"
   ]
  },
  {
   "cell_type": "code",
   "execution_count": null,
   "id": "4840fbed",
   "metadata": {},
   "outputs": [],
   "source": [
    "input -> 'Tabii ki telefon numaram 0555 555 55 55 bana bu numaradan istediginiz zaman ulasabilirsiniz'\n",
    "output -> '0555 555 55 55'"
   ]
  },
  {
   "cell_type": "code",
   "execution_count": 53,
   "id": "a8737e5d",
   "metadata": {},
   "outputs": [
    {
     "name": "stdout",
     "output_type": "stream",
     "text": [
      "Telefon numaranızı alabilir miyim?: ^Lütfen 05XX XXX XX XX formatında giriniz^0555 555 55 55\n",
      "0555 555 55 55 \n"
     ]
    }
   ],
   "source": [
    "value = str(input(\"Telefon numaranızı alabilir miyim?: ^Lütfen 05XX XXX XX XX formatında giriniz^\"))\n",
    "number = f\"Tabii ki telefon numaram {value} bana bu numaradan istediginiz zaman ulasabilirsiniz\"\n",
    "print(number[25:40])"
   ]
  },
  {
   "cell_type": "code",
   "execution_count": 6,
   "id": "9294e504",
   "metadata": {},
   "outputs": [
    {
     "name": "stdout",
     "output_type": "stream",
     "text": [
      "Yaşınız kaç?50\n",
      "Gerçekten 50 yaşında mısın?\n"
     ]
    }
   ],
   "source": [
    "yaş= input(\"Yaşınız kaç?\")\n",
    "print(\"Gerçekten\" , yaş, \"yaşında mısın?\")"
   ]
  },
  {
   "cell_type": "markdown",
   "id": "60c7e73b",
   "metadata": {},
   "source": [
    "# PYTHON 8. DERS"
   ]
  },
  {
   "cell_type": "code",
   "execution_count": 21,
   "id": "b2d04f2c",
   "metadata": {},
   "outputs": [
    {
     "name": "stdout",
     "output_type": "stream",
     "text": [
      "[['New York', 'London', 'Istanbul', 'Seoul', 'Sydney']]\n"
     ]
    },
    {
     "data": {
      "text/plain": [
       "1"
      ]
     },
     "execution_count": 21,
     "metadata": {},
     "output_type": "execute_result"
    }
   ],
   "source": [
    "city = ['New York', 'London', 'Istanbul', 'Seoul', 'Sydney']\n",
    "city_list = []\n",
    "city_list.append(city)\n",
    "print(city_list)\n",
    "len(city_list)"
   ]
  },
  {
   "cell_type": "code",
   "execution_count": 32,
   "id": "7ab6afc4",
   "metadata": {},
   "outputs": [
    {
     "name": "stdout",
     "output_type": "stream",
     "text": [
      "Istanbul\n"
     ]
    }
   ],
   "source": [
    "print(city_list[0][2])"
   ]
  },
  {
   "cell_type": "code",
   "execution_count": 33,
   "id": "ecf197e1",
   "metadata": {},
   "outputs": [
    {
     "name": "stdout",
     "output_type": "stream",
     "text": [
      "[['New York', 'London', 'Istanbul', 'Seoul', 'Sydney']]\n"
     ]
    }
   ],
   "source": [
    "print(city_list[0:2])"
   ]
  },
  {
   "cell_type": "code",
   "execution_count": 51,
   "id": "d66440c6",
   "metadata": {},
   "outputs": [
    {
     "data": {
      "text/plain": [
       "['one', 'two', 'tree']"
      ]
     },
     "execution_count": 51,
     "metadata": {},
     "output_type": "execute_result"
    }
   ],
   "source": [
    "mix_list = [1, [1, \"one\", 2, \"two\", 3, \"tree\"],4]\n",
    "mix_list[1][1:6:2]"
   ]
  },
  {
   "cell_type": "code",
   "execution_count": 56,
   "id": "f18c3c34",
   "metadata": {},
   "outputs": [
    {
     "data": {
      "text/plain": [
       "['one', 'two', 'tree']"
      ]
     },
     "execution_count": 56,
     "metadata": {},
     "output_type": "execute_result"
    }
   ],
   "source": [
    "mix_list = [1, [1, \"one\", 2, \"two\", 3, \"tree\"],4]\n",
    "mix_list[1][1::2]"
   ]
  },
  {
   "cell_type": "code",
   "execution_count": 65,
   "id": "832eddd8",
   "metadata": {},
   "outputs": [
    {
     "ename": "SyntaxError",
     "evalue": "invalid syntax (<ipython-input-65-436c33cc3c14>, line 2)",
     "output_type": "error",
     "traceback": [
      "\u001b[1;36m  File \u001b[1;32m\"<ipython-input-65-436c33cc3c14>\"\u001b[1;36m, line \u001b[1;32m2\u001b[0m\n\u001b[1;33m    print(name[::-1])\u001b[0m\n\u001b[1;37m    ^\u001b[0m\n\u001b[1;31mSyntaxError\u001b[0m\u001b[1;31m:\u001b[0m invalid syntax\n"
     ]
    }
   ],
   "source": [
    "name = list(range(1,11)\n",
    "print(name[::-1])"
   ]
  },
  {
   "cell_type": "markdown",
   "id": "76796804",
   "metadata": {},
   "source": [
    "# ÇALIŞMA"
   ]
  },
  {
   "cell_type": "code",
   "execution_count": 1,
   "id": "1a214efe",
   "metadata": {},
   "outputs": [
    {
     "name": "stdout",
     "output_type": "stream",
     "text": [
      "25\n"
     ]
    }
   ],
   "source": [
    "numbers = {}\n",
    "\n",
    "numbers['x'] = 12\n",
    "numbers['y'] = 4\n",
    "numbers.update({'z': 3})\n",
    "\n",
    "print(numbers['x'] + numbers['y'] + numbers['z']**2)"
   ]
  },
  {
   "cell_type": "code",
   "execution_count": 6,
   "id": "22804931",
   "metadata": {},
   "outputs": [
    {
     "data": {
      "text/plain": [
       "[1, 2, 3, 4, 5, 6, 7, 8, 9, 10]"
      ]
     },
     "execution_count": 6,
     "metadata": {},
     "output_type": "execute_result"
    }
   ],
   "source": [
    "atama = list(range(1,11))\n"
   ]
  },
  {
   "cell_type": "code",
   "execution_count": 1,
   "id": "60f112b8",
   "metadata": {},
   "outputs": [
    {
     "name": "stdout",
     "output_type": "stream",
     "text": [
      "0\n"
     ]
    }
   ],
   "source": [
    "print(\"xyyzxyzxzxyy\".count('xyy', 2, 11))"
   ]
  },
  {
   "cell_type": "code",
   "execution_count": 2,
   "id": "aa21faea",
   "metadata": {},
   "outputs": [
    {
     "name": "stdout",
     "output_type": "stream",
     "text": [
      "['ab', 'ef', 'gh', '']\n"
     ]
    }
   ],
   "source": [
    "print('abcdefcdghcd'.split('cd'))"
   ]
  },
  {
   "cell_type": "code",
   "execution_count": 6,
   "id": "252028e4",
   "metadata": {},
   "outputs": [
    {
     "data": {
      "text/plain": [
       "5"
      ]
     },
     "execution_count": 6,
     "metadata": {},
     "output_type": "execute_result"
    }
   ],
   "source": [
    "string = \"enes enes enes\"\n",
    "substring = \"enes\"\n",
    "string.find(substring, string.find(substring)+len(substring))"
   ]
  },
  {
   "cell_type": "code",
   "execution_count": 8,
   "id": "616fcbdd",
   "metadata": {},
   "outputs": [
    {
     "name": "stdout",
     "output_type": "stream",
     "text": [
      "enter a sentences: benim adım enes\n",
      "['benim', 'adım', 'enes']\n"
     ]
    }
   ],
   "source": [
    "a = input(\"enter a sentences: \")\n",
    "x = a.split()\n",
    "print(x)"
   ]
  },
  {
   "cell_type": "code",
   "execution_count": null,
   "id": "2532eff4",
   "metadata": {},
   "outputs": [],
   "source": []
  },
  {
   "cell_type": "code",
   "execution_count": 6,
   "id": "1029e654",
   "metadata": {},
   "outputs": [
    {
     "name": "stdout",
     "output_type": "stream",
     "text": [
      "['d', 'c', 'b', 'a', 3, 2, 1]\n"
     ]
    }
   ],
   "source": [
    "aList = [1, 2, 3, 'a', 'b', 'c', 'd']\n",
    "aList.reverse()\n",
    "print(aList)"
   ]
  },
  {
   "cell_type": "code",
   "execution_count": 7,
   "id": "0d6fe205",
   "metadata": {},
   "outputs": [
    {
     "name": "stdout",
     "output_type": "stream",
     "text": [
      "enter a sentences: benim adım enes\n",
      "['enes', 'adım', 'benim']\n"
     ]
    }
   ],
   "source": [
    "a = input(\"enter a sentences: \")\n",
    "x = a.split()\n",
    "x.reverse()\n",
    "print(x)"
   ]
  },
  {
   "cell_type": "code",
   "execution_count": null,
   "id": "cb91e2d9",
   "metadata": {},
   "outputs": [],
   "source": [
    "2-Write a Python program to sum of three given integers. \n",
    "However, if two values are equal sum will be zero."
   ]
  },
  {
   "cell_type": "code",
   "execution_count": 12,
   "id": "6b72da0a",
   "metadata": {},
   "outputs": [
    {
     "name": "stdout",
     "output_type": "stream",
     "text": [
      "1. Sayıyı giriniz :1\n",
      "2. Sayıyı giriniz :1\n",
      "3. Sayıyı giriniz :2\n",
      "0\n"
     ]
    }
   ],
   "source": [
    "sayi1 = int(input('1. Sayıyı giriniz :'))\n",
    "sayi2 = int(input('2. Sayıyı giriniz :'))\n",
    "sayi3 = int(input('3. Sayıyı giriniz :'))\n",
    "islem = sayi1 + sayi2 + sayi3\n",
    "if sayi1==sayi2:\n",
    "    print(\"0\")\n",
    "elif sayi1==sayi3:\n",
    "    print(\"0\")\n",
    "elif sayi2==sayi3:\n",
    "    print(\"0\")\n",
    "else:\n",
    "    print(islem)\n"
   ]
  },
  {
   "cell_type": "code",
   "execution_count": 14,
   "id": "0dc26935",
   "metadata": {},
   "outputs": [
    {
     "data": {
      "text/plain": [
       "True"
      ]
     },
     "execution_count": 14,
     "metadata": {},
     "output_type": "execute_result"
    }
   ],
   "source": [
    "sayi1==sayi2"
   ]
  },
  {
   "cell_type": "code",
   "execution_count": 15,
   "id": "4d8911e7",
   "metadata": {},
   "outputs": [
    {
     "name": "stdout",
     "output_type": "stream",
     "text": [
      "sayı15\n",
      "sayı26\n",
      "sayı38\n",
      "19\n"
     ]
    }
   ],
   "source": [
    "a = int(input(\"sayı1\"))\n",
    "b = int(input(\"sayı2\"))\n",
    "c = int(input(\"sayı3\"))\n",
    "işlem = a + b + c\n",
    "print(a != b and a != c and b != c and işlem or 0)"
   ]
  },
  {
   "cell_type": "code",
   "execution_count": 16,
   "id": "1a2e58de",
   "metadata": {},
   "outputs": [
    {
     "name": "stdout",
     "output_type": "stream",
     "text": [
      "sayı11\n",
      "sayı21\n",
      "sayı35\n",
      "0\n"
     ]
    }
   ],
   "source": [
    "a = int(input(\"sayı1 :\"))\n",
    "b = int(input(\"sayı2 :\"))\n",
    "c = int(input(\"sayı3 :\"))\n",
    "işlem = a + b + c\n",
    "print(a != b and a != c and b != c and işlem or 0)"
   ]
  },
  {
   "cell_type": "code",
   "execution_count": null,
   "id": "55735d62",
   "metadata": {},
   "outputs": [],
   "source": [
    "3-Write a Python program to sum of two given integers. However, if the sum is between 15 to 20 it will return"
   ]
  },
  {
   "cell_type": "code",
   "execution_count": 20,
   "id": "5ac670c9",
   "metadata": {},
   "outputs": [
    {
     "name": "stdout",
     "output_type": "stream",
     "text": [
      "1. Sayıyı giriniz :1\n",
      "2. Sayıyı giriniz :1\n",
      "0\n"
     ]
    }
   ],
   "source": [
    "sayi1 = int(input('1. Sayıyı giriniz :'))\n",
    "sayi2 = int(input('2. Sayıyı giriniz :'))\n",
    "if 15<= sayi1+sayi2 <= 20:\n",
    "    print(sayi1+sayi2)\n",
    "else :\n",
    "    print(0)"
   ]
  },
  {
   "cell_type": "code",
   "execution_count": null,
   "id": "cd8e9463",
   "metadata": {},
   "outputs": [],
   "source": [
    "4-Write a Python program that will return true if the two given integer values are equal or their sum or difference is 5"
   ]
  },
  {
   "cell_type": "code",
   "execution_count": 23,
   "id": "80498e7a",
   "metadata": {},
   "outputs": [
    {
     "name": "stdout",
     "output_type": "stream",
     "text": [
      "sayı1 :10\n",
      "sayı2 :10\n",
      "True\n"
     ]
    }
   ],
   "source": [
    "a = int(input(\"sayı1 :\"))\n",
    "b = int(input(\"sayı2 :\"))\n",
    "if a==b:\n",
    "    print(True)\n",
    "elif  a-b==5:\n",
    "    print(True)\n",
    "elif  b-a==5:\n",
    "    print(True)\n",
    "else:\n",
    "    print(False)"
   ]
  },
  {
   "cell_type": "code",
   "execution_count": 26,
   "id": "1b5a6984",
   "metadata": {},
   "outputs": [
    {
     "name": "stdout",
     "output_type": "stream",
     "text": [
      "[(195, 'New York'), (488, 'Alabama'), (142, 'Hawaii'), (626, 'Vermont'), (180, 'West Virginia')]\n"
     ]
    }
   ],
   "source": [
    "list1=[195, 488, 142, 626, 180]\n",
    "list2=[\"New York\", \"Alabama\", \"Hawaii\", \"Vermont\", \"West Virginia\"]\n",
    "new_list = list(zip(list1,list2))\n",
    "print(new_list)"
   ]
  },
  {
   "cell_type": "code",
   "execution_count": null,
   "id": "17ab241c",
   "metadata": {},
   "outputs": [],
   "source": []
  },
  {
   "cell_type": "code",
   "execution_count": null,
   "id": "703286d1",
   "metadata": {},
   "outputs": [],
   "source": []
  },
  {
   "cell_type": "code",
   "execution_count": 42,
   "id": "77521594",
   "metadata": {},
   "outputs": [
    {
     "name": "stdout",
     "output_type": "stream",
     "text": [
      "[(195, 'New York'), (488, 'Alabama'), (142, 'Hawaii'), (626, 'Vermont'), (180, 'West Virginia')]\n"
     ]
    }
   ],
   "source": [
    "new_list = [(list1[0],list2[0]), (list1[1],list2[1]), (list1[2],list2[2]), (list1[3],list2[3]), (list1[4],list2[4])]\n",
    "print(new_list)"
   ]
  },
  {
   "cell_type": "code",
   "execution_count": 6,
   "id": "d500bcb5",
   "metadata": {},
   "outputs": [
    {
     "ename": "IndentationError",
     "evalue": "expected an indented block (<ipython-input-6-56148e032f63>, line 4)",
     "output_type": "error",
     "traceback": [
      "\u001b[1;36m  File \u001b[1;32m\"<ipython-input-6-56148e032f63>\"\u001b[1;36m, line \u001b[1;32m4\u001b[0m\n\u001b[1;33m    print(\"döngü\")\u001b[0m\n\u001b[1;37m    ^\u001b[0m\n\u001b[1;31mIndentationError\u001b[0m\u001b[1;31m:\u001b[0m expected an indented block\n"
     ]
    }
   ],
   "source": [
    "my_list = [1, 2, 3, 5, 8, 9]\n",
    "a = 0\n",
    "while a < len(my_list):\n",
    "print(\"döngü\")\n",
    "a+=1"
   ]
  },
  {
   "cell_type": "code",
   "execution_count": null,
   "id": "618b9b4c",
   "metadata": {},
   "outputs": [],
   "source": []
  },
  {
   "cell_type": "code",
   "execution_count": null,
   "id": "f95b41c4",
   "metadata": {},
   "outputs": [],
   "source": []
  },
  {
   "cell_type": "code",
   "execution_count": null,
   "id": "c3bd5d01",
   "metadata": {},
   "outputs": [],
   "source": []
  }
 ],
 "metadata": {
  "kernelspec": {
   "display_name": "Python 3",
   "language": "python",
   "name": "python3"
  },
  "language_info": {
   "codemirror_mode": {
    "name": "ipython",
    "version": 3
   },
   "file_extension": ".py",
   "mimetype": "text/x-python",
   "name": "python",
   "nbconvert_exporter": "python",
   "pygments_lexer": "ipython3",
   "version": "3.8.8"
  }
 },
 "nbformat": 4,
 "nbformat_minor": 5
}
