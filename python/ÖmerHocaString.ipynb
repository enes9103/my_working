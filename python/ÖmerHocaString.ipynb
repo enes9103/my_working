{
 "cells": [
  {
   "cell_type": "markdown",
   "metadata": {},
   "source": [
    "# PYTHON STRING METHODS\n",
    "In this notebook you will find mostly used string methods.Enjoy!\n"
   ]
  },
  {
   "cell_type": "markdown",
   "metadata": {},
   "source": [
    "The order is alphabetical. Not the importance or frequency "
   ]
  },
  {
   "cell_type": "code",
   "execution_count": 1,
   "metadata": {},
   "outputs": [],
   "source": [
    "example = \"This is the test sentence to see the results of string methods.\""
   ]
  },
  {
   "cell_type": "markdown",
   "metadata": {},
   "source": [
    "## string.count() method\n",
    "count method may take 1,2 or 3 parameters. Returns the integer value of count."
   ]
  },
  {
   "cell_type": "markdown",
   "metadata": {},
   "source": [
    "first parameter -> the string to be counted <br>\n",
    "second parameter(optional) -> starting index <br>\n",
    "third parameter(optional) -> stop index "
   ]
  },
  {
   "cell_type": "code",
   "execution_count": 7,
   "metadata": {},
   "outputs": [
    {
     "data": {
      "text/plain": [
       "2"
      ]
     },
     "execution_count": 7,
     "metadata": {},
     "output_type": "execute_result"
    }
   ],
   "source": [
    "example.count('the') # This will count all the occurences of 'the'"
   ]
  },
  {
   "cell_type": "code",
   "execution_count": 9,
   "metadata": {},
   "outputs": [
    {
     "data": {
      "text/plain": [
       "1"
      ]
     },
     "execution_count": 9,
     "metadata": {},
     "output_type": "execute_result"
    }
   ],
   "source": [
    "example.count('the', 10) # This will count all occurences of 'the' after 10th(inclusive) index "
   ]
  },
  {
   "cell_type": "code",
   "execution_count": 10,
   "metadata": {},
   "outputs": [
    {
     "data": {
      "text/plain": [
       "0"
      ]
     },
     "execution_count": 10,
     "metadata": {},
     "output_type": "execute_result"
    }
   ],
   "source": [
    "example.count('the',0,10) # This will count all occurences of 'the' from 0(inclusive) to 10th(exclusive) index"
   ]
  },
  {
   "cell_type": "markdown",
   "metadata": {},
   "source": [
    "## string.endswith() method\n",
    "endswith method may take 1,2 or 3 parameters. Returns boolean."
   ]
  },
  {
   "cell_type": "markdown",
   "metadata": {},
   "source": [
    "first parameter -> the substring to be checked if the string is ending with this substring <br>\n",
    "second parameter(optional) -> starting index <br>\n",
    "third parameter(optional) -> stop index "
   ]
  },
  {
   "cell_type": "code",
   "execution_count": 11,
   "metadata": {},
   "outputs": [
    {
     "data": {
      "text/plain": [
       "True"
      ]
     },
     "execution_count": 11,
     "metadata": {},
     "output_type": "execute_result"
    }
   ],
   "source": [
    "# returns True because our sentence is ending with \"methods.\"  \n",
    "\n",
    "example.endswith('hods.') "
   ]
  },
  {
   "cell_type": "code",
   "execution_count": 14,
   "metadata": {},
   "outputs": [
    {
     "data": {
      "text/plain": [
       "True"
      ]
     },
     "execution_count": 14,
     "metadata": {},
     "output_type": "execute_result"
    }
   ],
   "source": [
    "# returns True because our sentence which is starting from index 20 to the end  is ending with \"methods.\"  \n",
    "#  which is meaningless :) because we are dealing with ending of the string \n",
    "example.endswith('hods.', 20) "
   ]
  },
  {
   "cell_type": "code",
   "execution_count": 18,
   "metadata": {},
   "outputs": [
    {
     "data": {
      "text/plain": [
       "False"
      ]
     },
     "execution_count": 18,
     "metadata": {},
     "output_type": "execute_result"
    }
   ],
   "source": [
    "# returns False because our sentence which is starting from index 20 to 25  is ending with \"tence\" not with 'hods.'   \n",
    "\n",
    "# example[20:25] = 'tence'\n",
    "\n",
    "example.endswith('hods.', 20, 25)"
   ]
  },
  {
   "cell_type": "markdown",
   "metadata": {},
   "source": [
    "## string.find() and string.rfind() methods\n",
    "find method may take 1,2 or 3 parameters.<br>\n",
    "Returns the index number of the first occurence of the given substr. If there are not any matches returns -1<br>\n",
    "find searches from left to right whereas rfind searches from right to left"
   ]
  },
  {
   "cell_type": "markdown",
   "metadata": {},
   "source": [
    "first parameter -> the substring to be searched <br>\n",
    "second parameter(optional) -> starting index <br>\n",
    "third parameter(optional) -> stop index "
   ]
  },
  {
   "cell_type": "code",
   "execution_count": 23,
   "metadata": {},
   "outputs": [
    {
     "data": {
      "text/plain": [
       "8"
      ]
     },
     "execution_count": 23,
     "metadata": {},
     "output_type": "execute_result"
    }
   ],
   "source": [
    "# looks for 'the' string and returns the index of first match.\n",
    "\n",
    "example.find('the')"
   ]
  },
  {
   "cell_type": "code",
   "execution_count": 24,
   "metadata": {},
   "outputs": [
    {
     "data": {
      "text/plain": [
       "33"
      ]
     },
     "execution_count": 24,
     "metadata": {},
     "output_type": "execute_result"
    }
   ],
   "source": [
    "# looks for 'the' string in the given slice and returns the index of first match.\n",
    "\n",
    "# in this case our searching action starts from 9th index.   \n",
    "example.find('the', 9)"
   ]
  },
  {
   "cell_type": "code",
   "execution_count": 26,
   "metadata": {},
   "outputs": [
    {
     "data": {
      "text/plain": [
       "-1"
      ]
     },
     "execution_count": 26,
     "metadata": {},
     "output_type": "execute_result"
    }
   ],
   "source": [
    "# looks for 'the' string in the given slice and returns the index of first match.\n",
    "\n",
    "# in this case our searching action starts from 9th index and ends on 12th(exclusive) index.\n",
    "#  since there are no matches between 9th and 12th index our result is -1\n",
    "example.find('the', 9, 12)"
   ]
  },
  {
   "cell_type": "code",
   "execution_count": 27,
   "metadata": {},
   "outputs": [
    {
     "data": {
      "text/plain": [
       "33"
      ]
     },
     "execution_count": 27,
     "metadata": {},
     "output_type": "execute_result"
    }
   ],
   "source": [
    "# looks for 'the' string from the end to the beginning and returns the index of first match.\n",
    "\n",
    "example.rfind('the')"
   ]
  },
  {
   "cell_type": "code",
   "execution_count": 28,
   "metadata": {},
   "outputs": [
    {
     "data": {
      "text/plain": [
       "33"
      ]
     },
     "execution_count": 28,
     "metadata": {},
     "output_type": "execute_result"
    }
   ],
   "source": [
    "# looks for 'the' substring in the string starting from 9th index to the end. Returns the index of first match.\n",
    "# which is meaningless because we are searching from the end :) Thats why we dont use this form so much.\n",
    "\n",
    "example.rfind('the', 9)"
   ]
  },
  {
   "cell_type": "code",
   "execution_count": 29,
   "metadata": {},
   "outputs": [
    {
     "data": {
      "text/plain": [
       "-1"
      ]
     },
     "execution_count": 29,
     "metadata": {},
     "output_type": "execute_result"
    }
   ],
   "source": [
    "# looks for 'the' string in the given slice and returns the index of first match.\n",
    "\n",
    "# in this case our searching action starts from 9th index and ends on 12th(exclusive) index.\n",
    "# since there are no matches between 9th and 12th index our result is -1\n",
    "example.rfind('the', 9, 12)"
   ]
  },
  {
   "cell_type": "markdown",
   "metadata": {},
   "source": [
    "#### Warning !!: <br>&emsp;When we are using rfind our starting index is not the last index.<br>&emsp;We first slice the given string and then search it from the end to the beginning.\n",
    "\n",
    "example.rfind('the', 12, 9) is not the right way to search from the right!"
   ]
  },
  {
   "cell_type": "markdown",
   "metadata": {},
   "source": [
    "## string.index() and string.rindex() methods\n",
    "index method may take 1,2 or 3 parameters.<br>\n",
    "Returns the index number of the first occurence of the given substr.<br>\n",
    "rindex searches from right to left.<br>\n",
    "The only difference between find and index methods is if there arent any matches; find method returns -1, index raises an exception<br>(We will discuss exceptions later. They are like errors)"
   ]
  },
  {
   "cell_type": "code",
   "execution_count": 33,
   "metadata": {},
   "outputs": [
    {
     "data": {
      "text/plain": [
       "8"
      ]
     },
     "execution_count": 33,
     "metadata": {},
     "output_type": "execute_result"
    }
   ],
   "source": [
    "# returns index of the first occurence.\n",
    "\n",
    "example.index('the')"
   ]
  },
  {
   "cell_type": "code",
   "execution_count": 32,
   "metadata": {},
   "outputs": [
    {
     "data": {
      "text/plain": [
       "33"
      ]
     },
     "execution_count": 32,
     "metadata": {},
     "output_type": "execute_result"
    }
   ],
   "source": [
    "# returns index of the first occurence in the given slice.\n",
    "\n",
    "example.index('the', 9)"
   ]
  },
  {
   "cell_type": "code",
   "execution_count": 36,
   "metadata": {},
   "outputs": [
    {
     "ename": "ValueError",
     "evalue": "substring not found",
     "output_type": "error",
     "traceback": [
      "\u001b[1;31m---------------------------------------------------------------------------\u001b[0m",
      "\u001b[1;31mValueError\u001b[0m                                Traceback (most recent call last)",
      "\u001b[1;32m<ipython-input-36-117c3f850219>\u001b[0m in \u001b[0;36m<module>\u001b[1;34m\u001b[0m\n\u001b[0;32m      2\u001b[0m \u001b[1;33m\u001b[0m\u001b[0m\n\u001b[0;32m      3\u001b[0m \u001b[1;31m# in this case there is no 'the' in the given slice. Therefore it raises an exception called ValueError\u001b[0m\u001b[1;33m\u001b[0m\u001b[1;33m\u001b[0m\u001b[1;33m\u001b[0m\u001b[0m\n\u001b[1;32m----> 4\u001b[1;33m \u001b[0mexample\u001b[0m\u001b[1;33m.\u001b[0m\u001b[0mindex\u001b[0m\u001b[1;33m(\u001b[0m\u001b[1;34m'the'\u001b[0m\u001b[1;33m,\u001b[0m \u001b[1;36m9\u001b[0m\u001b[1;33m,\u001b[0m \u001b[1;36m12\u001b[0m\u001b[1;33m)\u001b[0m\u001b[1;33m\u001b[0m\u001b[1;33m\u001b[0m\u001b[0m\n\u001b[0m",
      "\u001b[1;31mValueError\u001b[0m: substring not found"
     ]
    }
   ],
   "source": [
    "# returns index of the first occurence in the given slice.\n",
    "# in this case there is no 'the' in the given slice. Therefore it raises an exception called ValueError\n",
    "\n",
    "example.index('the', 9, 12)"
   ]
  },
  {
   "cell_type": "markdown",
   "metadata": {},
   "source": [
    "## string.isdigit(), string.isdecimal(), string.isnumeric() string.islower() and string.isupper() methods"
   ]
  },
  {
   "cell_type": "markdown",
   "metadata": {},
   "source": [
    "These methods check all the characters in the string. <br>They dont have parameters<br>Returns boolean<br>There are very small differences<br>between isdigit isdecimal and isnumeric. We can use any of them to check if the string contains only numbers.   "
   ]
  },
  {
   "cell_type": "code",
   "execution_count": 42,
   "metadata": {},
   "outputs": [
    {
     "name": "stdout",
     "output_type": "stream",
     "text": [
      "True\n",
      "False\n"
     ]
    }
   ],
   "source": [
    "# returns true if all characters are numbers\n",
    "print('354'.isdigit())\n",
    "print('354abc'.isdigit())"
   ]
  },
  {
   "cell_type": "code",
   "execution_count": 46,
   "metadata": {},
   "outputs": [
    {
     "name": "stdout",
     "output_type": "stream",
     "text": [
      "True\n",
      "True\n"
     ]
    }
   ],
   "source": [
    "# returns true if all 'alphabetic' characters are lowercase.\n",
    "print('omer'.islower())\n",
    "\n",
    "# There are numbers inside 'omer123' but all alphabets are lowercase. Therefore returns true\n",
    "print('omer123'.islower())"
   ]
  },
  {
   "cell_type": "code",
   "execution_count": 48,
   "metadata": {},
   "outputs": [
    {
     "name": "stdout",
     "output_type": "stream",
     "text": [
      "False\n",
      "True\n"
     ]
    }
   ],
   "source": [
    "# returns true if all 'alphabetic' characters are uppercase.\n",
    "print('Omer'.isupper())\n",
    "\n",
    "# There are numbers inside 'omer123' but all alphabets are uppercase. Therefore returns true\n",
    "print('OMER123'.isupper())"
   ]
  },
  {
   "cell_type": "markdown",
   "metadata": {},
   "source": [
    "## string.join() method\n",
    "\n",
    "This is one of the most used methods in python.<br>\n",
    "Takes one iterable parameter. (list, tuple, string etc.)<br>\n",
    "returs the joined(concatenated) string.<br>\n",
    "string keyword may confuse us so lets call it seperator.join(iterable)<br>\n",
    "elements of the iterable must be type of string"
   ]
  },
  {
   "cell_type": "code",
   "execution_count": 50,
   "metadata": {},
   "outputs": [
    {
     "data": {
      "text/plain": [
       "'11-10-1999'"
      ]
     },
     "execution_count": 50,
     "metadata": {},
     "output_type": "execute_result"
    }
   ],
   "source": [
    "# joins all the elements in the iterable by concatenating them with seperator.\n",
    "\n",
    "birthday = (\"11\",\"10\",\"1999\")\n",
    "seperator = '-'\n",
    "seperator.join(birthday)"
   ]
  },
  {
   "cell_type": "code",
   "execution_count": 51,
   "metadata": {},
   "outputs": [
    {
     "data": {
      "text/plain": [
       "'11-10-1999'"
      ]
     },
     "execution_count": 51,
     "metadata": {},
     "output_type": "execute_result"
    }
   ],
   "source": [
    "# we dont have to define a seperator as we use it just once so the best practice is\n",
    "\n",
    "'-'.join(birthday)"
   ]
  },
  {
   "cell_type": "markdown",
   "metadata": {},
   "source": [
    "## string.lower() and string.upper() methods\n",
    "\n",
    "We use these methods to ignore cases while comparing strings<br>\n",
    "takes no parameter.<br>\n",
    "returns the manipulated string."
   ]
  },
  {
   "cell_type": "code",
   "execution_count": 54,
   "metadata": {},
   "outputs": [
    {
     "name": "stdout",
     "output_type": "stream",
     "text": [
      "Enter your name: OmEr\n",
      "True\n",
      "Enter your name: omer\n",
      "True\n"
     ]
    }
   ],
   "source": [
    "# for example we ask a user to enter their name. They can do this with fully uppercase or lowercase or combined.\n",
    "# 'omer', 'Omer', 'OMER'\n",
    "\n",
    "user_input = input(\"Enter your name: \")\n",
    "expected = 'omer'\n",
    "print(user_input.lower() == expected)\n",
    "\n",
    "# or\n",
    "\n",
    "user_input = input(\"Enter your name: \")\n",
    "expected = 'OMER'\n",
    "print(user_input.upper() == expected)"
   ]
  },
  {
   "cell_type": "markdown",
   "metadata": {},
   "source": [
    "## string.strip(), string.lstrip(), string.rstrip() methods\n",
    "\n",
    "These methods remove trailing characters.<br>\n",
    "strip removes from both sides<br>\n",
    "rstrip removes from right<br>\n",
    "lstrip removes from left<br>\n",
    "takes one optional parameter which is the characters to be removed.<br>\n",
    "If no parameter provided removes whitespaces."
   ]
  },
  {
   "cell_type": "code",
   "execution_count": 57,
   "metadata": {},
   "outputs": [
    {
     "data": {
      "text/plain": [
       "'test'"
      ]
     },
     "execution_count": 57,
     "metadata": {},
     "output_type": "execute_result"
    }
   ],
   "source": [
    "# the order doesnt matter it checks the characters\n",
    "\n",
    "# it doesnt remove e in 'test' because it is not trailing it is inside the string\n",
    "# we can think strip as cutting the string from beginning and end until\n",
    "# we see a character which is not in the string we provided as a parameter\n",
    "'deftestdef'.strip('fde')"
   ]
  },
  {
   "cell_type": "code",
   "execution_count": 60,
   "metadata": {},
   "outputs": [
    {
     "name": "stdout",
     "output_type": "stream",
     "text": [
      "hello\n",
      "    \n",
      "\t          hello\n"
     ]
    },
    {
     "data": {
      "text/plain": [
       "'hello     \\t\\n           '"
      ]
     },
     "execution_count": 60,
     "metadata": {},
     "output_type": "execute_result"
    }
   ],
   "source": [
    "# \\t \\n ' ' are whitespace characters\n",
    "# without a parameter strip removes the trailing whitespaces \n",
    "\n",
    "print('    \\n\\t          hello     \\t\\n           '.strip())\n",
    "print('    \\n\\t          hello     \\t\\n           '.rstrip())\n",
    "'    \\n\\t          hello     \\t\\n           '.lstrip()"
   ]
  },
  {
   "cell_type": "markdown",
   "metadata": {},
   "source": [
    "## string.replace() method\n",
    "\n",
    "replace can take 2 or 3 parameters.<br>\n",
    "first parameter -> old string<br>\n",
    "second parameter -> new string<br>\n",
    "third parameter(optional) -> number of replacements (if not provided replaces all occurences)"
   ]
  },
  {
   "cell_type": "code",
   "execution_count": 61,
   "metadata": {},
   "outputs": [],
   "source": [
    "string = 'hahahaha'"
   ]
  },
  {
   "cell_type": "code",
   "execution_count": 62,
   "metadata": {},
   "outputs": [
    {
     "data": {
      "text/plain": [
       "'hehehehe'"
      ]
     },
     "execution_count": 62,
     "metadata": {},
     "output_type": "execute_result"
    }
   ],
   "source": [
    "# replaces all the occurences if no count is provided \n",
    "\n",
    "string.replace('a','e')"
   ]
  },
  {
   "cell_type": "code",
   "execution_count": 63,
   "metadata": {},
   "outputs": [
    {
     "data": {
      "text/plain": [
       "'hehahaha'"
      ]
     },
     "execution_count": 63,
     "metadata": {},
     "output_type": "execute_result"
    }
   ],
   "source": [
    "# replaces the number of occurences from the beginning when count provided\n",
    "string.replace('a', 'e', 1)"
   ]
  },
  {
   "cell_type": "code",
   "execution_count": 64,
   "metadata": {},
   "outputs": [
    {
     "data": {
      "text/plain": [
       "'hahahaha'"
      ]
     },
     "execution_count": 64,
     "metadata": {},
     "output_type": "execute_result"
    }
   ],
   "source": [
    "# if there are no occurences returns same string\n",
    "\n",
    "string.replace('i', 'e')"
   ]
  },
  {
   "cell_type": "code",
   "execution_count": 65,
   "metadata": {},
   "outputs": [
    {
     "data": {
      "text/plain": [
       "'I am twenty three years old'"
      ]
     },
     "execution_count": 65,
     "metadata": {},
     "output_type": "execute_result"
    }
   ],
   "source": [
    "# for example we want to convert a number in a string to its spelling\n",
    "ex = 'I am 23 years old'\n",
    "ex = ex.replace('23', 'twenty three')\n",
    "ex\n",
    "\n",
    "# first we used replace method to change the number and then save it on the same string.\n",
    "# By doing this we changed the string permanently not for once.\n",
    "# We will do this kind of operations so be prepared :)   "
   ]
  },
  {
   "cell_type": "markdown",
   "metadata": {},
   "source": [
    "## string.split() and string.rsplit() methods\n",
    "\n",
    "returns a list which is seperated from the given string<br>\n",
    "They can take 0, 1 or 2 parameters<br>\n",
    "if no parameter is provided ->default splitter is space character<br>\n",
    "first parameter(optional) -> splitter<br>\n",
    "second parameter(optional) -> max split count<br>\n",
    "split and rsplit does the same operation if no count specified.<br>\n",
    "we can think split as opposite of join method<br><br>\n",
    "\n",
    "list -> join() -> string<br>\n",
    "string -> split() -> list"
   ]
  },
  {
   "cell_type": "code",
   "execution_count": 66,
   "metadata": {},
   "outputs": [],
   "source": [
    "split_string = 'omer, emir, safa, rana'"
   ]
  },
  {
   "cell_type": "code",
   "execution_count": 69,
   "metadata": {},
   "outputs": [
    {
     "data": {
      "text/plain": [
       "['omer,', 'emir,', 'safa,', 'rana']"
      ]
     },
     "execution_count": 69,
     "metadata": {},
     "output_type": "execute_result"
    }
   ],
   "source": [
    "# string is splitted by space characters default and as we see space characters are removed while seperation.\n",
    "split_string.split()"
   ]
  },
  {
   "cell_type": "code",
   "execution_count": 71,
   "metadata": {},
   "outputs": [
    {
     "data": {
      "text/plain": [
       "['omer', 'emir', 'safa', 'rana']"
      ]
     },
     "execution_count": 71,
     "metadata": {},
     "output_type": "execute_result"
    }
   ],
   "source": [
    "#  I want comma(',') and spaces to be removed so I assign ', ' as splitter\n",
    "split_string.split(', ')"
   ]
  },
  {
   "cell_type": "code",
   "execution_count": 72,
   "metadata": {},
   "outputs": [
    {
     "name": "stdout",
     "output_type": "stream",
     "text": [
      "['omer', 'emir, safa, rana']\n",
      "['omer, emir, safa', 'rana']\n"
     ]
    }
   ],
   "source": [
    "# now I provide the count number. This will help us to figure out the differences between split and rsplit\n",
    "\n",
    "# split with count\n",
    "print(split_string.split(', ', 1))\n",
    "\n",
    "# rsplit with count\n",
    "print(split_string.rsplit(', ', 1))\n",
    "\n",
    "# as we see split is seperating from left whereas rsplit is seperating from right.\n",
    "# without count, they are doing the same operation."
   ]
  },
  {
   "cell_type": "markdown",
   "metadata": {},
   "source": [
    "## string.splitline() method\n",
    "\n",
    "splitline is the special form of split<br>\n",
    "as we understand from its name it is splitting the string from newline characters('\\n')<br>\n",
    "so we can see string.splitline() is the same with string.split('\\n')<br>\n",
    "the only difference is we can keep the newline splitter by passing a parameter"
   ]
  },
  {
   "cell_type": "code",
   "execution_count": 77,
   "metadata": {},
   "outputs": [],
   "source": [
    "split_string = \"Hi\\nMy name is Omer\\nI am 23 years old\\nAnd I am a mentor at Clarusway\"\n"
   ]
  },
  {
   "cell_type": "code",
   "execution_count": 80,
   "metadata": {},
   "outputs": [
    {
     "data": {
      "text/plain": [
       "['Hi',\n",
       " 'My name is Omer',\n",
       " 'I am 23 years old',\n",
       " 'And I am a mentor at Clarusway']"
      ]
     },
     "execution_count": 80,
     "metadata": {},
     "output_type": "execute_result"
    }
   ],
   "source": [
    "# same operation with split_string.split('\\n')\n",
    "\n",
    "split_string.splitlines()"
   ]
  },
  {
   "cell_type": "code",
   "execution_count": 81,
   "metadata": {},
   "outputs": [
    {
     "data": {
      "text/plain": [
       "['Hi\\n',\n",
       " 'My name is Omer\\n',\n",
       " 'I am 23 years old\\n',\n",
       " 'And I am a mentor at Clarusway']"
      ]
     },
     "execution_count": 81,
     "metadata": {},
     "output_type": "execute_result"
    }
   ],
   "source": [
    "# this is the difference between split\n",
    "# we can use keepends=True to keep '\\n' characters\n",
    "\n",
    "split_string.splitlines(keepends=True)"
   ]
  },
  {
   "cell_type": "markdown",
   "metadata": {},
   "source": [
    "## string.startswith() method\n",
    "\n",
    "opposite of endswith method<br>\n",
    "returns boolean<br>\n",
    "may take 1,2,3 parameters<br>\n",
    "first parameter -> substring to be checked<br>\n",
    "second parameter -> start index<br> \n",
    "third parameter -> stop index "
   ]
  },
  {
   "cell_type": "code",
   "execution_count": 82,
   "metadata": {},
   "outputs": [],
   "source": [
    "string = 'My name is Omer'\n"
   ]
  },
  {
   "cell_type": "code",
   "execution_count": 83,
   "metadata": {},
   "outputs": [
    {
     "data": {
      "text/plain": [
       "True"
      ]
     },
     "execution_count": 83,
     "metadata": {},
     "output_type": "execute_result"
    }
   ],
   "source": [
    "# returns true \n",
    "\n",
    "string.startswith('My')"
   ]
  },
  {
   "cell_type": "code",
   "execution_count": 84,
   "metadata": {},
   "outputs": [
    {
     "data": {
      "text/plain": [
       "False"
      ]
     },
     "execution_count": 84,
     "metadata": {},
     "output_type": "execute_result"
    }
   ],
   "source": [
    "# returns false because it is case sensitive\n",
    "\n",
    "string.startswith('my')"
   ]
  },
  {
   "cell_type": "code",
   "execution_count": 85,
   "metadata": {},
   "outputs": [
    {
     "data": {
      "text/plain": [
       "False"
      ]
     },
     "execution_count": 85,
     "metadata": {},
     "output_type": "execute_result"
    }
   ],
   "source": [
    "# returns false because we specified the start index.\n",
    "\n",
    "string.startswith('My', 2)"
   ]
  },
  {
   "cell_type": "code",
   "execution_count": 86,
   "metadata": {},
   "outputs": [
    {
     "data": {
      "text/plain": [
       "False"
      ]
     },
     "execution_count": 86,
     "metadata": {},
     "output_type": "execute_result"
    }
   ],
   "source": [
    "# returns false because we specified the start index.\n",
    "\n",
    "# which is meaningless because we are only checking the starting of the string \n",
    "\n",
    "string.startswith('My', 2, 10)"
   ]
  },
  {
   "cell_type": "code",
   "execution_count": 87,
   "metadata": {},
   "outputs": [
    {
     "name": "stdout",
     "output_type": "stream",
     "text": [
      "False\n",
      "False\n"
     ]
    }
   ],
   "source": [
    "# by the way if you feel confused with slicing, indexing\n",
    "# these are the same\n",
    "# use the one which you feel comfortable with\n",
    "\n",
    "print(string.startswith('My',2,10))\n",
    "\n",
    "print(string[2:10].startswith('My'))"
   ]
  },
  {
   "cell_type": "code",
   "execution_count": 3,
   "metadata": {},
   "outputs": [
    {
     "ename": "SyntaxError",
     "evalue": "expression cannot contain assignment, perhaps you meant \"==\"? (<ipython-input-3-dde6f6357e6a>, line 1)",
     "output_type": "error",
     "traceback": [
      "\u001b[1;36m  File \u001b[1;32m\"<ipython-input-3-dde6f6357e6a>\"\u001b[1;36m, line \u001b[1;32m1\u001b[0m\n\u001b[1;33m    dict(\"1\" = \"bir\")\u001b[0m\n\u001b[1;37m         ^\u001b[0m\n\u001b[1;31mSyntaxError\u001b[0m\u001b[1;31m:\u001b[0m expression cannot contain assignment, perhaps you meant \"==\"?\n"
     ]
    }
   ],
   "source": [
    "dict(\"1\" = \"bir\")"
   ]
  }
 ],
 "metadata": {
  "kernelspec": {
   "display_name": "Python 3",
   "language": "python",
   "name": "python3"
  },
  "language_info": {
   "codemirror_mode": {
    "name": "ipython",
    "version": 3
   },
   "file_extension": ".py",
   "mimetype": "text/x-python",
   "name": "python",
   "nbconvert_exporter": "python",
   "pygments_lexer": "ipython3",
   "version": "3.8.8"
  }
 },
 "nbformat": 4,
 "nbformat_minor": 4
}
