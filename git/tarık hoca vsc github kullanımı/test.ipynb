{
 "cells": [
  {
   "cell_type": "code",
   "execution_count": 3,
   "metadata": {},
   "outputs": [
    {
     "name": "stdout",
     "output_type": "stream",
     "text": [
      "Requirement already satisfied: GitPython in c:\\users\\tarik\\anaconda3\\lib\\site-packages (3.1.24)\n",
      "Requirement already satisfied: gitdb<5,>=4.0.1 in c:\\users\\tarik\\anaconda3\\lib\\site-packages (from GitPython) (4.0.9)\n",
      "Requirement already satisfied: typing-extensions>=3.7.4.3 in c:\\users\\tarik\\anaconda3\\lib\\site-packages (from GitPython) (3.10.0.2)\n",
      "Requirement already satisfied: smmap<6,>=3.0.1 in c:\\users\\tarik\\anaconda3\\lib\\site-packages (from gitdb<5,>=4.0.1->GitPython) (5.0.0)\n",
      "Note: you may need to restart the kernel to use updated packages.\n"
     ]
    }
   ],
   "source": [
    "pip install GitPython"
   ]
  },
  {
   "cell_type": "code",
   "execution_count": 3,
   "metadata": {},
   "outputs": [],
   "source": [
    "import git"
   ]
  },
  {
   "cell_type": "code",
   "execution_count": 4,
   "metadata": {},
   "outputs": [],
   "source": [
    "from git import Repo"
   ]
  },
  {
   "cell_type": "code",
   "execution_count": 5,
   "metadata": {},
   "outputs": [
    {
     "ename": "GitCommandError",
     "evalue": "Cmd('git') failed due to: exit code(128)\n  cmdline: git clone -v https://github.com/tariksitki/29.12.21.git c:/Users/Tarik/OneDrive/Desktop/29.12.21/workshop\n  stderr: 'fatal: destination path 'c:/Users/Tarik/OneDrive/Desktop/29.12.21/workshop' already exists and is not an empty directory.\n'",
     "output_type": "error",
     "traceback": [
      "\u001b[1;31m---------------------------------------------------------------------------\u001b[0m",
      "\u001b[1;31mGitCommandError\u001b[0m                           Traceback (most recent call last)",
      "\u001b[1;32m~\\AppData\\Local\\Temp/ipykernel_10128/3867722837.py\u001b[0m in \u001b[0;36m<module>\u001b[1;34m\u001b[0m\n\u001b[1;32m----> 1\u001b[1;33m \u001b[0mRepo\u001b[0m\u001b[1;33m.\u001b[0m\u001b[0mclone_from\u001b[0m\u001b[1;33m(\u001b[0m\u001b[1;34m\"https://github.com/tariksitki/29.12.21.git\"\u001b[0m\u001b[1;33m,\u001b[0m \u001b[1;34m\"c:/Users/Tarik/OneDrive/Desktop/29.12.21/workshop\"\u001b[0m\u001b[1;33m)\u001b[0m\u001b[1;33m\u001b[0m\u001b[1;33m\u001b[0m\u001b[0m\n\u001b[0m",
      "\u001b[1;32m~\\anaconda3\\lib\\site-packages\\git\\repo\\base.py\u001b[0m in \u001b[0;36mclone_from\u001b[1;34m(cls, url, to_path, progress, env, multi_options, **kwargs)\u001b[0m\n\u001b[0;32m   1146\u001b[0m         \u001b[1;32mif\u001b[0m \u001b[0menv\u001b[0m \u001b[1;32mis\u001b[0m \u001b[1;32mnot\u001b[0m \u001b[1;32mNone\u001b[0m\u001b[1;33m:\u001b[0m\u001b[1;33m\u001b[0m\u001b[1;33m\u001b[0m\u001b[0m\n\u001b[0;32m   1147\u001b[0m             \u001b[0mgit\u001b[0m\u001b[1;33m.\u001b[0m\u001b[0mupdate_environment\u001b[0m\u001b[1;33m(\u001b[0m\u001b[1;33m**\u001b[0m\u001b[0menv\u001b[0m\u001b[1;33m)\u001b[0m\u001b[1;33m\u001b[0m\u001b[1;33m\u001b[0m\u001b[0m\n\u001b[1;32m-> 1148\u001b[1;33m         \u001b[1;32mreturn\u001b[0m \u001b[0mcls\u001b[0m\u001b[1;33m.\u001b[0m\u001b[0m_clone\u001b[0m\u001b[1;33m(\u001b[0m\u001b[0mgit\u001b[0m\u001b[1;33m,\u001b[0m \u001b[0murl\u001b[0m\u001b[1;33m,\u001b[0m \u001b[0mto_path\u001b[0m\u001b[1;33m,\u001b[0m \u001b[0mGitCmdObjectDB\u001b[0m\u001b[1;33m,\u001b[0m \u001b[0mprogress\u001b[0m\u001b[1;33m,\u001b[0m \u001b[0mmulti_options\u001b[0m\u001b[1;33m,\u001b[0m \u001b[1;33m**\u001b[0m\u001b[0mkwargs\u001b[0m\u001b[1;33m)\u001b[0m\u001b[1;33m\u001b[0m\u001b[1;33m\u001b[0m\u001b[0m\n\u001b[0m\u001b[0;32m   1149\u001b[0m \u001b[1;33m\u001b[0m\u001b[0m\n\u001b[0;32m   1150\u001b[0m     def archive(self, ostream: Union[TextIO, BinaryIO], treeish: Optional[str] = None,\n",
      "\u001b[1;32m~\\anaconda3\\lib\\site-packages\\git\\repo\\base.py\u001b[0m in \u001b[0;36m_clone\u001b[1;34m(cls, git, url, path, odb_default_type, progress, multi_options, **kwargs)\u001b[0m\n\u001b[0;32m   1084\u001b[0m \u001b[1;33m\u001b[0m\u001b[0m\n\u001b[0;32m   1085\u001b[0m             \u001b[0mlog\u001b[0m\u001b[1;33m.\u001b[0m\u001b[0mdebug\u001b[0m\u001b[1;33m(\u001b[0m\u001b[1;34m\"Cmd(%s)'s unused stdout: %s\"\u001b[0m\u001b[1;33m,\u001b[0m \u001b[0mcmdline\u001b[0m\u001b[1;33m,\u001b[0m \u001b[0mstdout\u001b[0m\u001b[1;33m)\u001b[0m\u001b[1;33m\u001b[0m\u001b[1;33m\u001b[0m\u001b[0m\n\u001b[1;32m-> 1086\u001b[1;33m             \u001b[0mfinalize_process\u001b[0m\u001b[1;33m(\u001b[0m\u001b[0mproc\u001b[0m\u001b[1;33m,\u001b[0m \u001b[0mstderr\u001b[0m\u001b[1;33m=\u001b[0m\u001b[0mstderr\u001b[0m\u001b[1;33m)\u001b[0m\u001b[1;33m\u001b[0m\u001b[1;33m\u001b[0m\u001b[0m\n\u001b[0m\u001b[0;32m   1087\u001b[0m \u001b[1;33m\u001b[0m\u001b[0m\n\u001b[0;32m   1088\u001b[0m         \u001b[1;31m# our git command could have a different working dir than our actual\u001b[0m\u001b[1;33m\u001b[0m\u001b[1;33m\u001b[0m\u001b[0m\n",
      "\u001b[1;32m~\\anaconda3\\lib\\site-packages\\git\\util.py\u001b[0m in \u001b[0;36mfinalize_process\u001b[1;34m(proc, **kwargs)\u001b[0m\n\u001b[0;32m    384\u001b[0m     \u001b[1;34m\"\"\"Wait for the process (clone, fetch, pull or push) and handle its errors accordingly\"\"\"\u001b[0m\u001b[1;33m\u001b[0m\u001b[1;33m\u001b[0m\u001b[0m\n\u001b[0;32m    385\u001b[0m     \u001b[1;31m# TODO: No close proc-streams??\u001b[0m\u001b[1;33m\u001b[0m\u001b[1;33m\u001b[0m\u001b[0m\n\u001b[1;32m--> 386\u001b[1;33m     \u001b[0mproc\u001b[0m\u001b[1;33m.\u001b[0m\u001b[0mwait\u001b[0m\u001b[1;33m(\u001b[0m\u001b[1;33m**\u001b[0m\u001b[0mkwargs\u001b[0m\u001b[1;33m)\u001b[0m\u001b[1;33m\u001b[0m\u001b[1;33m\u001b[0m\u001b[0m\n\u001b[0m\u001b[0;32m    387\u001b[0m \u001b[1;33m\u001b[0m\u001b[0m\n\u001b[0;32m    388\u001b[0m \u001b[1;33m\u001b[0m\u001b[0m\n",
      "\u001b[1;32m~\\anaconda3\\lib\\site-packages\\git\\cmd.py\u001b[0m in \u001b[0;36mwait\u001b[1;34m(self, stderr)\u001b[0m\n\u001b[0;32m    499\u001b[0m                 \u001b[0merrstr\u001b[0m \u001b[1;33m=\u001b[0m \u001b[0mread_all_from_possibly_closed_stream\u001b[0m\u001b[1;33m(\u001b[0m\u001b[0mp_stderr\u001b[0m\u001b[1;33m)\u001b[0m\u001b[1;33m\u001b[0m\u001b[1;33m\u001b[0m\u001b[0m\n\u001b[0;32m    500\u001b[0m                 \u001b[0mlog\u001b[0m\u001b[1;33m.\u001b[0m\u001b[0mdebug\u001b[0m\u001b[1;33m(\u001b[0m\u001b[1;34m'AutoInterrupt wait stderr: %r'\u001b[0m \u001b[1;33m%\u001b[0m \u001b[1;33m(\u001b[0m\u001b[0merrstr\u001b[0m\u001b[1;33m,\u001b[0m\u001b[1;33m)\u001b[0m\u001b[1;33m)\u001b[0m\u001b[1;33m\u001b[0m\u001b[1;33m\u001b[0m\u001b[0m\n\u001b[1;32m--> 501\u001b[1;33m                 \u001b[1;32mraise\u001b[0m \u001b[0mGitCommandError\u001b[0m\u001b[1;33m(\u001b[0m\u001b[0mremove_password_if_present\u001b[0m\u001b[1;33m(\u001b[0m\u001b[0mself\u001b[0m\u001b[1;33m.\u001b[0m\u001b[0margs\u001b[0m\u001b[1;33m)\u001b[0m\u001b[1;33m,\u001b[0m \u001b[0mstatus\u001b[0m\u001b[1;33m,\u001b[0m \u001b[0merrstr\u001b[0m\u001b[1;33m)\u001b[0m\u001b[1;33m\u001b[0m\u001b[1;33m\u001b[0m\u001b[0m\n\u001b[0m\u001b[0;32m    502\u001b[0m             \u001b[1;32mreturn\u001b[0m \u001b[0mstatus\u001b[0m\u001b[1;33m\u001b[0m\u001b[1;33m\u001b[0m\u001b[0m\n\u001b[0;32m    503\u001b[0m \u001b[1;33m\u001b[0m\u001b[0m\n",
      "\u001b[1;31mGitCommandError\u001b[0m: Cmd('git') failed due to: exit code(128)\n  cmdline: git clone -v https://github.com/tariksitki/29.12.21.git c:/Users/Tarik/OneDrive/Desktop/29.12.21/workshop\n  stderr: 'fatal: destination path 'c:/Users/Tarik/OneDrive/Desktop/29.12.21/workshop' already exists and is not an empty directory.\n'"
     ]
    }
   ],
   "source": [
    "Repo.clone_from(\"https://github.com/tariksitki/29.12.21.git\", \"c:/Users/Tarik/OneDrive/Desktop/29.12.21/workshop\")"
   ]
  },
  {
   "cell_type": "code",
   "execution_count": 6,
   "metadata": {},
   "outputs": [],
   "source": [
    "repo = git.Repo(\"c:/Users/Tarik/OneDrive/Desktop/29.12.21/workshop\")"
   ]
  },
  {
   "cell_type": "code",
   "execution_count": 11,
   "metadata": {},
   "outputs": [
    {
     "data": {
      "text/plain": [
       "'* main'"
      ]
     },
     "execution_count": 11,
     "metadata": {},
     "output_type": "execute_result"
    }
   ],
   "source": [
    "repo.git.branch()"
   ]
  },
  {
   "cell_type": "code",
   "execution_count": 13,
   "metadata": {},
   "outputs": [
    {
     "data": {
      "text/plain": [
       "'* main'"
      ]
     },
     "execution_count": 13,
     "metadata": {},
     "output_type": "execute_result"
    }
   ],
   "source": [
    "repo.git.execute(\"git branch\")"
   ]
  },
  {
   "cell_type": "code",
   "execution_count": 12,
   "metadata": {},
   "outputs": [
    {
     "data": {
      "text/plain": [
       "\"On branch main\\nYour branch is up to date with 'origin/main'.\\n\\nnothing to commit, working tree clean\""
      ]
     },
     "execution_count": 12,
     "metadata": {},
     "output_type": "execute_result"
    }
   ],
   "source": [
    "repo.git.status()"
   ]
  },
  {
   "cell_type": "code",
   "execution_count": 15,
   "metadata": {},
   "outputs": [
    {
     "data": {
      "text/plain": [
       "'origin\\thttps://github.com/tariksitki/29.12.21.git (fetch)\\norigin\\thttps://github.com/tariksitki/29.12.21.git (push)'"
      ]
     },
     "execution_count": 15,
     "metadata": {},
     "output_type": "execute_result"
    }
   ],
   "source": [
    "repo.git.execute(\"git remote -v\")"
   ]
  },
  {
   "cell_type": "code",
   "execution_count": 16,
   "metadata": {},
   "outputs": [
    {
     "data": {
      "text/plain": [
       "'origin\\thttps://github.com/tariksitki/29.12.21.git (fetch)\\norigin\\thttps://github.com/tariksitki/29.12.21.git (push)'"
      ]
     },
     "execution_count": 16,
     "metadata": {},
     "output_type": "execute_result"
    }
   ],
   "source": [
    "repo.git.remote(\"-v\")"
   ]
  },
  {
   "cell_type": "code",
   "execution_count": 17,
   "metadata": {},
   "outputs": [
    {
     "data": {
      "text/plain": [
       "\"diff.astextplain.textconv=astextplain\\nfilter.lfs.clean=git-lfs clean -- %f\\nfilter.lfs.smudge=git-lfs smudge -- %f\\nfilter.lfs.process=git-lfs filter-process\\nfilter.lfs.required=true\\nhttp.sslbackend=openssl\\nhttp.sslcainfo=C:/Program Files/Git/mingw64/ssl/certs/ca-bundle.crt\\ncore.autocrlf=true\\ncore.fscache=true\\ncore.symlinks=false\\npull.rebase=false\\ncredential.helper=manager-core\\ncredential.https://dev.azure.com.usehttppath=true\\ninit.defaultbranch=master\\nuser.name='tariksitki'\\nuser.email='tariksitki0119@gmail.com'\\ncore.editor='Vim'\\ncore.repositoryformatversion=0\\ncore.filemode=false\\ncore.bare=false\\ncore.logallrefupdates=true\\ncore.symlinks=false\\ncore.ignorecase=true\\nremote.origin.url=https://github.com/tariksitki/29.12.21.git\\nremote.origin.fetch=+refs/heads/*:refs/remotes/origin/*\\nbranch.main.remote=origin\\nbranch.main.merge=refs/heads/main\""
      ]
     },
     "execution_count": 17,
     "metadata": {},
     "output_type": "execute_result"
    }
   ],
   "source": [
    "repo.git.execute(\"git config --list\")"
   ]
  },
  {
   "cell_type": "code",
   "execution_count": 18,
   "metadata": {},
   "outputs": [
    {
     "data": {
      "text/plain": [
       "\"diff.astextplain.textconv=astextplain\\nfilter.lfs.clean=git-lfs clean -- %f\\nfilter.lfs.smudge=git-lfs smudge -- %f\\nfilter.lfs.process=git-lfs filter-process\\nfilter.lfs.required=true\\nhttp.sslbackend=openssl\\nhttp.sslcainfo=C:/Program Files/Git/mingw64/ssl/certs/ca-bundle.crt\\ncore.autocrlf=true\\ncore.fscache=true\\ncore.symlinks=false\\npull.rebase=false\\ncredential.helper=manager-core\\ncredential.https://dev.azure.com.usehttppath=true\\ninit.defaultbranch=master\\nuser.name='tariksitki'\\nuser.email='tariksitki0119@gmail.com'\\ncore.editor='Vim'\\ncore.repositoryformatversion=0\\ncore.filemode=false\\ncore.bare=false\\ncore.logallrefupdates=true\\ncore.symlinks=false\\ncore.ignorecase=true\\nremote.origin.url=https://github.com/tariksitki/29.12.21.git\\nremote.origin.fetch=+refs/heads/*:refs/remotes/origin/*\\nbranch.main.remote=origin\\nbranch.main.merge=refs/heads/main\""
      ]
     },
     "execution_count": 18,
     "metadata": {},
     "output_type": "execute_result"
    }
   ],
   "source": [
    "repo.git.config(\"--list\")"
   ]
  },
  {
   "cell_type": "code",
   "execution_count": 7,
   "metadata": {},
   "outputs": [
    {
     "data": {
      "text/plain": [
       "''"
      ]
     },
     "execution_count": 7,
     "metadata": {},
     "output_type": "execute_result"
    }
   ],
   "source": [
    "repo.git.add(\".\")"
   ]
  },
  {
   "cell_type": "code",
   "execution_count": 8,
   "metadata": {},
   "outputs": [
    {
     "data": {
      "text/plain": [
       "'[main 105a43e] ..\\n 1 file changed, 1 insertion(+)\\n create mode 100644 test.txt'"
      ]
     },
     "execution_count": 8,
     "metadata": {},
     "output_type": "execute_result"
    }
   ],
   "source": [
    "repo.git.commit(m = \"..\")"
   ]
  },
  {
   "cell_type": "code",
   "execution_count": 10,
   "metadata": {},
   "outputs": [
    {
     "data": {
      "text/plain": [
       "'105a43e ..\\n52a8467 Delete test.txt\\n3cbfa4b Delete test.py\\n518b4ac Create test.py\\nb9cd8e2 Create test.txt\\na5dd2f7 Initial commit'"
      ]
     },
     "execution_count": 10,
     "metadata": {},
     "output_type": "execute_result"
    }
   ],
   "source": [
    "repo.git.log(\"--oneline\")"
   ]
  },
  {
   "cell_type": "code",
   "execution_count": 11,
   "metadata": {},
   "outputs": [
    {
     "data": {
      "text/plain": [
       "'* main'"
      ]
     },
     "execution_count": 11,
     "metadata": {},
     "output_type": "execute_result"
    }
   ],
   "source": [
    "repo.git.branch()"
   ]
  },
  {
   "cell_type": "code",
   "execution_count": 12,
   "metadata": {},
   "outputs": [
    {
     "data": {
      "text/plain": [
       "''"
      ]
     },
     "execution_count": 12,
     "metadata": {},
     "output_type": "execute_result"
    }
   ],
   "source": [
    "repo.git.push(\"origin main\")"
   ]
  },
  {
   "cell_type": "code",
   "execution_count": 13,
   "metadata": {},
   "outputs": [
    {
     "data": {
      "text/plain": [
       "'origin\\thttps://github.com/tariksitki/29.12.21.git (fetch)\\norigin\\thttps://github.com/tariksitki/29.12.21.git (push)'"
      ]
     },
     "execution_count": 13,
     "metadata": {},
     "output_type": "execute_result"
    }
   ],
   "source": [
    "repo.git.remote(\"-v\")"
   ]
  },
  {
   "cell_type": "code",
   "execution_count": null,
   "metadata": {},
   "outputs": [],
   "source": [
    "repo.git.execute(\"git push origin main\")"
   ]
  },
  {
   "cell_type": "code",
   "execution_count": null,
   "metadata": {},
   "outputs": [],
   "source": []
  },
  {
   "cell_type": "code",
   "execution_count": null,
   "metadata": {},
   "outputs": [],
   "source": []
  },
  {
   "cell_type": "code",
   "execution_count": null,
   "metadata": {},
   "outputs": [],
   "source": []
  },
  {
   "cell_type": "code",
   "execution_count": null,
   "metadata": {},
   "outputs": [],
   "source": []
  },
  {
   "cell_type": "code",
   "execution_count": null,
   "metadata": {},
   "outputs": [],
   "source": []
  },
  {
   "cell_type": "code",
   "execution_count": null,
   "metadata": {},
   "outputs": [],
   "source": []
  }
 ],
 "metadata": {
  "interpreter": {
   "hash": "205ebc6e661cf95ff298b30efdbf628936f7c5ad8f1067278b4824b5bf30a331"
  },
  "kernelspec": {
   "display_name": "Python 3.9.7 64-bit ('base': conda)",
   "language": "python",
   "name": "python3"
  },
  "language_info": {
   "codemirror_mode": {
    "name": "ipython",
    "version": 3
   },
   "file_extension": ".py",
   "mimetype": "text/x-python",
   "name": "python",
   "nbconvert_exporter": "python",
   "pygments_lexer": "ipython3",
   "version": "3.9.7"
  },
  "orig_nbformat": 4
 },
 "nbformat": 4,
 "nbformat_minor": 2
}
